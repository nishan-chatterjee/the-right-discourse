{
 "cells": [
  {
   "cell_type": "code",
   "execution_count": 136,
   "metadata": {},
   "outputs": [
    {
     "data": {
      "text/plain": [
       "[\"John Denham can't bring himself to admit immigration is too high. If Labour can't do that, this 'apology' is meaningless.\",\n",
       " 'Just raised issue in HofC of support for Syrian refugees in Turkey, with Foreign Sec, encouraging response with financial support.',\n",
       " 'We made a clear promise to the British public ... this gov would reduce and control immigration - Home Secretary ',\n",
       " '‘We’re delivering on our promise to control immigration’ – Home Secretary Theresa May ',\n",
       " 'In her speech today the Home Secretary addressed some common misconceptions about immigration ']"
      ]
     },
     "execution_count": 136,
     "metadata": {},
     "output_type": "execute_result"
    }
   ],
   "source": [
    "import pandas as pd\n",
    "import html\n",
    "import re\n",
    "\n",
    "# Define the data type for column 14 as 'str'\n",
    "dtype_options_UK = {14: 'str'}\n",
    "# Set options to display all rows and remove ellipsis for cell content\n",
    "pd.set_option('display.max_rows', None)  # Show all rows\n",
    "pd.set_option('display.max_columns', None)  # Show all columns\n",
    "pd.set_option('display.max_colwidth', None)  # Show full text in columns\n",
    "pd.set_option('display.expand_frame_repr', False)  # Prevent wrapping\n",
    "\n",
    "# Load the CSV file into a Pandas DataFrame with specified data types\n",
    "df_UK = pd.read_csv('data/UK-R-migr-RA-twit-meta-2012-2022.csv', dtype=dtype_options_UK)\n",
    "\n",
    "# if data__id is NaN, then drop the row\n",
    "# this helps to remove the rows that are not tweets and were used as segmentations in the original dataset\n",
    "df_UK = df_UK.dropna(subset=['data__id'])\n",
    "\n",
    "# reinitialize the index of the dataframe\n",
    "df_UK = df_UK.reset_index(drop=True)\n",
    "\n",
    "# columns of the dataframe to keep\n",
    "keep_columns = ['data__id', 'data__text', 'data__lang', 'data__created_at', 'author__username', 'data__public_metrics__retweet_count',\n",
    "                'data__public_metrics__reply_count', 'data__public_metrics__like_count', 'data__public_metrics__quote_count', 'data__source', 'data__entities__urls__unwound_url']\n",
    "\n",
    "# Creating a new dataframe with only the columns we want\n",
    "df_UK = df_UK[keep_columns]\n",
    "\n",
    "# Define a function to perform the required operations on each text string\n",
    "def preprocess_text(text):\n",
    "    # Remove http or https or www link if present\n",
    "    text = re.sub(r'https?://\\S+|www\\.\\S+', '', text)\n",
    "    # Remove \"RT <str>: \" or \"RT <string>:\" if present\n",
    "    text = re.sub(r'^RT\\s.*?:\\s*', '', text)\n",
    "    return text\n",
    "    \n",
    "# additionally, create a new column with the data__text cleaned from URLs\n",
    "df_UK['data__text_without_links'] = df_UK['data__text'].apply(preprocess_text)\n",
    "    \n",
    "# convert the dataframe to datetime\n",
    "df_UK['data__created_at'] = pd.to_datetime(df_UK['data__created_at'])\n",
    "\n",
    "# rearrange the columns to the following order\n",
    "rearrange_columns = ['data__id', 'data__text', 'data__text_without_links', 'data__entities__urls__unwound_url', 'data__lang', 'data__created_at', 'author__username',\n",
    "         'data__public_metrics__retweet_count', 'data__public_metrics__reply_count', 'data__public_metrics__like_count', 'data__public_metrics__quote_count', 'data__source']\n",
    "df_UK = df_UK[rearrange_columns]\n",
    "\n",
    "# Remove rows where 'data__text_without_links' is NaN or an empty string\n",
    "df_UK = df_UK.dropna(subset=['data__text_without_links'])\n",
    "df_UK = df_UK[df_UK['data__text_without_links'] != '']\n",
    "df_UK = df_UK[df_UK['data__text_without_links'] != ' ']\n",
    "\n",
    "# load the 'data__text_without_links' from the UK dataset as docs_UK\n",
    "docs_UK = [html.unescape(tweet) for tweet in df_UK['data__text_without_links'].tolist()]\n",
    "\n",
    "\"\"\" for each @username or @user_name in the tweets, replace it with the string 'Username' or 'User Name'\"\"\"\n",
    "def replace_at_mentions(sentence):\n",
    "    # Define a regular expression pattern to match @ followed by one or more word characters\n",
    "    pattern = r'@(\\w+)'\n",
    "\n",
    "    # Define a function to replace each match with its capitalized version with spaces\n",
    "    def replace(match):\n",
    "        return ' '.join(word.capitalize() for word in match.group(1).split('_'))\n",
    "\n",
    "    # Use re.sub to perform the replacement\n",
    "    replaced_sentence = re.sub(pattern, replace, sentence)\n",
    "\n",
    "    return replaced_sentence\n",
    "\n",
    "# Apply the function to each tweet in the dataset\n",
    "docs_UK = [replace_at_mentions(tweet) for tweet in docs_UK]\n",
    "\n",
    "docs_UK[:5]"
   ]
  },
  {
   "cell_type": "code",
   "execution_count": 2,
   "metadata": {},
   "outputs": [],
   "source": [
    "# save the docs to a file\n",
    "with open('data/docs_UK.txt', 'w', encoding='utf-8') as filehandle:\n",
    "    for listitem in docs_UK:\n",
    "        filehandle.write('%s\\n' % listitem)"
   ]
  },
  {
   "cell_type": "code",
   "execution_count": 3,
   "metadata": {},
   "outputs": [
    {
     "name": "stderr",
     "output_type": "stream",
     "text": [
      "100%|██████████| 6461/6461 [04:45<00:00, 22.66it/s]\n"
     ]
    }
   ],
   "source": [
    "import pandas as pd\n",
    "from tqdm import tqdm\n",
    "from span_marker import SpanMarkerModel\n",
    "\n",
    "# Download from the 🤗 Hub\n",
    "ner_model = SpanMarkerModel.from_pretrained(\"tomaarsen/span-marker-mbert-base-multinerd\")\n",
    "# put the model on the GPU\n",
    "ner_model = ner_model.to('cuda')\n",
    "\n",
    "# create a list to store the results\n",
    "ner_data = []\n",
    "\n",
    "# iterate over the tweets and store the results in the list\n",
    "for tweet in tqdm(docs_UK):\n",
    "    ner_results = ner_model.predict(tweet)\n",
    "    for entity in ner_results:\n",
    "        ner_data.append({\n",
    "            'tweet': tweet,\n",
    "            'label': entity['label'],\n",
    "            'score': entity['score'],\n",
    "            'word': entity['span'],\n",
    "            'start': entity['char_start_index'],\n",
    "            'end': entity['char_end_index']\n",
    "        })\n",
    "\n",
    "# create a DataFrame from the list\n",
    "df_ner = pd.DataFrame(ner_data)\n",
    "\n",
    "# drop the rows where the word is more than two words\n",
    "df_ner = df_ner[df_ner['word'].str.split().str.len() <= 2]\n",
    "\n",
    "# save it in a csv file\n",
    "df_ner.to_csv('data/UK-R-migr-RA-twit-meta-2012-2022-ner.csv', index=False)"
   ]
  },
  {
   "cell_type": "code",
   "execution_count": 4,
   "metadata": {},
   "outputs": [
    {
     "data": {
      "text/html": [
       "<div>\n",
       "<style scoped>\n",
       "    .dataframe tbody tr th:only-of-type {\n",
       "        vertical-align: middle;\n",
       "    }\n",
       "\n",
       "    .dataframe tbody tr th {\n",
       "        vertical-align: top;\n",
       "    }\n",
       "\n",
       "    .dataframe thead th {\n",
       "        text-align: right;\n",
       "    }\n",
       "</style>\n",
       "<table border=\"1\" class=\"dataframe\">\n",
       "  <thead>\n",
       "    <tr style=\"text-align: right;\">\n",
       "      <th></th>\n",
       "      <th>tweet</th>\n",
       "      <th>label</th>\n",
       "      <th>score</th>\n",
       "      <th>word</th>\n",
       "      <th>start</th>\n",
       "      <th>end</th>\n",
       "    </tr>\n",
       "  </thead>\n",
       "  <tbody>\n",
       "    <tr>\n",
       "      <th>0</th>\n",
       "      <td>John Denham can't bring himself to admit immigration is too high. If Labour can't do that, this 'apology' is meaningless.</td>\n",
       "      <td>PER</td>\n",
       "      <td>0.999952</td>\n",
       "      <td>John Denham</td>\n",
       "      <td>0</td>\n",
       "      <td>11</td>\n",
       "    </tr>\n",
       "    <tr>\n",
       "      <th>1</th>\n",
       "      <td>John Denham can't bring himself to admit immigration is too high. If Labour can't do that, this 'apology' is meaningless.</td>\n",
       "      <td>ORG</td>\n",
       "      <td>0.998431</td>\n",
       "      <td>Labour</td>\n",
       "      <td>69</td>\n",
       "      <td>75</td>\n",
       "    </tr>\n",
       "    <tr>\n",
       "      <th>2</th>\n",
       "      <td>Just raised issue in HofC of support for Syrian refugees in Turkey, with Foreign Sec, encouraging response with financial support.</td>\n",
       "      <td>LOC</td>\n",
       "      <td>0.998696</td>\n",
       "      <td>Turkey</td>\n",
       "      <td>60</td>\n",
       "      <td>66</td>\n",
       "    </tr>\n",
       "    <tr>\n",
       "      <th>3</th>\n",
       "      <td>Just raised issue in HofC of support for Syrian refugees in Turkey, with Foreign Sec, encouraging response with financial support.</td>\n",
       "      <td>ORG</td>\n",
       "      <td>0.984956</td>\n",
       "      <td>Foreign Sec</td>\n",
       "      <td>73</td>\n",
       "      <td>84</td>\n",
       "    </tr>\n",
       "    <tr>\n",
       "      <th>4</th>\n",
       "      <td>We made a clear promise to the British public ... this gov would reduce and control immigration - Home Secretary</td>\n",
       "      <td>LOC</td>\n",
       "      <td>0.874309</td>\n",
       "      <td>British</td>\n",
       "      <td>31</td>\n",
       "      <td>38</td>\n",
       "    </tr>\n",
       "    <tr>\n",
       "      <th>5</th>\n",
       "      <td>‘We’re delivering on our promise to control immigration’ – Home Secretary Theresa May</td>\n",
       "      <td>PER</td>\n",
       "      <td>0.999986</td>\n",
       "      <td>Theresa May</td>\n",
       "      <td>74</td>\n",
       "      <td>85</td>\n",
       "    </tr>\n",
       "    <tr>\n",
       "      <th>6</th>\n",
       "      <td>In her speech today the Home Secretary addressed some common misconceptions about immigration</td>\n",
       "      <td>PER</td>\n",
       "      <td>0.515802</td>\n",
       "      <td>Home Secretary</td>\n",
       "      <td>24</td>\n",
       "      <td>38</td>\n",
       "    </tr>\n",
       "    <tr>\n",
       "      <th>7</th>\n",
       "      <td>Home Sec:'We’ve taken action across the board.  We’ve capped economic migration, reformed family visas, &amp; cut out abuse of student route.'</td>\n",
       "      <td>ORG</td>\n",
       "      <td>0.975605</td>\n",
       "      <td>Home Sec</td>\n",
       "      <td>0</td>\n",
       "      <td>8</td>\n",
       "    </tr>\n",
       "    <tr>\n",
       "      <th>8</th>\n",
       "      <td>Read Home Secretary Theresa May’s speech: 'An Immigration System that Works in the National Interest'</td>\n",
       "      <td>PER</td>\n",
       "      <td>0.999978</td>\n",
       "      <td>Theresa May</td>\n",
       "      <td>20</td>\n",
       "      <td>31</td>\n",
       "    </tr>\n",
       "    <tr>\n",
       "      <th>9</th>\n",
       "      <td>How we are reducing net migration</td>\n",
       "      <td>ANIM</td>\n",
       "      <td>0.587485</td>\n",
       "      <td>net migration</td>\n",
       "      <td>20</td>\n",
       "      <td>33</td>\n",
       "    </tr>\n",
       "  </tbody>\n",
       "</table>\n",
       "</div>"
      ],
      "text/plain": [
       "                                                                                                                                        tweet label     score            word  start  end\n",
       "0                   John Denham can't bring himself to admit immigration is too high. If Labour can't do that, this 'apology' is meaningless.   PER  0.999952     John Denham      0   11\n",
       "1                   John Denham can't bring himself to admit immigration is too high. If Labour can't do that, this 'apology' is meaningless.   ORG  0.998431          Labour     69   75\n",
       "2          Just raised issue in HofC of support for Syrian refugees in Turkey, with Foreign Sec, encouraging response with financial support.   LOC  0.998696          Turkey     60   66\n",
       "3          Just raised issue in HofC of support for Syrian refugees in Turkey, with Foreign Sec, encouraging response with financial support.   ORG  0.984956     Foreign Sec     73   84\n",
       "4                           We made a clear promise to the British public ... this gov would reduce and control immigration - Home Secretary    LOC  0.874309         British     31   38\n",
       "5                                                      ‘We’re delivering on our promise to control immigration’ – Home Secretary Theresa May    PER  0.999986     Theresa May     74   85\n",
       "6                                              In her speech today the Home Secretary addressed some common misconceptions about immigration    PER  0.515802  Home Secretary     24   38\n",
       "7  Home Sec:'We’ve taken action across the board.  We’ve capped economic migration, reformed family visas, & cut out abuse of student route.'   ORG  0.975605        Home Sec      0    8\n",
       "8                                     Read Home Secretary Theresa May’s speech: 'An Immigration System that Works in the National Interest'     PER  0.999978     Theresa May     20   31\n",
       "9                                                                                                          How we are reducing net migration   ANIM  0.587485   net migration     20   33"
      ]
     },
     "execution_count": 4,
     "metadata": {},
     "output_type": "execute_result"
    }
   ],
   "source": [
    "df_ner.head(10)"
   ]
  },
  {
   "cell_type": "code",
   "execution_count": 5,
   "metadata": {},
   "outputs": [
    {
     "data": {
      "text/plain": [
       "array(['PER', 'ORG', 'LOC', 'ANIM', 'DIS', 'TIME', 'FOOD', 'EVE', 'MEDIA',\n",
       "       'CEL', 'MYTH', 'VEHI', 'PLANT', 'INST'], dtype=object)"
      ]
     },
     "execution_count": 5,
     "metadata": {},
     "output_type": "execute_result"
    }
   ],
   "source": [
    "# find the unique labels\n",
    "df_ner['label'].unique()"
   ]
  },
  {
   "cell_type": "code",
   "execution_count": 6,
   "metadata": {},
   "outputs": [],
   "source": [
    "# Create a dictionary to store the counts of each word for each entity group\n",
    "def unique_entities(df_ner):\n",
    "    # Step 1: Create a list of unique labels\n",
    "    unique_labels = df_ner['label'].unique()\n",
    "\n",
    "    # Step 2 & 3: Create a nested dictionary to store unique words and their counts for each label\n",
    "    label_word_counts = {}\n",
    "    for label in unique_labels:\n",
    "        # Filter the DataFrame for the current label\n",
    "        label_df = df_ner[df_ner['label'] == label]\n",
    "        # Get unique words for the current label\n",
    "        unique_words = label_df['word'].unique()\n",
    "        # Initialize dictionary to store word counts for the current label\n",
    "        word_counts = {}\n",
    "        # Iterate over unique words for the current label\n",
    "        for word in unique_words:\n",
    "            # Count occurrences of the word for the current label\n",
    "            count = label_df[label_df['word'] == word]['tweet'].nunique()\n",
    "            # Add the word and its count to the dictionary\n",
    "            word_counts[word] = count\n",
    "        # Add the dictionary of word counts to the nested dictionary with the label as key\n",
    "        label_word_counts[label] = word_counts\n",
    "\n",
    "    # drop the word keys from the dict if they contain only one character\n",
    "    for label, word_counts in label_word_counts.items():\n",
    "        label_word_counts[label] = {word: count for word, count in word_counts.items() if len(word) > 1}\n",
    "\n",
    "    return label_word_counts\n",
    "\n",
    "# check if any substring of the word is present in the keys of the dict, if yes, then add the count to the longer word\n",
    "def merge_substrings(entity_group_dict):\n",
    "    # Create a new dictionary to store the updated counts\n",
    "    updated_entity_group_dict = {}\n",
    "    # Iterate over each entity group dictionary\n",
    "    for entity_group, entity_dict in entity_group_dict.items():\n",
    "        # Initialize a new dictionary to store updated counts for this entity group\n",
    "        updated_entity_dict = {}\n",
    "        # Get the list of keys\n",
    "        keys = list(entity_dict.keys())\n",
    "        # Iterate over each key\n",
    "        for key1 in keys:\n",
    "            # Initialize the count for this key\n",
    "            count = entity_dict[key1]\n",
    "            # Check if the key is at least 2 characters long\n",
    "            if len(key1) >= 2:\n",
    "                # Check if the key is a substring of any other key\n",
    "                for key2 in keys:\n",
    "                    if key1 != key2 and len(key2) > len(key1) and key1 in key2:\n",
    "                        # Add the count of string1 to string2\n",
    "                        count += entity_dict[key1]\n",
    "                        break  # Exit the loop once a match is found to avoid redundant comparisons\n",
    "            # Add the key and its updated count to the updated entity dictionary\n",
    "            updated_entity_dict[key1] = count\n",
    "        # Add the updated entity dictionary to the updated entity_group_dict\n",
    "        updated_entity_group_dict[entity_group] = updated_entity_dict\n",
    "\n",
    "    return updated_entity_group_dict\n",
    "\n",
    "# Update the entity_group_dict\n",
    "entity_group_dict = merge_substrings(unique_entities(df_ner))\n"
   ]
  },
  {
   "cell_type": "code",
   "execution_count": 7,
   "metadata": {},
   "outputs": [
    {
     "data": {
      "image/png": "[encoded data removed]",
      "text/plain": [
       "<Figure size 1500x1000 with 6 Axes>"
      ]
     },
     "metadata": {},
     "output_type": "display_data"
    }
   ],
   "source": [
    "import matplotlib.pyplot as plt\n",
    "\n",
    "# Title mappings\n",
    "title_mappings = {'PER': 'Person', 'ORG': 'Organization', 'MEDIA': 'Media', 'LOC': 'Location', 'EVE': 'Event', 'TIME': 'Time'}\n",
    "\n",
    "# Create a 2x3 subplot grid\n",
    "fig, axs = plt.subplots(2, 3, figsize=(15, 10))\n",
    "\n",
    "# Plot for each key\n",
    "for i, key in enumerate(['PER', 'ORG', 'MEDIA', 'LOC', 'EVE', 'TIME']):\n",
    "    # Sort the entities based on their frequency\n",
    "    sorted_entities = sorted(entity_group_dict[key].items(), key=lambda x: x[1], reverse=True)\n",
    "    entities, counts = zip(*sorted_entities)\n",
    "    \n",
    "    # Check if the most frequent class has more than 1000 counts\n",
    "    if counts[0] > 1000:\n",
    "        most_frequent_class = entities[0]\n",
    "        most_frequent_count = counts[0]\n",
    "        # Create a wrapped footnote\n",
    "        footnote_text = f\"The most frequent class is {most_frequent_class} with {most_frequent_count} counts\"\n",
    "        axs[i // 3, i % 3].text(10, -5, footnote_text, wrap=True, ha='center', fontsize=10)\n",
    "        # Remove the most frequent class\n",
    "        entities = entities[1:]\n",
    "        counts = counts[1:]\n",
    "\n",
    "    # Plot\n",
    "    ax = axs[i // 3, i % 3]\n",
    "    bars = ax.barh(entities[:20], counts[:20], color='skyblue')\n",
    "    ax.set_title(f\"{title_mappings[key]} ({key})\")\n",
    "    ax.set_xlabel('Frequency')\n",
    "    ax.set_ylabel('Entity')\n",
    "    \n",
    "    # Add counts inside the bars\n",
    "    for bar, count in zip(bars, counts[:20]):\n",
    "        ax.text(bar.get_width(), bar.get_y() + bar.get_height() / 2, count, ha='left', va='center', color='black')\n",
    "\n",
    "# Adjust layout\n",
    "plt.tight_layout()\n",
    "plt.show()"
   ]
  },
  {
   "cell_type": "markdown",
   "metadata": {},
   "source": [
    "'CEL', 'MYTH', 'VEHI', 'PLANT', 'INST'"
   ]
  },
  {
   "cell_type": "code",
   "execution_count": 8,
   "metadata": {},
   "outputs": [
    {
     "data": {
      "image/png": "[encoded data removed]",
      "text/plain": [
       "<Figure size 1200x1000 with 4 Axes>"
      ]
     },
     "metadata": {},
     "output_type": "display_data"
    }
   ],
   "source": [
    "import matplotlib.pyplot as plt\n",
    "\n",
    "# Title mappings\n",
    "title_mappings = {'DIS': 'Disease', 'ANIM': 'Animal', 'FOOD': 'Food', 'MYTH': 'Mythological'}\n",
    "\n",
    "# Create a 2x2 subplot grid\n",
    "fig, axs = plt.subplots(2, 2, figsize=(12, 10))\n",
    "\n",
    "# Plot for each key\n",
    "for i, key in enumerate(['DIS', 'ANIM', 'FOOD', 'MYTH']):\n",
    "    # Sort the entities based on their frequency\n",
    "    sorted_entities = sorted(entity_group_dict[key].items(), key=lambda x: x[1], reverse=True)\n",
    "    entities, counts = zip(*sorted_entities)\n",
    "    \n",
    "    # Check if the most frequent class has more than 1000 counts\n",
    "    if counts[0] > 1000:\n",
    "        most_frequent_class = entities[0]\n",
    "        most_frequent_count = counts[0]\n",
    "        # Create a wrapped footnote\n",
    "        footnote_text = f\"The most frequent class is {most_frequent_class} with {most_frequent_count} counts\"\n",
    "        axs[i // 2, i % 2].text(0.5, -0.3, footnote_text, wrap=True, ha='center', fontsize=10)\n",
    "        # Remove the most frequent class\n",
    "        entities = entities[1:]\n",
    "        counts = counts[1:]\n",
    "\n",
    "    # Plot\n",
    "    ax = axs[i // 2, i % 2]\n",
    "    bars = ax.barh(entities[:20], counts[:20], color='skyblue')\n",
    "    ax.set_title(f\"{title_mappings[key]} ({key})\")\n",
    "    ax.set_xlabel('Frequency')\n",
    "    ax.set_ylabel('Entity')\n",
    "    \n",
    "    # Add counts inside the bars\n",
    "    for bar, count in zip(bars, counts[:20]):\n",
    "        ax.text(bar.get_width(), bar.get_y() + bar.get_height() / 2, count, ha='left', va='center', color='black')\n",
    "\n",
    "# Adjust layout\n",
    "plt.tight_layout()\n",
    "plt.show()"
   ]
  },
  {
   "cell_type": "code",
   "execution_count": 9,
   "metadata": {},
   "outputs": [],
   "source": [
    "# load the ner data and the docs\n",
    "df_ner = pd.read_csv('data/UK-R-migr-RA-twit-meta-2012-2022-ner.csv')\n",
    "with open('data/docs_UK.txt', 'r', encoding='utf-8') as filehandle:\n",
    "    docs_UK = filehandle.readlines()"
   ]
  },
  {
   "cell_type": "code",
   "execution_count": 10,
   "metadata": {},
   "outputs": [
    {
     "name": "stderr",
     "output_type": "stream",
     "text": [
      "100%|██████████| 6461/6461 [00:34<00:00, 186.69it/s]\n"
     ]
    },
    {
     "data": {
      "text/html": [
       "<div>\n",
       "<style scoped>\n",
       "    .dataframe tbody tr th:only-of-type {\n",
       "        vertical-align: middle;\n",
       "    }\n",
       "\n",
       "    .dataframe tbody tr th {\n",
       "        vertical-align: top;\n",
       "    }\n",
       "\n",
       "    .dataframe thead th {\n",
       "        text-align: right;\n",
       "    }\n",
       "</style>\n",
       "<table border=\"1\" class=\"dataframe\">\n",
       "  <thead>\n",
       "    <tr style=\"text-align: right;\">\n",
       "      <th></th>\n",
       "      <th>sentence</th>\n",
       "      <th>toxicity</th>\n",
       "      <th>severe_toxicity</th>\n",
       "      <th>obscene</th>\n",
       "      <th>identity_attack</th>\n",
       "      <th>insult</th>\n",
       "      <th>threat</th>\n",
       "      <th>sexual_explicit</th>\n",
       "    </tr>\n",
       "  </thead>\n",
       "  <tbody>\n",
       "    <tr>\n",
       "      <th>3590</th>\n",
       "      <td>Bill Kristol: White Working Class Should be Replaced by Immigrants\\n\\n Fuck him - #racist #Talmudist bastard! #OBI \\n</td>\n",
       "      <td>0.995714</td>\n",
       "      <td>0.130343</td>\n",
       "      <td>0.945049</td>\n",
       "      <td>0.698432</td>\n",
       "      <td>0.982531</td>\n",
       "      <td>0.042481</td>\n",
       "      <td>0.112092</td>\n",
       "    </tr>\n",
       "    <tr>\n",
       "      <th>2372</th>\n",
       "      <td>... anti-immigration credibility of #Ukip and deal with \"wasted vote\" syndrome. The Tories are the real target but are too stupid to see it!\\n</td>\n",
       "      <td>0.992882</td>\n",
       "      <td>0.000425</td>\n",
       "      <td>0.005839</td>\n",
       "      <td>0.001670</td>\n",
       "      <td>0.991733</td>\n",
       "      <td>0.000952</td>\n",
       "      <td>0.000899</td>\n",
       "    </tr>\n",
       "    <tr>\n",
       "      <th>4789</th>\n",
       "      <td>The latest genius Ukhomeoffice idea to stop migrant boats is to put out nets. \\n\\nThe props will foul &amp; boats will either drift in the shipping lanes or get dragged under when the tide rips. \\n\\nThis will kill people. Better to return illegals, not drown them. We are led by idiots. \\n</td>\n",
       "      <td>0.992410</td>\n",
       "      <td>0.000557</td>\n",
       "      <td>0.005124</td>\n",
       "      <td>0.003591</td>\n",
       "      <td>0.984447</td>\n",
       "      <td>0.012564</td>\n",
       "      <td>0.001101</td>\n",
       "    </tr>\n",
       "    <tr>\n",
       "      <th>2413</th>\n",
       "      <td>Illegal immigrants running through the Channel Tunnel without challenge - now that is really, really stupid !... \\n</td>\n",
       "      <td>0.992094</td>\n",
       "      <td>0.000241</td>\n",
       "      <td>0.002229</td>\n",
       "      <td>0.011859</td>\n",
       "      <td>0.984916</td>\n",
       "      <td>0.001021</td>\n",
       "      <td>0.000445</td>\n",
       "    </tr>\n",
       "    <tr>\n",
       "      <th>3124</th>\n",
       "      <td>Great idea! Every #BBC report on Brexit. immigration and Syria is genuinely 'false news'. Report the lying bastards! #FalseNews \\n</td>\n",
       "      <td>0.987915</td>\n",
       "      <td>0.000388</td>\n",
       "      <td>0.017778</td>\n",
       "      <td>0.001919</td>\n",
       "      <td>0.985297</td>\n",
       "      <td>0.000751</td>\n",
       "      <td>0.000593</td>\n",
       "    </tr>\n",
       "    <tr>\n",
       "      <th>3184</th>\n",
       "      <td>Article 50 peer says immigration is good for the UK because Britons are 'so bloody stupid':  #article50 #brexit \\n</td>\n",
       "      <td>0.987401</td>\n",
       "      <td>0.006047</td>\n",
       "      <td>0.511894</td>\n",
       "      <td>0.524935</td>\n",
       "      <td>0.964962</td>\n",
       "      <td>0.004199</td>\n",
       "      <td>0.011030</td>\n",
       "    </tr>\n",
       "    <tr>\n",
       "      <th>3139</th>\n",
       "      <td>Which is sadder? Idealistic socialists thinking #Soros is good or idiot patriots thinking capitalist Leavers will stop #immigration ?\\n</td>\n",
       "      <td>0.986885</td>\n",
       "      <td>0.000129</td>\n",
       "      <td>0.002548</td>\n",
       "      <td>0.002068</td>\n",
       "      <td>0.979532</td>\n",
       "      <td>0.000361</td>\n",
       "      <td>0.000394</td>\n",
       "    </tr>\n",
       "    <tr>\n",
       "      <th>359</th>\n",
       "      <td>This Russian Roulette approach to immigration is stupid and completely unnecessary \\n</td>\n",
       "      <td>0.986733</td>\n",
       "      <td>0.000186</td>\n",
       "      <td>0.005096</td>\n",
       "      <td>0.019364</td>\n",
       "      <td>0.964300</td>\n",
       "      <td>0.000586</td>\n",
       "      <td>0.000330</td>\n",
       "    </tr>\n",
       "    <tr>\n",
       "      <th>3944</th>\n",
       "      <td>Virtue-signalling idiots.\\n\\n'The new campaign follows an incident earlier this year in which the removal from Britain of a Somalian involved in the gang rape of a 16-year-old girl was halted after airline passengers staged a mutiny demanding his release.'\\n \\n</td>\n",
       "      <td>0.985537</td>\n",
       "      <td>0.000992</td>\n",
       "      <td>0.034184</td>\n",
       "      <td>0.007997</td>\n",
       "      <td>0.965389</td>\n",
       "      <td>0.002449</td>\n",
       "      <td>0.028381</td>\n",
       "    </tr>\n",
       "    <tr>\n",
       "      <th>6347</th>\n",
       "      <td>MUST WATCH HYPOCRISY : so many pro open borders folk admit they want refugees as long as anywhere but near them. Admit we have not got the space. Total hypocrites. \\n\\n\\n</td>\n",
       "      <td>0.984821</td>\n",
       "      <td>0.000320</td>\n",
       "      <td>0.003243</td>\n",
       "      <td>0.001198</td>\n",
       "      <td>0.973314</td>\n",
       "      <td>0.000547</td>\n",
       "      <td>0.000385</td>\n",
       "    </tr>\n",
       "  </tbody>\n",
       "</table>\n",
       "</div>"
      ],
      "text/plain": [
       "                                                                                                                                                                                                                                                                                           sentence  toxicity  severe_toxicity   obscene  identity_attack    insult    threat  sexual_explicit\n",
       "3590                                                                                                                                                                          Bill Kristol: White Working Class Should be Replaced by Immigrants\\n\\n Fuck him - #racist #Talmudist bastard! #OBI \\n  0.995714         0.130343  0.945049         0.698432  0.982531  0.042481         0.112092\n",
       "2372                                                                                                                                                 ... anti-immigration credibility of #Ukip and deal with \"wasted vote\" syndrome. The Tories are the real target but are too stupid to see it!\\n  0.992882         0.000425  0.005839         0.001670  0.991733  0.000952         0.000899\n",
       "4789  The latest genius Ukhomeoffice idea to stop migrant boats is to put out nets. \\n\\nThe props will foul & boats will either drift in the shipping lanes or get dragged under when the tide rips. \\n\\nThis will kill people. Better to return illegals, not drown them. We are led by idiots. \\n  0.992410         0.000557  0.005124         0.003591  0.984447  0.012564         0.001101\n",
       "2413                                                                                                                                                                            Illegal immigrants running through the Channel Tunnel without challenge - now that is really, really stupid !... \\n  0.992094         0.000241  0.002229         0.011859  0.984916  0.001021         0.000445\n",
       "3124                                                                                                                                                             Great idea! Every #BBC report on Brexit. immigration and Syria is genuinely 'false news'. Report the lying bastards! #FalseNews \\n  0.987915         0.000388  0.017778         0.001919  0.985297  0.000751         0.000593\n",
       "3184                                                                                                                                                                             Article 50 peer says immigration is good for the UK because Britons are 'so bloody stupid':  #article50 #brexit \\n  0.987401         0.006047  0.511894         0.524935  0.964962  0.004199         0.011030\n",
       "3139                                                                                                                                                        Which is sadder? Idealistic socialists thinking #Soros is good or idiot patriots thinking capitalist Leavers will stop #immigration ?\\n  0.986885         0.000129  0.002548         0.002068  0.979532  0.000361         0.000394\n",
       "359                                                                                                                                                                                                           This Russian Roulette approach to immigration is stupid and completely unnecessary \\n  0.986733         0.000186  0.005096         0.019364  0.964300  0.000586         0.000330\n",
       "3944                          Virtue-signalling idiots.\\n\\n'The new campaign follows an incident earlier this year in which the removal from Britain of a Somalian involved in the gang rape of a 16-year-old girl was halted after airline passengers staged a mutiny demanding his release.'\\n \\n  0.985537         0.000992  0.034184         0.007997  0.965389  0.002449         0.028381\n",
       "6347                                                                                                                     MUST WATCH HYPOCRISY : so many pro open borders folk admit they want refugees as long as anywhere but near them. Admit we have not got the space. Total hypocrites. \\n\\n\\n  0.984821         0.000320  0.003243         0.001198  0.973314  0.000547         0.000385"
      ]
     },
     "execution_count": 10,
     "metadata": {},
     "output_type": "execute_result"
    }
   ],
   "source": [
    "import pandas as pd\n",
    "from detoxify import Detoxify\n",
    "import torch\n",
    "\n",
    "# Check if CUDA is available, if not, use CPU\n",
    "device = torch.device(\"cuda\" if torch.cuda.is_available() else \"cpu\")\n",
    "\n",
    "# Initialize Detoxify model on the specified device\n",
    "model = Detoxify('multilingual', device=device)\n",
    "\n",
    "# Initialize an empty list to store the predictions\n",
    "predictions = []\n",
    "\n",
    "# Iterate over the list of sentences and make predictions\n",
    "for sentence in tqdm(docs_UK):\n",
    "    # Make prediction for the current sentence\n",
    "    prediction = model.predict(sentence)\n",
    "    \n",
    "    # Append the prediction to the list\n",
    "    predictions.append({'sentence': sentence,\n",
    "                        'toxicity': prediction['toxicity'],\n",
    "                        'severe_toxicity': prediction['severe_toxicity'],\n",
    "                        'obscene': prediction['obscene'],\n",
    "                        'identity_attack': prediction['identity_attack'],\n",
    "                        'insult': prediction['insult'],\n",
    "                        'threat': prediction['threat'],\n",
    "                        'sexual_explicit': prediction['sexual_explicit']})\n",
    "\n",
    "# Convert the list of predictions into a DataFrame\n",
    "df_toxic = pd.DataFrame(predictions)\n",
    "# prune df when the toxicity score is greater than 0.5\n",
    "df_toxic_pruned = df_toxic[df_toxic['toxicity'] > 0.5]\n",
    "# save the dataframe to a csv file\n",
    "df_toxic_pruned.to_csv('data/UK-R-migr-RA-twit-meta-2012-2022-toxicity.csv', index=False)\n",
    "# Display the top 10 most toxic tweets\n",
    "df_toxic.sort_values(by='toxicity', ascending=False).head(10)"
   ]
  },
  {
   "cell_type": "code",
   "execution_count": 82,
   "metadata": {},
   "outputs": [
    {
     "name": "stdout",
     "output_type": "stream",
     "text": [
      "{'obscene': ['Bill Kristol: White Working Class Should be Replaced by Immigrants\\\\n\\\\n Fuck him - #racist #Talmudist bastard! #OBI \\n', 'Looking at Ukip\\'s billboard & local chap saw me. His response to their \\'Stop EU immigration\\' slogan: \"Poles No, Pakis Yes! F*ck that!\"\\n', 'No shit, Sherlock!\\\\n#Immigration and #diversity are not victimless crimes\\\\n\\n', 'About bloody time too!  \\n', \"Cameron blames Calais chaos on migrants 'swarming' through wrecked Libya. Who's the fucking genius to blame for THAT?\\\\n\\n\", 'Millions know Emma West was telling blunt truth when she said that, thanks to mass immigration our \"England is f*** all.\" Resist!\\n', \"Just a reminder that the fuckers won't let the #English have ANYTHING for ourselves. But have the best #StGeorgesDay you can under foreign occupation and the Norman-Capitalist-Zionist elite who, quite simply, hate us. The feeling's mutual!\\\\n\\n\", \"If the physical #Resistance to this #policestate bullshit starts in an 'enriched' area, I do hope that nationalists don't turn into police fans & blame the immigrants. The police have forfeited all rights to our support. Grab the popcorn & leave em to it!\\\\n\\\\n\\n\", 'May has broken the Tory migration promise 8 times in a row. Brexit gave her a chance to uphold it yet she has chosen not to. Taking the p*ss\\n', 'Cat out of bag re migrants getting half of all social housing. White working class getting screwed again.\\n'], 'identity_attack': ['Men who helped a foreign power occupy their land for money. Militant feminists. LGBTQ activists. Criminals. Heroin poppy growers. And Islamist sleeper cells. Keep paying yout taxes!\\\\n#Afghanistan \\\\n#Immigration \\n', 'Bill Kristol: White Working Class Should be Replaced by Immigrants\\\\n\\\\n Fuck him - #racist #Talmudist bastard! #OBI \\n', \". .& slippers. Wouldn't do that to immigrant rioters or Muslim extremists - THEY have human rights!\\n\", 'This is seriously not woke enough from Jessphillips. Labour should not just elect a woman, they should elect a gay black pregnant disabled Muslim non-binary migrant trans-woman. \\n', \"#NigelFarage is calling for Britain to take in #Afghan 'refugees'. Let's have a think about that. Who are fleeing the Taliban?\\\\nNoisy feminists, LGBTQ+, criminals, heroin producers & traitors who took foreign money to aid the foreign occupation of their country. \\\\nSHUT THE DOOR!\\n\", ' #Immigration & Islamism are crimes against women. Time for the #feminists to wake up & hear the screams.\\n', '. . immigrant scab labour and house Somali spongers before homeless locals. A political black market spiv.\\n', 'No, Irnbruiser, I blame the white elite who allow mass immigration. Islam only part of the problem.\\n', 'Allow me to translate: The people in charge will use #Brexit (if by some strange chance we actually get it) as an excuse to advance the #GreatReplacement - in crude terms, fewer Christian Poles, more M***** Pakistanis!\\\\n\\n', 'Time for the smug rich to wake up and smell the immigration/Islamist coffee brewing! \\n'], 'insult': ['... anti-immigration credibility of #Ukip and deal with \"wasted vote\" syndrome. The Tories are the real target but are too stupid to see it!\\n', \"Great idea! Every #BBC report on Brexit. immigration and Syria is genuinely 'false news'. Report the lying bastards! #FalseNews \\n\", 'Illegal immigrants running through the Channel Tunnel without challenge - now that is really, really stupid !... \\n', 'The latest genius Ukhomeoffice idea to stop migrant boats is to put out nets. \\\\n\\\\nThe props will foul & boats will either drift in the shipping lanes or get dragged under when the tide rips. \\\\n\\\\nThis will kill people. Better to return illegals, not drown them. We are led by idiots. \\n', 'Bill Kristol: White Working Class Should be Replaced by Immigrants\\\\n\\\\n Fuck him - #racist #Talmudist bastard! #OBI \\n', 'Which is sadder? Idealistic socialists thinking #Soros is good or idiot patriots thinking capitalist Leavers will stop #immigration ?\\n', 'Another #Ukip hypocrite. \\n', 'MUST WATCH HYPOCRISY : so many pro open borders folk admit they want refugees as long as anywhere but near them. Admit we have not got the space. Total hypocrites. \\\\n\\\\n\\n', 'Where do you start with this idiocy...\\\\n\\\\nNobody voted for Brussels to make 70% of our laws\\\\nNobody voted for mass migration resulting from free movement \\\\nNobody voted for an EU Army\\\\nNobody voted - never have, never will - for European Commissioners... \\n', 'Remember that Swedish refugee activist who stopped a migrant being deported by preventing a plane from taking off?\\\\n\\\\nRemember how she was celebrated as a progressive hero?\\\\n\\\\nThe man she saved was a wife beater and a child abuser.\\\\n\\\\nBravo, idiots. Bravo.\\\\n\\\\n\\n'], 'threat': ['“If we accept refugees and they turn out to engage in anti-social behaviour we should be able to kick them out.\" \\n', \"Soldiers safer on front line than in London, that's the reality of mass immigration. The politicians who did this to Britain should hang!\\n\", 'I believe they should be tolerated. Most of your precious refugees want them dead. Enjoy learning about reality in the years ahead!\\n', \"Seems to be a common strategy for these illegal migrants. Don't like the accommodation? Just burn it down. Hence the arson at both #NapierBarracks and #Penally. 🔥🔥🔥\\\\n\\n\", 'DEPORT HIM! Pritipatel \\n', \"Terrorist disguised as 'refugee'. One of many thousands. When the hammer blow falls, it will be a time of blood and fire all over Western Europe. #matteroftime \\n\", 'I’m continuing to remove these appalling criminals from our country.\\\\n\\\\nAnd our New Plan for Immigration will make it easier for us to deport foreign criminals who have no right to be here – so that we can keep people safe.\\\\n\\\\n\\n', 'Bill Kristol: White Working Class Should be Replaced by Immigrants\\\\n\\\\n Fuck him - #racist #Talmudist bastard! #OBI \\n', 'So with all that social help and now imprisonment, this little scumbag will have cost this country thousands. He should have been kicked out to start with. No wonder the public now have zero confidence in the ‘authorities’ \\\\n\\\\n via Mailonline\\n', 'This is seriously not woke enough from Jessphillips. Labour should not just elect a woman, they should elect a gay black pregnant disabled Muslim non-binary migrant trans-woman. \\n'], 'sexual_explicit': ['Reliable reports that Liverpool police ignoring immigrant rapes of girls out clubbing.\\n', 'Migrant launches sex assault on teen in train station and only stops when hero hears cries\\\\n #diversity #enrichment \\n', 'Across the UK, young girls are having their genitals mutilated; there has been only ONE successful prosecution since FGM was criminalised in 1985.\\\\n\\\\nFGM clinics are an admission in the abject failure of mass immigration and multiculturalism.\\\\n\\\\n\\n', 'Well said #RogerDaltrey. Good to see celeb with feet on ground in real world & balls. #Immigration a disaster for working class & Britain.\\n', \"Richardodurrant Getnorthern UKIP does have a policy on immigration, that is true. Like every political party.  My point here though is that to refer to immigrants as arse-wipers and toilet cleaners is disgusting and anti-British.  That's my point.\\n\", 'May has broken the Tory migration promise 8 times in a row. Brexit gave her a chance to uphold it yet she has chosen not to. Taking the p*ss\\n', 'Immigration. Iraq War. Privatisation. Expenses bill. Destruction of British industry. 1,750 UK mosques. Year 1 gay sex lessons. #ThankyourMP\\n', \"Mass sex assaults by 'refugees' in Germany. BBC finally reports it.  Shame Merkel's so ugly that she's 100% safe!\\n\", 'Bill Kristol: White Working Class Should be Replaced by Immigrants\\\\n\\\\n Fuck him - #racist #Talmudist bastard! #OBI \\n', '#AngryBirds movie is big attack on immigration by violent, sex-mad, bearded green pigs. Why would Hollywood do that? \\n']}\n"
     ]
    }
   ],
   "source": [
    "# load 'data/UK-R-migr-RA-twit-meta-2012-2022-toxicity.csv'\n",
    "df_toxic_pruned = pd.read_csv('data/UK-R-migr-RA-twit-meta-2012-2022-toxicity.csv')\n",
    "\n",
    "# Initialize an empty dictionary to store the top 10 sentences for each category\n",
    "top_sentences_dict = {}\n",
    "\n",
    "# Iterate over each category and find the top 10 sentences\n",
    "categories = ['obscene', 'identity_attack', 'insult', 'threat', 'sexual_explicit']\n",
    "for category in categories:\n",
    "    # Sort the DataFrame by the current category in descending order\n",
    "    sorted_df = df_toxic_pruned.sort_values(by=category, ascending=False)\n",
    "    # Get the top 10 sentences for the current category\n",
    "    top_sentences = sorted_df['sentence'].head(10).tolist()\n",
    "    # Store the top sentences in the dictionary\n",
    "    top_sentences_dict[category] = top_sentences\n",
    "\n",
    "# Print the dictionary\n",
    "print(top_sentences_dict)\n",
    "# Convert the dict to a df\n",
    "top_sentences_df = pd.DataFrame(top_sentences_dict)\n",
    "# show the df without truncation\n",
    "pd.set_option('display.max_colwidth', None)\n",
    "# save the df to a csv file\n",
    "top_sentences_df.to_csv('data/UK-R-migr-RA-twit-meta-2012-2022-toxicity-top-sentences.csv', index=False)"
   ]
  },
  {
   "cell_type": "code",
   "execution_count": 11,
   "metadata": {},
   "outputs": [
    {
     "data": {
      "application/vnd.plotly.v1+json": {
       "config": {
        "plotlyServerURL": "https://plot.ly"
       },
       "data": [
        {
         "hovertext": "Looking at Ukip's billboard & local chap saw me. His response to their 'Stop EU<br>immigration' slogan: \"Poles No, Pakis Yes! F*ck that!\"<br>No shit, Sherlock!\\n#Immigration and #diversity are not victimless crimes\\n<br>About bloody time too!<br>Cameron blames Calais chaos on migrants 'swarming' through wrecked Libya. Who's<br>the fucking genius to blame for THAT?\\n<br>Millions know Emma West was telling blunt truth when she said that, thanks to<br>mass immigration our \"England is f*** all.\" Resist!",
         "marker": {
          "color": "red"
         },
         "name": "obscene",
         "orientation": "h",
         "type": "bar",
         "x": [
          12
         ],
         "y": [
          "obscene (12)"
         ]
        },
        {
         "hovertext": "Men who helped a foreign power occupy their land for money. Militant feminists.<br>LGBTQ activists. Criminals. Heroin poppy growers. And Islamist sleeper cells.<br>Keep paying yout taxes!\\n#Afghanistan \\n#Immigration<br>. .& slippers. Wouldn't do that to immigrant rioters or Muslim extremists - THEY<br>have human rights!<br>This is seriously not woke enough from Jessphillips. Labour should not just<br>elect a woman, they should elect a gay black pregnant disabled Muslim non-binary<br>migrant trans-woman.<br> #Immigration & Islamism are crimes against women. Time for the #feminists to<br>wake up & hear the screams.<br>. . immigrant scab labour and house Somali spongers before homeless locals. A<br>political black market spiv.",
         "marker": {
          "color": "blue"
         },
         "name": "identity_attack",
         "orientation": "h",
         "type": "bar",
         "x": [
          23
         ],
         "y": [
          "identity_attack (23)"
         ]
        },
        {
         "hovertext": "... anti-immigration credibility of #Ukip and deal with \"wasted vote\" syndrome.<br>The Tories are the real target but are too stupid to see it!<br>Great idea! Every #BBC report on Brexit. immigration and Syria is genuinely<br>'false news'. Report the lying bastards! #FalseNews<br>Illegal immigrants running through the Channel Tunnel without challenge - now<br>that is really, really stupid !...<br>The latest genius Ukhomeoffice idea to stop migrant boats is to put out nets.<br>\\n\\nThe props will foul & boats will either drift in the shipping lanes or get<br>dragged under when the tide rips. \\n\\nThis will kill people. Better to return<br>illegals, not drown them. We are led by idiots.<br>Bill Kristol: White Working Class Should be Replaced by Immigrants\\n\\n Fuck him<br>- #racist #Talmudist bastard! #OBI",
         "marker": {
          "color": "green"
         },
         "name": "insult",
         "orientation": "h",
         "type": "bar",
         "x": [
          117
         ],
         "y": [
          "insult (117)"
         ]
        },
        {
         "hovertext": "“If we accept refugees and they turn out to engage in anti-social behaviour we<br>should be able to kick them out.\"<br>Soldiers safer on front line than in London, that's the reality of mass<br>immigration. The politicians who did this to Britain should hang!<br>I believe they should be tolerated. Most of your precious refugees want them<br>dead. Enjoy learning about reality in the years ahead!<br>Seems to be a common strategy for these illegal migrants. Don't like the<br>accommodation? Just burn it down. Hence the arson at both #NapierBarracks and<br>#Penally. 🔥🔥🔥\\n<br>DEPORT HIM! Pritipatel",
         "marker": {
          "color": "purple"
         },
         "name": "threat",
         "orientation": "h",
         "type": "bar",
         "x": [
          6
         ],
         "y": [
          "threat (6)"
         ]
        },
        {
         "hovertext": "Reliable reports that Liverpool police ignoring immigrant rapes of girls out<br>clubbing.<br>Migrant launches sex assault on teen in train station and only stops when hero<br>hears cries\\n #diversity #enrichment<br>Across the UK, young girls are having their genitals mutilated; there has been<br>only ONE successful prosecution since FGM was criminalised in 1985.\\n\\nFGM<br>clinics are an admission in the abject failure of mass immigration and<br>multiculturalism.\\n\\n<br>Well said #RogerDaltrey. Good to see celeb with feet on ground in real world &<br>balls. #Immigration a disaster for working class & Britain.",
         "marker": {
          "color": "orange"
         },
         "name": "sexual_explicit",
         "orientation": "h",
         "type": "bar",
         "x": [
          4
         ],
         "y": [
          "sexual_explicit (4)"
         ]
        }
       ],
       "layout": {
        "template": {
         "data": {
          "bar": [
           {
            "error_x": {
             "color": "#2a3f5f"
            },
            "error_y": {
             "color": "#2a3f5f"
            },
            "marker": {
             "line": {
              "color": "#E5ECF6",
              "width": 0.5
             },
             "pattern": {
              "fillmode": "overlay",
              "size": 10,
              "solidity": 0.2
             }
            },
            "type": "bar"
           }
          ],
          "barpolar": [
           {
            "marker": {
             "line": {
              "color": "#E5ECF6",
              "width": 0.5
             },
             "pattern": {
              "fillmode": "overlay",
              "size": 10,
              "solidity": 0.2
             }
            },
            "type": "barpolar"
           }
          ],
          "carpet": [
           {
            "aaxis": {
             "endlinecolor": "#2a3f5f",
             "gridcolor": "white",
             "linecolor": "white",
             "minorgridcolor": "white",
             "startlinecolor": "#2a3f5f"
            },
            "baxis": {
             "endlinecolor": "#2a3f5f",
             "gridcolor": "white",
             "linecolor": "white",
             "minorgridcolor": "white",
             "startlinecolor": "#2a3f5f"
            },
            "type": "carpet"
           }
          ],
          "choropleth": [
           {
            "colorbar": {
             "outlinewidth": 0,
             "ticks": ""
            },
            "type": "choropleth"
           }
          ],
          "contour": [
           {
            "colorbar": {
             "outlinewidth": 0,
             "ticks": ""
            },
            "colorscale": [
             [
              0,
              "#0d0887"
             ],
             [
              0.1111111111111111,
              "#46039f"
             ],
             [
              0.2222222222222222,
              "#7201a8"
             ],
             [
              0.3333333333333333,
              "#9c179e"
             ],
             [
              0.4444444444444444,
              "#bd3786"
             ],
             [
              0.5555555555555556,
              "#d8576b"
             ],
             [
              0.6666666666666666,
              "#ed7953"
             ],
             [
              0.7777777777777778,
              "#fb9f3a"
             ],
             [
              0.8888888888888888,
              "#fdca26"
             ],
             [
              1,
              "#f0f921"
             ]
            ],
            "type": "contour"
           }
          ],
          "contourcarpet": [
           {
            "colorbar": {
             "outlinewidth": 0,
             "ticks": ""
            },
            "type": "contourcarpet"
           }
          ],
          "heatmap": [
           {
            "colorbar": {
             "outlinewidth": 0,
             "ticks": ""
            },
            "colorscale": [
             [
              0,
              "#0d0887"
             ],
             [
              0.1111111111111111,
              "#46039f"
             ],
             [
              0.2222222222222222,
              "#7201a8"
             ],
             [
              0.3333333333333333,
              "#9c179e"
             ],
             [
              0.4444444444444444,
              "#bd3786"
             ],
             [
              0.5555555555555556,
              "#d8576b"
             ],
             [
              0.6666666666666666,
              "#ed7953"
             ],
             [
              0.7777777777777778,
              "#fb9f3a"
             ],
             [
              0.8888888888888888,
              "#fdca26"
             ],
             [
              1,
              "#f0f921"
             ]
            ],
            "type": "heatmap"
           }
          ],
          "heatmapgl": [
           {
            "colorbar": {
             "outlinewidth": 0,
             "ticks": ""
            },
            "colorscale": [
             [
              0,
              "#0d0887"
             ],
             [
              0.1111111111111111,
              "#46039f"
             ],
             [
              0.2222222222222222,
              "#7201a8"
             ],
             [
              0.3333333333333333,
              "#9c179e"
             ],
             [
              0.4444444444444444,
              "#bd3786"
             ],
             [
              0.5555555555555556,
              "#d8576b"
             ],
             [
              0.6666666666666666,
              "#ed7953"
             ],
             [
              0.7777777777777778,
              "#fb9f3a"
             ],
             [
              0.8888888888888888,
              "#fdca26"
             ],
             [
              1,
              "#f0f921"
             ]
            ],
            "type": "heatmapgl"
           }
          ],
          "histogram": [
           {
            "marker": {
             "pattern": {
              "fillmode": "overlay",
              "size": 10,
              "solidity": 0.2
             }
            },
            "type": "histogram"
           }
          ],
          "histogram2d": [
           {
            "colorbar": {
             "outlinewidth": 0,
             "ticks": ""
            },
            "colorscale": [
             [
              0,
              "#0d0887"
             ],
             [
              0.1111111111111111,
              "#46039f"
             ],
             [
              0.2222222222222222,
              "#7201a8"
             ],
             [
              0.3333333333333333,
              "#9c179e"
             ],
             [
              0.4444444444444444,
              "#bd3786"
             ],
             [
              0.5555555555555556,
              "#d8576b"
             ],
             [
              0.6666666666666666,
              "#ed7953"
             ],
             [
              0.7777777777777778,
              "#fb9f3a"
             ],
             [
              0.8888888888888888,
              "#fdca26"
             ],
             [
              1,
              "#f0f921"
             ]
            ],
            "type": "histogram2d"
           }
          ],
          "histogram2dcontour": [
           {
            "colorbar": {
             "outlinewidth": 0,
             "ticks": ""
            },
            "colorscale": [
             [
              0,
              "#0d0887"
             ],
             [
              0.1111111111111111,
              "#46039f"
             ],
             [
              0.2222222222222222,
              "#7201a8"
             ],
             [
              0.3333333333333333,
              "#9c179e"
             ],
             [
              0.4444444444444444,
              "#bd3786"
             ],
             [
              0.5555555555555556,
              "#d8576b"
             ],
             [
              0.6666666666666666,
              "#ed7953"
             ],
             [
              0.7777777777777778,
              "#fb9f3a"
             ],
             [
              0.8888888888888888,
              "#fdca26"
             ],
             [
              1,
              "#f0f921"
             ]
            ],
            "type": "histogram2dcontour"
           }
          ],
          "mesh3d": [
           {
            "colorbar": {
             "outlinewidth": 0,
             "ticks": ""
            },
            "type": "mesh3d"
           }
          ],
          "parcoords": [
           {
            "line": {
             "colorbar": {
              "outlinewidth": 0,
              "ticks": ""
             }
            },
            "type": "parcoords"
           }
          ],
          "pie": [
           {
            "automargin": true,
            "type": "pie"
           }
          ],
          "scatter": [
           {
            "fillpattern": {
             "fillmode": "overlay",
             "size": 10,
             "solidity": 0.2
            },
            "type": "scatter"
           }
          ],
          "scatter3d": [
           {
            "line": {
             "colorbar": {
              "outlinewidth": 0,
              "ticks": ""
             }
            },
            "marker": {
             "colorbar": {
              "outlinewidth": 0,
              "ticks": ""
             }
            },
            "type": "scatter3d"
           }
          ],
          "scattercarpet": [
           {
            "marker": {
             "colorbar": {
              "outlinewidth": 0,
              "ticks": ""
             }
            },
            "type": "scattercarpet"
           }
          ],
          "scattergeo": [
           {
            "marker": {
             "colorbar": {
              "outlinewidth": 0,
              "ticks": ""
             }
            },
            "type": "scattergeo"
           }
          ],
          "scattergl": [
           {
            "marker": {
             "colorbar": {
              "outlinewidth": 0,
              "ticks": ""
             }
            },
            "type": "scattergl"
           }
          ],
          "scattermapbox": [
           {
            "marker": {
             "colorbar": {
              "outlinewidth": 0,
              "ticks": ""
             }
            },
            "type": "scattermapbox"
           }
          ],
          "scatterpolar": [
           {
            "marker": {
             "colorbar": {
              "outlinewidth": 0,
              "ticks": ""
             }
            },
            "type": "scatterpolar"
           }
          ],
          "scatterpolargl": [
           {
            "marker": {
             "colorbar": {
              "outlinewidth": 0,
              "ticks": ""
             }
            },
            "type": "scatterpolargl"
           }
          ],
          "scatterternary": [
           {
            "marker": {
             "colorbar": {
              "outlinewidth": 0,
              "ticks": ""
             }
            },
            "type": "scatterternary"
           }
          ],
          "surface": [
           {
            "colorbar": {
             "outlinewidth": 0,
             "ticks": ""
            },
            "colorscale": [
             [
              0,
              "#0d0887"
             ],
             [
              0.1111111111111111,
              "#46039f"
             ],
             [
              0.2222222222222222,
              "#7201a8"
             ],
             [
              0.3333333333333333,
              "#9c179e"
             ],
             [
              0.4444444444444444,
              "#bd3786"
             ],
             [
              0.5555555555555556,
              "#d8576b"
             ],
             [
              0.6666666666666666,
              "#ed7953"
             ],
             [
              0.7777777777777778,
              "#fb9f3a"
             ],
             [
              0.8888888888888888,
              "#fdca26"
             ],
             [
              1,
              "#f0f921"
             ]
            ],
            "type": "surface"
           }
          ],
          "table": [
           {
            "cells": {
             "fill": {
              "color": "#EBF0F8"
             },
             "line": {
              "color": "white"
             }
            },
            "header": {
             "fill": {
              "color": "#C8D4E3"
             },
             "line": {
              "color": "white"
             }
            },
            "type": "table"
           }
          ]
         },
         "layout": {
          "annotationdefaults": {
           "arrowcolor": "#2a3f5f",
           "arrowhead": 0,
           "arrowwidth": 1
          },
          "autotypenumbers": "strict",
          "coloraxis": {
           "colorbar": {
            "outlinewidth": 0,
            "ticks": ""
           }
          },
          "colorscale": {
           "diverging": [
            [
             0,
             "#8e0152"
            ],
            [
             0.1,
             "#c51b7d"
            ],
            [
             0.2,
             "#de77ae"
            ],
            [
             0.3,
             "#f1b6da"
            ],
            [
             0.4,
             "#fde0ef"
            ],
            [
             0.5,
             "#f7f7f7"
            ],
            [
             0.6,
             "#e6f5d0"
            ],
            [
             0.7,
             "#b8e186"
            ],
            [
             0.8,
             "#7fbc41"
            ],
            [
             0.9,
             "#4d9221"
            ],
            [
             1,
             "#276419"
            ]
           ],
           "sequential": [
            [
             0,
             "#0d0887"
            ],
            [
             0.1111111111111111,
             "#46039f"
            ],
            [
             0.2222222222222222,
             "#7201a8"
            ],
            [
             0.3333333333333333,
             "#9c179e"
            ],
            [
             0.4444444444444444,
             "#bd3786"
            ],
            [
             0.5555555555555556,
             "#d8576b"
            ],
            [
             0.6666666666666666,
             "#ed7953"
            ],
            [
             0.7777777777777778,
             "#fb9f3a"
            ],
            [
             0.8888888888888888,
             "#fdca26"
            ],
            [
             1,
             "#f0f921"
            ]
           ],
           "sequentialminus": [
            [
             0,
             "#0d0887"
            ],
            [
             0.1111111111111111,
             "#46039f"
            ],
            [
             0.2222222222222222,
             "#7201a8"
            ],
            [
             0.3333333333333333,
             "#9c179e"
            ],
            [
             0.4444444444444444,
             "#bd3786"
            ],
            [
             0.5555555555555556,
             "#d8576b"
            ],
            [
             0.6666666666666666,
             "#ed7953"
            ],
            [
             0.7777777777777778,
             "#fb9f3a"
            ],
            [
             0.8888888888888888,
             "#fdca26"
            ],
            [
             1,
             "#f0f921"
            ]
           ]
          },
          "colorway": [
           "#636efa",
           "#EF553B",
           "#00cc96",
           "#ab63fa",
           "#FFA15A",
           "#19d3f3",
           "#FF6692",
           "#B6E880",
           "#FF97FF",
           "#FECB52"
          ],
          "font": {
           "color": "#2a3f5f"
          },
          "geo": {
           "bgcolor": "white",
           "lakecolor": "white",
           "landcolor": "#E5ECF6",
           "showlakes": true,
           "showland": true,
           "subunitcolor": "white"
          },
          "hoverlabel": {
           "align": "left"
          },
          "hovermode": "closest",
          "mapbox": {
           "style": "light"
          },
          "paper_bgcolor": "white",
          "plot_bgcolor": "#E5ECF6",
          "polar": {
           "angularaxis": {
            "gridcolor": "white",
            "linecolor": "white",
            "ticks": ""
           },
           "bgcolor": "#E5ECF6",
           "radialaxis": {
            "gridcolor": "white",
            "linecolor": "white",
            "ticks": ""
           }
          },
          "scene": {
           "xaxis": {
            "backgroundcolor": "#E5ECF6",
            "gridcolor": "white",
            "gridwidth": 2,
            "linecolor": "white",
            "showbackground": true,
            "ticks": "",
            "zerolinecolor": "white"
           },
           "yaxis": {
            "backgroundcolor": "#E5ECF6",
            "gridcolor": "white",
            "gridwidth": 2,
            "linecolor": "white",
            "showbackground": true,
            "ticks": "",
            "zerolinecolor": "white"
           },
           "zaxis": {
            "backgroundcolor": "#E5ECF6",
            "gridcolor": "white",
            "gridwidth": 2,
            "linecolor": "white",
            "showbackground": true,
            "ticks": "",
            "zerolinecolor": "white"
           }
          },
          "shapedefaults": {
           "line": {
            "color": "#2a3f5f"
           }
          },
          "ternary": {
           "aaxis": {
            "gridcolor": "white",
            "linecolor": "white",
            "ticks": ""
           },
           "baxis": {
            "gridcolor": "white",
            "linecolor": "white",
            "ticks": ""
           },
           "bgcolor": "#E5ECF6",
           "caxis": {
            "gridcolor": "white",
            "linecolor": "white",
            "ticks": ""
           }
          },
          "title": {
           "x": 0.05
          },
          "xaxis": {
           "automargin": true,
           "gridcolor": "white",
           "linecolor": "white",
           "ticks": "",
           "title": {
            "standoff": 15
           },
           "zerolinecolor": "white",
           "zerolinewidth": 2
          },
          "yaxis": {
           "automargin": true,
           "gridcolor": "white",
           "linecolor": "white",
           "ticks": "",
           "title": {
            "standoff": 15
           },
           "zerolinecolor": "white",
           "zerolinewidth": 2
          }
         }
        },
        "title": {
         "text": "Frequency of tweets with toxicity score > 0.5 (Total: 162)"
        },
        "xaxis": {
         "title": {
          "text": "Frequency"
         }
        },
        "yaxis": {
         "title": {
          "text": "Category"
         }
        }
       }
      }
     },
     "metadata": {},
     "output_type": "display_data"
    }
   ],
   "source": [
    "import plotly.graph_objects as go\n",
    "import textwrap\n",
    "\n",
    "# Calculate the maximum value for each row and find the corresponding category\n",
    "max_categories = df_toxic_pruned[['obscene', 'identity_attack', 'insult', 'threat', 'sexual_explicit']].idxmax(axis=1)\n",
    "eaderboard.php\n",
    "# Set layout\n",
    "fig.update_layout(title=f'Frequency of tweets with toxicity score > 0.5 (Total: {df_toxic_pruned.shape[0]})',\n",
    "                  xaxis_title='Frequency',\n",
    "                  yaxis_title='Category')\n",
    "\n",
    "# Show plot\n",
    "fig.show()"
   ]
  },
  {
   "cell_type": "code",
   "execution_count": 4,
   "metadata": {},
   "outputs": [],
   "source": [
    "import re\n",
    "import pandas as pd\n",
    "import html\n",
    "\n",
    "# Define a function to perform the required operations on each text string\n",
    "def preprocess_text(text):\n",
    "    # Remove http or https or www link if present\n",
    "    text = re.sub(r'https?://\\S+|www\\.\\S+', '', text)\n",
    "    # Remove \"RT <str>: \" or \"RT <string>:\" if present\n",
    "    text = re.sub(r'^RT\\s.*?:\\s*', '', text)\n",
    "    return text\n",
    "\n",
    "# columns of the dataframe to keep\n",
    "keep_columns = ['data__id', 'data__text', 'data__lang', 'data__created_at', 'author__username', 'data__public_metrics__retweet_count',\n",
    "                'data__public_metrics__reply_count', 'data__public_metrics__like_count', 'data__public_metrics__quote_count', 'data__source', 'data__entities__urls__unwound_url']\n",
    "\n",
    "# Define the data type for problem columns as 'str'\n",
    "dtype_options_French = {0: 'str', 5: 'str', 6: 'str', 7: 'str', 8: 'str', 9: 'str', 10: 'str', \n",
    "                        16: 'str', 17: 'str', 18: 'str', 19: 'str', 21: 'str', 22: 'str', \n",
    "                        25: 'str', 26: 'str', 27: 'str', 31: 'str', 34: 'str', 41: 'str', \n",
    "                        42: 'str', 43: 'str'}\n",
    "# Load the DataFrame from the saved CSV file\n",
    "df_French = pd.read_csv('data/FR-R-MIGR-TWIT-2011-2022_meta.csv', dtype=dtype_options_French)\n",
    "\n",
    "# Filter out non-string values in 'data__text' column\n",
    "df_French = df_French[df_French['data__text'].apply(lambda x: isinstance(x, str))]\n",
    "\n",
    "# creating a new dataframe with only the columns we want\n",
    "df_French = df_French[keep_columns]\n",
    "\n",
    "# additionally, create a new column with the data__text cleaned from URLs\n",
    "df_French['data__text_without_links'] = df_French['data__text'].apply(preprocess_text)\n",
    "\n",
    "# Convert the 'data__created_at' column to datetime with a specified format\n",
    "df_French['data__created_at'] = pd.to_datetime(df_French['data__created_at'], format='%Y-%m-%dT%H:%M:%S.%fZ', errors='coerce')\n",
    "\n",
    "# Drop rows where 'data__created_at' couldn't be parsed\n",
    "df_French = df_French.dropna(subset=['data__created_at'])\n",
    "# rearrange the columns to the following order\n",
    "rearrange_columns = ['data__id', 'data__text', 'data__text_without_links', 'data__entities__urls__unwound_url', 'data__lang', 'data__created_at', 'author__username',\n",
    "         'data__public_metrics__retweet_count', 'data__public_metrics__reply_count', 'data__public_metrics__like_count', 'data__public_metrics__quote_count', 'data__source']\n",
    "\n",
    "# rearrange the columns to the following order\n",
    "df_French = df_French[rearrange_columns]\n",
    "\n",
    "# Remove rows where 'data__text_without_links' is NaN or an empty string\n",
    "df_French = df_French.dropna(subset=['data__text_without_links'])\n",
    "df_French = df_French[df_French['data__text_without_links'] != '']\n",
    "df_French = df_French[df_French['data__text_without_links'] != ' ']\n",
    "\n",
    "# load the 'data__text_without_links' from the UK dataset as docs_UK\n",
    "docs_French = [html.unescape(tweet) for tweet in df_French['data__text_without_links'].tolist()]\n",
    "\n",
    "\"\"\" for each @username or @user_name in the tweets, replace it with the string 'Username' or 'User Name'\"\"\"\n",
    "def replace_at_mentions(sentence):\n",
    "    # Define a regular expression pattern to match @ followed by one or more word characters\n",
    "    pattern = r'@(\\w+)'\n",
    "\n",
    "    # Define a function to replace each match with its capitalized version with spaces\n",
    "    def replace(match):\n",
    "        return ' '.join(word.capitalize() for word in match.group(1).split('_'))\n",
    "\n",
    "    # Use re.sub to perform the replacement\n",
    "    replaced_sentence = re.sub(pattern, replace, sentence)\n",
    "\n",
    "    return replaced_sentence\n",
    "\n",
    "# Apply the function to each tweet in the dataset\n",
    "docs_French = [replace_at_mentions(tweet) for tweet in docs_French]"
   ]
  },
  {
   "cell_type": "code",
   "execution_count": 6,
   "metadata": {},
   "outputs": [
    {
     "name": "stderr",
     "output_type": "stream",
     "text": [
      "100%|██████████| 11489/11489 [01:17<00:00, 147.74it/s]\n"
     ]
    },
    {
     "data": {
      "text/html": [
       "<div>\n",
       "<style scoped>\n",
       "    .dataframe tbody tr th:only-of-type {\n",
       "        vertical-align: middle;\n",
       "    }\n",
       "\n",
       "    .dataframe tbody tr th {\n",
       "        vertical-align: top;\n",
       "    }\n",
       "\n",
       "    .dataframe thead th {\n",
       "        text-align: right;\n",
       "    }\n",
       "</style>\n",
       "<table border=\"1\" class=\"dataframe\">\n",
       "  <thead>\n",
       "    <tr style=\"text-align: right;\">\n",
       "      <th></th>\n",
       "      <th>sentence</th>\n",
       "      <th>toxicity</th>\n",
       "      <th>severe_toxicity</th>\n",
       "      <th>obscene</th>\n",
       "      <th>identity_attack</th>\n",
       "      <th>insult</th>\n",
       "      <th>threat</th>\n",
       "      <th>sexual_explicit</th>\n",
       "    </tr>\n",
       "  </thead>\n",
       "  <tbody>\n",
       "    <tr>\n",
       "      <th>3887</th>\n",
       "      <td>#Macron est un « immigrationniste » forcené. C...</td>\n",
       "      <td>0.985452</td>\n",
       "      <td>0.000206</td>\n",
       "      <td>0.003924</td>\n",
       "      <td>0.000475</td>\n",
       "      <td>0.980609</td>\n",
       "      <td>0.000434</td>\n",
       "      <td>0.000524</td>\n",
       "    </tr>\n",
       "    <tr>\n",
       "      <th>5987</th>\n",
       "      <td>#Valls prend les Français pour des imbéciles. ...</td>\n",
       "      <td>0.978519</td>\n",
       "      <td>0.000103</td>\n",
       "      <td>0.001613</td>\n",
       "      <td>0.004621</td>\n",
       "      <td>0.970098</td>\n",
       "      <td>0.000350</td>\n",
       "      <td>0.000203</td>\n",
       "    </tr>\n",
       "    <tr>\n",
       "      <th>10168</th>\n",
       "      <td>Hypocrite et menteuse ! La France n’accueille ...</td>\n",
       "      <td>0.974508</td>\n",
       "      <td>0.000124</td>\n",
       "      <td>0.001165</td>\n",
       "      <td>0.002229</td>\n",
       "      <td>0.968063</td>\n",
       "      <td>0.000255</td>\n",
       "      <td>0.000269</td>\n",
       "    </tr>\n",
       "    <tr>\n",
       "      <th>1108</th>\n",
       "      <td>Maudits gilets jaunes !...😉  \\n En revanche la...</td>\n",
       "      <td>0.973758</td>\n",
       "      <td>0.015975</td>\n",
       "      <td>0.919578</td>\n",
       "      <td>0.202427</td>\n",
       "      <td>0.556889</td>\n",
       "      <td>0.004379</td>\n",
       "      <td>0.008690</td>\n",
       "    </tr>\n",
       "    <tr>\n",
       "      <th>2216</th>\n",
       "      <td>Images choquantes ? \\n Voulez-vous parler de c...</td>\n",
       "      <td>0.964120</td>\n",
       "      <td>0.000076</td>\n",
       "      <td>0.002352</td>\n",
       "      <td>0.000842</td>\n",
       "      <td>0.952572</td>\n",
       "      <td>0.000152</td>\n",
       "      <td>0.000250</td>\n",
       "    </tr>\n",
       "    <tr>\n",
       "      <th>5417</th>\n",
       "      <td>Pendant 5 ans, Emmanuel Macron a soigneusement...</td>\n",
       "      <td>0.960748</td>\n",
       "      <td>0.000129</td>\n",
       "      <td>0.001631</td>\n",
       "      <td>0.003773</td>\n",
       "      <td>0.938571</td>\n",
       "      <td>0.000896</td>\n",
       "      <td>0.000771</td>\n",
       "    </tr>\n",
       "    <tr>\n",
       "      <th>7212</th>\n",
       "      <td>#Italie saisit le bateau d’1ONG-complice? Idio...</td>\n",
       "      <td>0.960663</td>\n",
       "      <td>0.000112</td>\n",
       "      <td>0.003487</td>\n",
       "      <td>0.009675</td>\n",
       "      <td>0.932988</td>\n",
       "      <td>0.000254</td>\n",
       "      <td>0.000363</td>\n",
       "    </tr>\n",
       "    <tr>\n",
       "      <th>5569</th>\n",
       "      <td>Incapable de payer le RSA l'an prochain, le 93...</td>\n",
       "      <td>0.960600</td>\n",
       "      <td>0.000067</td>\n",
       "      <td>0.000937</td>\n",
       "      <td>0.002495</td>\n",
       "      <td>0.940275</td>\n",
       "      <td>0.000207</td>\n",
       "      <td>0.000157</td>\n",
       "    </tr>\n",
       "    <tr>\n",
       "      <th>6830</th>\n",
       "      <td>Les Républicains lâchent un élu qui a le coura...</td>\n",
       "      <td>0.956543</td>\n",
       "      <td>0.000196</td>\n",
       "      <td>0.002159</td>\n",
       "      <td>0.041527</td>\n",
       "      <td>0.929648</td>\n",
       "      <td>0.001657</td>\n",
       "      <td>0.000420</td>\n",
       "    </tr>\n",
       "    <tr>\n",
       "      <th>5555</th>\n",
       "      <td>Des bobos de Sciences Po se mobilisent pour ra...</td>\n",
       "      <td>0.953750</td>\n",
       "      <td>0.000238</td>\n",
       "      <td>0.009028</td>\n",
       "      <td>0.028494</td>\n",
       "      <td>0.929391</td>\n",
       "      <td>0.001893</td>\n",
       "      <td>0.000759</td>\n",
       "    </tr>\n",
       "  </tbody>\n",
       "</table>\n",
       "</div>"
      ],
      "text/plain": [
       "                                                sentence  toxicity  \\\n",
       "3887   #Macron est un « immigrationniste » forcené. C...  0.985452   \n",
       "5987   #Valls prend les Français pour des imbéciles. ...  0.978519   \n",
       "10168  Hypocrite et menteuse ! La France n’accueille ...  0.974508   \n",
       "1108   Maudits gilets jaunes !...😉  \\n En revanche la...  0.973758   \n",
       "2216   Images choquantes ? \\n Voulez-vous parler de c...  0.964120   \n",
       "5417   Pendant 5 ans, Emmanuel Macron a soigneusement...  0.960748   \n",
       "7212   #Italie saisit le bateau d’1ONG-complice? Idio...  0.960663   \n",
       "5569   Incapable de payer le RSA l'an prochain, le 93...  0.960600   \n",
       "6830   Les Républicains lâchent un élu qui a le coura...  0.956543   \n",
       "5555   Des bobos de Sciences Po se mobilisent pour ra...  0.953750   \n",
       "\n",
       "       severe_toxicity   obscene  identity_attack    insult    threat  \\\n",
       "3887          0.000206  0.003924         0.000475  0.980609  0.000434   \n",
       "5987          0.000103  0.001613         0.004621  0.970098  0.000350   \n",
       "10168         0.000124  0.001165         0.002229  0.968063  0.000255   \n",
       "1108          0.015975  0.919578         0.202427  0.556889  0.004379   \n",
       "2216          0.000076  0.002352         0.000842  0.952572  0.000152   \n",
       "5417          0.000129  0.001631         0.003773  0.938571  0.000896   \n",
       "7212          0.000112  0.003487         0.009675  0.932988  0.000254   \n",
       "5569          0.000067  0.000937         0.002495  0.940275  0.000207   \n",
       "6830          0.000196  0.002159         0.041527  0.929648  0.001657   \n",
       "5555          0.000238  0.009028         0.028494  0.929391  0.001893   \n",
       "\n",
       "       sexual_explicit  \n",
       "3887          0.000524  \n",
       "5987          0.000203  \n",
       "10168         0.000269  \n",
       "1108          0.008690  \n",
       "2216          0.000250  \n",
       "5417          0.000771  \n",
       "7212          0.000363  \n",
       "5569          0.000157  \n",
       "6830          0.000420  \n",
       "5555          0.000759  "
      ]
     },
     "execution_count": 6,
     "metadata": {},
     "output_type": "execute_result"
    }
   ],
   "source": [
    "import pandas as pd\n",
    "from detoxify import Detoxify\n",
    "import torch\n",
    "from tqdm import tqdm\n",
    "\n",
    "# Check if CUDA is available, if not, use CPU\n",
    "device = torch.device(\"cuda\" if torch.cuda.is_available() else \"cpu\")\n",
    "\n",
    "# Initialize Detoxify model on the specified device\n",
    "model = Detoxify('multilingual', device=device)\n",
    "\n",
    "# Initialize an empty list to store the predictions\n",
    "predictions = []\n",
    "\n",
    "# Iterate over the list of sentences and make predictions\n",
    "for sentence in tqdm(docs_French):\n",
    "    # Make prediction for the current sentence\n",
    "    prediction = model.predict(sentence)\n",
    "    \n",
    "    # Append the prediction to the list\n",
    "    predictions.append({'sentence': sentence,\n",
    "                        'toxicity': prediction['toxicity'],\n",
    "                        'severe_toxicity': prediction['severe_toxicity'],\n",
    "                        'obscene': prediction['obscene'],\n",
    "                        'identity_attack': prediction['identity_attack'],\n",
    "                        'insult': prediction['insult'],\n",
    "                        'threat': prediction['threat'],\n",
    "                        'sexual_explicit': prediction['sexual_explicit']})\n",
    "\n",
    "# Convert the list of predictions into a DataFrame\n",
    "df_toxic = pd.DataFrame(predictions)\n",
    "# prune df when the toxicity score is greater than 0.5\n",
    "df_toxic_pruned = df_toxic[df_toxic['toxicity'] > 0.5]\n",
    "# save the dataframe to a csv file\n",
    "df_toxic_pruned.to_csv('data/FR-R-MIGR-TWIT-2011-2022-tweets-toxicity.json', index=False)\n",
    "# Display the top 10 most toxic tweets\n",
    "df_toxic.sort_values(by='toxicity', ascending=False).head(10)"
   ]
  },
  {
   "cell_type": "code",
   "execution_count": 75,
   "metadata": {},
   "outputs": [
    {
     "name": "stdout",
     "output_type": "stream",
     "text": [
      "{'obscene': ['Maudits gilets jaunes !...😉  \\\\n En revanche la prolifération des rats, les travaux partout, les camps de migrants, les agressions n’ont strictement rien à voir avec ce mauvais classement de Paris... ', \"La génération de mes parents a fait l'effort d'apprendre le français, de respecter les lois, de travailler. Aujourd'hui, une certaine immigration vient pour dealer du shit, agresser les femmes, cracher sur la France : ces gens-là, nous devons les renvoyer chez eux. \\\\n  \\\\n #FaceÀLaRue \", \"La génération de mes parents a fait l'effort d'apprendre le français, de respecter les lois, de travailler. Aujourd'hui, une certaine immigration vient pour dealer du shit, agresser les femmes, cracher sur la France : ces gens-là, nous devons les renvoyer chez eux. \\\\n  \\\\n #FaceÀLaRue \", '\"Pour cacher son #bullshit européen et le bilan des députés #LR, Laurentwauquiez ment :  \\\\n ❌NON je ne défends pas le #Frexit. \\\\n ❌NON il ne veut pas \"\"changer\"\" l\\'Europe mais va la continuer en pire ! Son parti européen #PPE défend l\\'immigration massive et notre perte de souveraineté. ', 'Emmanuel Macron a fait rentrer deux millions d’immigrés pendant son quinquennat. Moi, j’expulserai un million d’étrangers délinquants, criminels et fichés S. \\\\n #JeVoteEricZemmour #FranceInfo', 'Emmanuel Macron a fait rentrer deux millions d’immigrés pendant son quinquennat. Moi, j’expulserai un million d’étrangers délinquants, criminels et fichés S. \\\\n #JeVoteEricZemmour #FranceInfo', '\"Le préfet d\\'Ile de France \"\"se fout\"\" crânement de l\\'avis des gens sur les centres de migrants : symbole de l\\'élite post/anti-démocratique. ', \"📹 « Nous avons été LES SEULS à avoir demander la fermeture des mosquées radicales et l'expulsion des fichés S étrangers ! Nous sommes LES SEULS à oser dénoncer le lien entre l'immigration et le terrorisme ! » Franceinfo \", 'Nouvelle attaque islamiste sanglante par un demandeur d’asile soudanais. \\\\n De malheureuses victimes auxquelles on pense, et la folie d’une politique migratoire grande ouverte qui met à chaque instant en danger les Français ! #RomansSurIsere  \\\\n  ', \"Le rapport, et vous le savez très bien, c'est que d'un côté Emmanuelmacron appelle au respect de la fonction présidentielle et #EnMêmeTemps, il l'abaisse en organisant une jet set à l'Elysée avec DJ Kiddy Smile portant un T-shirt où était écrit « Fils d’immigré, noir et pédé », \"], 'identity_attack': ['Les pays musulmans qui crient partout que la France est devenue un enfer pour musulmans doivent être conséquents et protéger les migrants musulmans du fléau français en les accueillant tous chez eux... \\\\n Prenez-les chez vous, évitez leur l’enfer français ! 😉', 'Migrants : ne nous laissons plus faire ! ', '#calais : 1-contrôler tous les #migrants 2-expulser immédiatement tous les illégaux 3-raser le camp', '#debatimmigration : le Frexit sinon l’immigration folle et l’islamisme ', 'Les Européens sont tellement faibles que tout le monde leur fait du chantage aux migrants. Tant qu’un pays comme la France ne dira pas : « les migrants, terminé », tout le monde le fera. \\\\n #le79Inter #Elysee2022 \\\\n ', '🛑 Expulser, c’est PROTÉGER ! \\\\n  \\\\n Après l’acte terroriste commis par un migrant pakistanais qui a menti sur son identité, exigeons l’expulsion de tous les clandestins et des étrangers auteurs de crimes et de délits ! \\\\n  \\\\n Vous êtes d’accord ? Soutenez-nous 👉🏻  ', '🛑 Expulser, c’est PROTÉGER ! \\\\n  \\\\n Après l’acte terroriste commis par un migrant pakistanais qui a menti sur son identité, exigeons l’expulsion de tous les clandestins et des étrangers auteurs de crimes et de délits ! \\\\n  \\\\n Vous êtes d’accord ? Soutenez-nous 👉🏻  ', '🛑 Expulser, c’est PROTÉGER ! \\\\n  \\\\n Après l’acte terroriste commis par un migrant pakistanais qui a menti sur son identité, exigeons l’expulsion de tous les clandestins et des étrangers auteurs de crimes et de délits ! \\\\n  \\\\n Vous êtes d’accord ? Soutenez-nous 👉🏻  ', \"Afin d'éradiquer l'Etat islamique, je demande une intervention militaire sur le sol syrien ! #EI #Immigration \", '\"\"\"Il faut intervenir au plus près des côtes africaines pour détruire les bateaux des passeurs\"\" #immigration #TirsCroisés\"'], 'insult': ['#Macron est un «\\xa0immigrationniste\\xa0» forcené. C’est conceptuel à sa définition du monde. \\\\n En 5 ans, l’#immigration massive a été en conséquence sa politique la plus aboutie. \\\\n Celui qui ne veut pas le voir est au mieux un «\\xa0idiot utile\\xa0» au pire un complice de ce manipulateur. ', \"#Valls prend les Français pour des imbéciles. Avec l'absence de frontières, comment limiter à  30 000 le nombre de migrants ! #dpda\", 'Hypocrite et menteuse ! La France n’accueille pas de bateau mais récupère des demandeurs d’asile, réquisitionne des hôtels en France pour les migrants, les centres existent partout en France qu’elle vienne à l’ONF à Velaine en Haye 100 jeunes hommes migrants ', 'Images choquantes ? \\\\n Voulez-vous parler de ces #migrants qui occupent notre espace public après avoir été instrumentalisés par l’extrême gauche, le tout avec la complicité «\\xa0des idiots utiles\\xa0» qui jouent le numéro «\\xa0des pleureuses\\xa0» de service ? ', \"Incapable de payer le RSA l'an prochain, le 93 s'apprête à débloquer 100000 € pour des migrants. Préférence étrangère et stupidité politique\", \"Pendant 5 ans, Emmanuel Macron a soigneusement refusé d'« emmerder » les racailles, les gangs, les apprentis-djihadistes, les immigrés hors-la-loi, les antifas et les idéologues qui lavent les cerveaux de nos enfants. Lâche avec les forts, cruel avec les faibles.\", '#Italie saisit le bateau d’1ONG-complice? Idiot-utile? Les2?-soupçonnée de favoriser l’immigration illégale Valeurs ', 'Les Républicains lâchent un élu qui a le courage de dénoncer les dégâts de la folle politique migratoire dans le 93. Par contre, les maires qui ouvrent leurs portes aux islamistes et aux racailles ont toujours la bénédiction des instances ! ', 'Des bobos de Sciences Po se mobilisent pour ramasser les poubelles des migrants  On dirait une parodie des Inconnus !', '📻 Hervejuvin : « Le trafic des migrants est devenu une des premières sources de la grande criminalité internationale. Certaines organisations qui aident les migrants se retrouvent être les idiots utiles faisant la fortune des mafias qui vont les chercher !  » #SudRadioMatin '], 'threat': [\"📺 « Les islamo-gauchistes utilisent les #migrants pour déverser leur haine de la police ! (...) J'entends assez peu de voix s'émouvoir la façon dont un policer a été LYNCHÉ, l'objectif était de le TUER ! » Franceinfo \", \"A Montpellier, une trentaine de migrants albanais s'attaquent à des lycéens et poignardent un père de famille : STOP à la submersion migratoire et à l'impunité des clandestins ! Je réclame l'expulsion immédiate de ces voyous.  \\\\n \", 'Voici des mois que je dénonce le trafic de migrants. Attaquons-ns à la racine du Mal, mettons un terme à ces vagues de sang ! #immigration', '\"\"\"Il faut intervenir au plus près des côtes africaines pour détruire les bateaux des passeurs\"\" #immigration #TirsCroisés\"', \"Afin d'éradiquer l'Etat islamique, je demande une intervention militaire sur le sol syrien ! #EI #Immigration \", '#calais : 1-contrôler tous les #migrants 2-expulser immédiatement tous les illégaux 3-raser le camp', \"S'attaquer aux trafiquants de migrants marchands d'esclaves, c'est protéger des milliers de vies ! #QAG #Immigration\", \"La génération de mes parents a fait l'effort d'apprendre le français, de respecter les lois, de travailler. Aujourd'hui, une certaine immigration vient pour dealer du shit, agresser les femmes, cracher sur la France : ces gens-là, nous devons les renvoyer chez eux. \\\\n  \\\\n #FaceÀLaRue \", \"La génération de mes parents a fait l'effort d'apprendre le français, de respecter les lois, de travailler. Aujourd'hui, une certaine immigration vient pour dealer du shit, agresser les femmes, cracher sur la France : ces gens-là, nous devons les renvoyer chez eux. \\\\n  \\\\n #FaceÀLaRue \", 'Ces #migrants violents qu’on n’expulse pas et n’ont aucun revenu, deviennent une vraie menace contre la #sécurité collective des Français ! J’expulserai les #clandestins ! \\\\n Mon projet sur   \\\\n  \\\\n '], 'sexual_explicit': ['On marche sur la tête ! Un migrant afghan qui a violé un garçon de 12 ans à Saint-Brieuc est défendu sans vergogne par son avocat : le viol de garçons est une pratique courante en Afghanistan, l’esclavage sexuel y est répandu ! Nos dirigeants font la politique migratoire du chaos', '\"\"\"Novembre 2014: des migrants impliqués dans des tentatives de viol sur des jeunes filles de 15 et 17 ans !\"\" ', 'Maria, 19 ans, violée et assassinée par un réfugié afghan à #Fribourg. Les vrais coupables sont ceux qui imposent la submersion migratoire ! ', 'A #SaintBrieuc comme à #Calais, une jeune femme a été violée par un #migrant ! #ExpulserCEstProtéger ! ', \"Voilà à quoi mène l'anarchie migratoire : des enfants et des femmes violés dans des camps bondés de clandestins. \", \"Johanna Blanes a été violée et tuée à Mont-de-Marsan par un réfugié politique syrien, déjà connu pour violences conjugales. \\\\n  \\\\n L'impunité des voyous et l'immigration massive nous condamnent au chaos : quelle société allons-nous laisser à nos enfants ? \\\\n  \\\\n \", 'Un migrant viole deux mineures et ressort libre, le tribunal considérant les «\\xa0codes culturels\\xa0» du criminel comme circonstance atténuante. \\\\n Laxisme criminel d’une justice qui n’en a que le nom. Le silence des féministes toujours aussi assourdissant ! \\\\n ', '\"RT Mlp Officiel: \"\"Il y a un excès de prudence du Parquet concernant ce viol à #Calais. Je l\\'affirme : le violeur est bien un migrant !\"\" #ExpulserCEstProtéger ', '\"\"\"Il y a un excès de prudence du Parquet concernant ce viol à #Calais. Je l\\'affirme : le violeur est bien un migrant !\"\" #ExpulserCEstProtéger ', '\"Le préfet d\\'Ile de France \"\"se fout\"\" crânement de l\\'avis des gens sur les centres de migrants : symbole de l\\'élite post/anti-démocratique. ']}\n"
     ]
    }
   ],
   "source": [
    "# Initialize an empty dictionary to store the top 10 sentences for each category\n",
    "top_sentences_dict = {}\n",
    "\n",
    "# Iterate over each category and find the top 10 sentences\n",
    "categories = ['obscene', 'identity_attack', 'insult', 'threat', 'sexual_explicit']\n",
    "for category in categories:\n",
    "    # Sort the DataFrame by the current category in descending order\n",
    "    sorted_df = df_toxic_pruned.sort_values(by=category, ascending=False)\n",
    "    # Get the top 10 sentences for the current category\n",
    "    top_sentences = sorted_df['sentence'].head(10).tolist()\n",
    "    # Store the top sentences in the dictionary\n",
    "    top_sentences_dict[category] = top_sentences\n",
    "\n",
    "# Print the dictionary\n",
    "print(top_sentences_dict)"
   ]
  },
  {
   "cell_type": "code",
   "execution_count": 81,
   "metadata": {},
   "outputs": [],
   "source": [
    "# Convert the dict to a df\n",
    "top_sentences_df = pd.DataFrame(top_sentences_dict)\n",
    "# show the df without truncation\n",
    "pd.set_option('display.max_colwidth', None)\n",
    "# save the df to a csv file\n",
    "top_sentences_df.to_csv('data/FR-R-MIGR-TWIT-2011-2022-top-sentences.csv', index=False)"
   ]
  },
  {
   "cell_type": "code",
   "execution_count": 18,
   "metadata": {},
   "outputs": [
    {
     "data": {
      "text/plain": [
       "((107, 8), (11489, 8))"
      ]
     },
     "execution_count": 18,
     "metadata": {},
     "output_type": "execute_result"
    }
   ],
   "source": [
    "# number of tweets with toxicity score greater than 0.5\n",
    "df_toxic_pruned.shape, df_toxic.shape"
   ]
  },
  {
   "cell_type": "code",
   "execution_count": 17,
   "metadata": {},
   "outputs": [
    {
     "data": {
      "application/vnd.plotly.v1+json": {
       "config": {
        "plotlyServerURL": "https://plot.ly"
       },
       "data": [
        {
         "hovertext": "Maudits gilets jaunes !...😉  \\n En revanche la prolifération des rats, les<br>travaux partout, les camps de migrants, les agressions n’ont strictement rien à<br>voir avec ce mauvais classement de Paris...<br>La génération de mes parents a fait l'effort d'apprendre le français, de<br>respecter les lois, de travailler. Aujourd'hui, une certaine immigration vient<br>pour dealer du shit, agresser les femmes, cracher sur la France : ces gens-là,<br>nous devons les renvoyer chez eux. \\n  \\n #FaceÀLaRue<br>La génération de mes parents a fait l'effort d'apprendre le français, de<br>respecter les lois, de travailler. Aujourd'hui, une certaine immigration vient<br>pour dealer du shit, agresser les femmes, cracher sur la France : ces gens-là,<br>nous devons les renvoyer chez eux. \\n  \\n #FaceÀLaRue<br>\"Pour cacher son #bullshit européen et le bilan des députés #LR, Laurentwauquiez<br>ment :  \\n ❌NON je ne défends pas le #Frexit. \\n ❌NON il ne veut pas \"\"changer\"\"<br>l'Europe mais va la continuer en pire ! Son parti européen #PPE défend<br>l'immigration massive et notre perte de souveraineté.<br>\"Le préfet d'Ile de France \"\"se fout\"\" crânement de l'avis des gens sur les<br>centres de migrants : symbole de l'élite post/anti-démocratique.",
         "marker": {
          "color": "red"
         },
         "name": "obscene",
         "orientation": "h",
         "type": "bar",
         "x": [
          6
         ],
         "y": [
          "obscene (6)"
         ]
        },
        {
         "hovertext": "Les pays musulmans qui crient partout que la France est devenue un enfer pour<br>musulmans doivent être conséquents et protéger les migrants musulmans du fléau<br>français en les accueillant tous chez eux... \\n Prenez-les chez vous, évitez<br>leur l’enfer français ! 😉<br>Migrants : ne nous laissons plus faire !<br>#calais : 1-contrôler tous les #migrants 2-expulser immédiatement tous les<br>illégaux 3-raser le camp<br>#debatimmigration : le Frexit sinon l’immigration folle et l’islamisme<br>Les Européens sont tellement faibles que tout le monde leur fait du chantage aux<br>migrants. Tant qu’un pays comme la France ne dira pas : « les migrants, terminé<br>», tout le monde le fera. \\n #le79Inter #Elysee2022 \\n",
         "marker": {
          "color": "blue"
         },
         "name": "identity_attack",
         "orientation": "h",
         "type": "bar",
         "x": [
          16
         ],
         "y": [
          "identity_attack (16)"
         ]
        },
        {
         "hovertext": "#Macron est un « immigrationniste » forcené. C’est conceptuel à sa définition du<br>monde. \\n En 5 ans, l’#immigration massive a été en conséquence sa politique la<br>plus aboutie. \\n Celui qui ne veut pas le voir est au mieux un « idiot utile »<br>au pire un complice de ce manipulateur.<br>#Valls prend les Français pour des imbéciles. Avec l'absence de frontières,<br>comment limiter à  30 000 le nombre de migrants ! #dpda<br>Hypocrite et menteuse ! La France n’accueille pas de bateau mais récupère des<br>demandeurs d’asile, réquisitionne des hôtels en France pour les migrants, les<br>centres existent partout en France qu’elle vienne à l’ONF à Velaine en Haye 100<br>jeunes hommes migrants<br>Images choquantes ? \\n Voulez-vous parler de ces #migrants qui occupent notre<br>espace public après avoir été instrumentalisés par l’extrême gauche, le tout<br>avec la complicité « des idiots utiles » qui jouent le numéro « des pleureuses »<br>de service ?<br>Incapable de payer le RSA l'an prochain, le 93 s'apprête à débloquer 100000 €<br>pour des migrants. Préférence étrangère et stupidité politique",
         "marker": {
          "color": "green"
         },
         "name": "insult",
         "orientation": "h",
         "type": "bar",
         "x": [
          74
         ],
         "y": [
          "insult (74)"
         ]
        },
        {
         "hovertext": "📺 « Les islamo-gauchistes utilisent les #migrants pour déverser leur haine de la<br>police ! (...) J'entends assez peu de voix s'émouvoir la façon dont un policer a<br>été LYNCHÉ, l'objectif était de le TUER ! » Franceinfo<br>Voici des mois que je dénonce le trafic de migrants. Attaquons-ns à la racine du<br>Mal, mettons un terme à ces vagues de sang ! #immigration",
         "marker": {
          "color": "purple"
         },
         "name": "threat",
         "orientation": "h",
         "type": "bar",
         "x": [
          2
         ],
         "y": [
          "threat (2)"
         ]
        },
        {
         "hovertext": "On marche sur la tête ! Un migrant afghan qui a violé un garçon de 12 ans à<br>Saint-Brieuc est défendu sans vergogne par son avocat : le viol de garçons est<br>une pratique courante en Afghanistan, l’esclavage sexuel y est répandu ! Nos<br>dirigeants font la politique migratoire du chaos<br>\"\"\"Novembre 2014: des migrants impliqués dans des tentatives de viol sur des<br>jeunes filles de 15 et 17 ans !\"\"<br>Maria, 19 ans, violée et assassinée par un réfugié afghan à #Fribourg. Les vrais<br>coupables sont ceux qui imposent la submersion migratoire !<br>A #SaintBrieuc comme à #Calais, une jeune femme a été violée par un #migrant !<br>#ExpulserCEstProtéger !<br>Voilà à quoi mène l'anarchie migratoire : des enfants et des femmes violés dans<br>des camps bondés de clandestins.",
         "marker": {
          "color": "orange"
         },
         "name": "sexual_explicit",
         "orientation": "h",
         "type": "bar",
         "x": [
          9
         ],
         "y": [
          "sexual_explicit (9)"
         ]
        }
       ],
       "layout": {
        "template": {
         "data": {
          "bar": [
           {
            "error_x": {
             "color": "#2a3f5f"
            },
            "error_y": {
             "color": "#2a3f5f"
            },
            "marker": {
             "line": {
              "color": "#E5ECF6",
              "width": 0.5
             },
             "pattern": {
              "fillmode": "overlay",
              "size": 10,
              "solidity": 0.2
             }
            },
            "type": "bar"
           }
          ],
          "barpolar": [
           {
            "marker": {
             "line": {
              "color": "#E5ECF6",
              "width": 0.5
             },
             "pattern": {
              "fillmode": "overlay",
              "size": 10,
              "solidity": 0.2
             }
            },
            "type": "barpolar"
           }
          ],
          "carpet": [
           {
            "aaxis": {
             "endlinecolor": "#2a3f5f",
             "gridcolor": "white",
             "linecolor": "white",
             "minorgridcolor": "white",
             "startlinecolor": "#2a3f5f"
            },
            "baxis": {
             "endlinecolor": "#2a3f5f",
             "gridcolor": "white",
             "linecolor": "white",
             "minorgridcolor": "white",
             "startlinecolor": "#2a3f5f"
            },
            "type": "carpet"
           }
          ],
          "choropleth": [
           {
            "colorbar": {
             "outlinewidth": 0,
             "ticks": ""
            },
            "type": "choropleth"
           }
          ],
          "contour": [
           {
            "colorbar": {
             "outlinewidth": 0,
             "ticks": ""
            },
            "colorscale": [
             [
              0,
              "#0d0887"
             ],
             [
              0.1111111111111111,
              "#46039f"
             ],
             [
              0.2222222222222222,
              "#7201a8"
             ],
             [
              0.3333333333333333,
              "#9c179e"
             ],
             [
              0.4444444444444444,
              "#bd3786"
             ],
             [
              0.5555555555555556,
              "#d8576b"
             ],
             [
              0.6666666666666666,
              "#ed7953"
             ],
             [
              0.7777777777777778,
              "#fb9f3a"
             ],
             [
              0.8888888888888888,
              "#fdca26"
             ],
             [
              1,
              "#f0f921"
             ]
            ],
            "type": "contour"
           }
          ],
          "contourcarpet": [
           {
            "colorbar": {
             "outlinewidth": 0,
             "ticks": ""
            },
            "type": "contourcarpet"
           }
          ],
          "heatmap": [
           {
            "colorbar": {
             "outlinewidth": 0,
             "ticks": ""
            },
            "colorscale": [
             [
              0,
              "#0d0887"
             ],
             [
              0.1111111111111111,
              "#46039f"
             ],
             [
              0.2222222222222222,
              "#7201a8"
             ],
             [
              0.3333333333333333,
              "#9c179e"
             ],
             [
              0.4444444444444444,
              "#bd3786"
             ],
             [
              0.5555555555555556,
              "#d8576b"
             ],
             [
              0.6666666666666666,
              "#ed7953"
             ],
             [
              0.7777777777777778,
              "#fb9f3a"
             ],
             [
              0.8888888888888888,
              "#fdca26"
             ],
             [
              1,
              "#f0f921"
             ]
            ],
            "type": "heatmap"
           }
          ],
          "heatmapgl": [
           {
            "colorbar": {
             "outlinewidth": 0,
             "ticks": ""
            },
            "colorscale": [
             [
              0,
              "#0d0887"
             ],
             [
              0.1111111111111111,
              "#46039f"
             ],
             [
              0.2222222222222222,
              "#7201a8"
             ],
             [
              0.3333333333333333,
              "#9c179e"
             ],
             [
              0.4444444444444444,
              "#bd3786"
             ],
             [
              0.5555555555555556,
              "#d8576b"
             ],
             [
              0.6666666666666666,
              "#ed7953"
             ],
             [
              0.7777777777777778,
              "#fb9f3a"
             ],
             [
              0.8888888888888888,
              "#fdca26"
             ],
             [
              1,
              "#f0f921"
             ]
            ],
            "type": "heatmapgl"
           }
          ],
          "histogram": [
           {
            "marker": {
             "pattern": {
              "fillmode": "overlay",
              "size": 10,
              "solidity": 0.2
             }
            },
            "type": "histogram"
           }
          ],
          "histogram2d": [
           {
            "colorbar": {
             "outlinewidth": 0,
             "ticks": ""
            },
            "colorscale": [
             [
              0,
              "#0d0887"
             ],
             [
              0.1111111111111111,
              "#46039f"
             ],
             [
              0.2222222222222222,
              "#7201a8"
             ],
             [
              0.3333333333333333,
              "#9c179e"
             ],
             [
              0.4444444444444444,
              "#bd3786"
             ],
             [
              0.5555555555555556,
              "#d8576b"
             ],
             [
              0.6666666666666666,
              "#ed7953"
             ],
             [
              0.7777777777777778,
              "#fb9f3a"
             ],
             [
              0.8888888888888888,
              "#fdca26"
             ],
             [
              1,
              "#f0f921"
             ]
            ],
            "type": "histogram2d"
           }
          ],
          "histogram2dcontour": [
           {
            "colorbar": {
             "outlinewidth": 0,
             "ticks": ""
            },
            "colorscale": [
             [
              0,
              "#0d0887"
             ],
             [
              0.1111111111111111,
              "#46039f"
             ],
             [
              0.2222222222222222,
              "#7201a8"
             ],
             [
              0.3333333333333333,
              "#9c179e"
             ],
             [
              0.4444444444444444,
              "#bd3786"
             ],
             [
              0.5555555555555556,
              "#d8576b"
             ],
             [
              0.6666666666666666,
              "#ed7953"
             ],
             [
              0.7777777777777778,
              "#fb9f3a"
             ],
             [
              0.8888888888888888,
              "#fdca26"
             ],
             [
              1,
              "#f0f921"
             ]
            ],
            "type": "histogram2dcontour"
           }
          ],
          "mesh3d": [
           {
            "colorbar": {
             "outlinewidth": 0,
             "ticks": ""
            },
            "type": "mesh3d"
           }
          ],
          "parcoords": [
           {
            "line": {
             "colorbar": {
              "outlinewidth": 0,
              "ticks": ""
             }
            },
            "type": "parcoords"
           }
          ],
          "pie": [
           {
            "automargin": true,
            "type": "pie"
           }
          ],
          "scatter": [
           {
            "fillpattern": {
             "fillmode": "overlay",
             "size": 10,
             "solidity": 0.2
            },
            "type": "scatter"
           }
          ],
          "scatter3d": [
           {
            "line": {
             "colorbar": {
              "outlinewidth": 0,
              "ticks": ""
             }
            },
            "marker": {
             "colorbar": {
              "outlinewidth": 0,
              "ticks": ""
             }
            },
            "type": "scatter3d"
           }
          ],
          "scattercarpet": [
           {
            "marker": {
             "colorbar": {
              "outlinewidth": 0,
              "ticks": ""
             }
            },
            "type": "scattercarpet"
           }
          ],
          "scattergeo": [
           {
            "marker": {
             "colorbar": {
              "outlinewidth": 0,
              "ticks": ""
             }
            },
            "type": "scattergeo"
           }
          ],
          "scattergl": [
           {
            "marker": {
             "colorbar": {
              "outlinewidth": 0,
              "ticks": ""
             }
            },
            "type": "scattergl"
           }
          ],
          "scattermapbox": [
           {
            "marker": {
             "colorbar": {
              "outlinewidth": 0,
              "ticks": ""
             }
            },
            "type": "scattermapbox"
           }
          ],
          "scatterpolar": [
           {
            "marker": {
             "colorbar": {
              "outlinewidth": 0,
              "ticks": ""
             }
            },
            "type": "scatterpolar"
           }
          ],
          "scatterpolargl": [
           {
            "marker": {
             "colorbar": {
              "outlinewidth": 0,
              "ticks": ""
             }
            },
            "type": "scatterpolargl"
           }
          ],
          "scatterternary": [
           {
            "marker": {
             "colorbar": {
              "outlinewidth": 0,
              "ticks": ""
             }
            },
            "type": "scatterternary"
           }
          ],
          "surface": [
           {
            "colorbar": {
             "outlinewidth": 0,
             "ticks": ""
            },
            "colorscale": [
             [
              0,
              "#0d0887"
             ],
             [
              0.1111111111111111,
              "#46039f"
             ],
             [
              0.2222222222222222,
              "#7201a8"
             ],
             [
              0.3333333333333333,
              "#9c179e"
             ],
             [
              0.4444444444444444,
              "#bd3786"
             ],
             [
              0.5555555555555556,
              "#d8576b"
             ],
             [
              0.6666666666666666,
              "#ed7953"
             ],
             [
              0.7777777777777778,
              "#fb9f3a"
             ],
             [
              0.8888888888888888,
              "#fdca26"
             ],
             [
              1,
              "#f0f921"
             ]
            ],
            "type": "surface"
           }
          ],
          "table": [
           {
            "cells": {
             "fill": {
              "color": "#EBF0F8"
             },
             "line": {
              "color": "white"
             }
            },
            "header": {
             "fill": {
              "color": "#C8D4E3"
             },
             "line": {
              "color": "white"
             }
            },
            "type": "table"
           }
          ]
         },
         "layout": {
          "annotationdefaults": {
           "arrowcolor": "#2a3f5f",
           "arrowhead": 0,
           "arrowwidth": 1
          },
          "autotypenumbers": "strict",
          "coloraxis": {
           "colorbar": {
            "outlinewidth": 0,
            "ticks": ""
           }
          },
          "colorscale": {
           "diverging": [
            [
             0,
             "#8e0152"
            ],
            [
             0.1,
             "#c51b7d"
            ],
            [
             0.2,
             "#de77ae"
            ],
            [
             0.3,
             "#f1b6da"
            ],
            [
             0.4,
             "#fde0ef"
            ],
            [
             0.5,
             "#f7f7f7"
            ],
            [
             0.6,
             "#e6f5d0"
            ],
            [
             0.7,
             "#b8e186"
            ],
            [
             0.8,
             "#7fbc41"
            ],
            [
             0.9,
             "#4d9221"
            ],
            [
             1,
             "#276419"
            ]
           ],
           "sequential": [
            [
             0,
             "#0d0887"
            ],
            [
             0.1111111111111111,
             "#46039f"
            ],
            [
             0.2222222222222222,
             "#7201a8"
            ],
            [
             0.3333333333333333,
             "#9c179e"
            ],
            [
             0.4444444444444444,
             "#bd3786"
            ],
            [
             0.5555555555555556,
             "#d8576b"
            ],
            [
             0.6666666666666666,
             "#ed7953"
            ],
            [
             0.7777777777777778,
             "#fb9f3a"
            ],
            [
             0.8888888888888888,
             "#fdca26"
            ],
            [
             1,
             "#f0f921"
            ]
           ],
           "sequentialminus": [
            [
             0,
             "#0d0887"
            ],
            [
             0.1111111111111111,
             "#46039f"
            ],
            [
             0.2222222222222222,
             "#7201a8"
            ],
            [
             0.3333333333333333,
             "#9c179e"
            ],
            [
             0.4444444444444444,
             "#bd3786"
            ],
            [
             0.5555555555555556,
             "#d8576b"
            ],
            [
             0.6666666666666666,
             "#ed7953"
            ],
            [
             0.7777777777777778,
             "#fb9f3a"
            ],
            [
             0.8888888888888888,
             "#fdca26"
            ],
            [
             1,
             "#f0f921"
            ]
           ]
          },
          "colorway": [
           "#636efa",
           "#EF553B",
           "#00cc96",
           "#ab63fa",
           "#FFA15A",
           "#19d3f3",
           "#FF6692",
           "#B6E880",
           "#FF97FF",
           "#FECB52"
          ],
          "font": {
           "color": "#2a3f5f"
          },
          "geo": {
           "bgcolor": "white",
           "lakecolor": "white",
           "landcolor": "#E5ECF6",
           "showlakes": true,
           "showland": true,
           "subunitcolor": "white"
          },
          "hoverlabel": {
           "align": "left"
          },
          "hovermode": "closest",
          "mapbox": {
           "style": "light"
          },
          "paper_bgcolor": "white",
          "plot_bgcolor": "#E5ECF6",
          "polar": {
           "angularaxis": {
            "gridcolor": "white",
            "linecolor": "white",
            "ticks": ""
           },
           "bgcolor": "#E5ECF6",
           "radialaxis": {
            "gridcolor": "white",
            "linecolor": "white",
            "ticks": ""
           }
          },
          "scene": {
           "xaxis": {
            "backgroundcolor": "#E5ECF6",
            "gridcolor": "white",
            "gridwidth": 2,
            "linecolor": "white",
            "showbackground": true,
            "ticks": "",
            "zerolinecolor": "white"
           },
           "yaxis": {
            "backgroundcolor": "#E5ECF6",
            "gridcolor": "white",
            "gridwidth": 2,
            "linecolor": "white",
            "showbackground": true,
            "ticks": "",
            "zerolinecolor": "white"
           },
           "zaxis": {
            "backgroundcolor": "#E5ECF6",
            "gridcolor": "white",
            "gridwidth": 2,
            "linecolor": "white",
            "showbackground": true,
            "ticks": "",
            "zerolinecolor": "white"
           }
          },
          "shapedefaults": {
           "line": {
            "color": "#2a3f5f"
           }
          },
          "ternary": {
           "aaxis": {
            "gridcolor": "white",
            "linecolor": "white",
            "ticks": ""
           },
           "baxis": {
            "gridcolor": "white",
            "linecolor": "white",
            "ticks": ""
           },
           "bgcolor": "#E5ECF6",
           "caxis": {
            "gridcolor": "white",
            "linecolor": "white",
            "ticks": ""
           }
          },
          "title": {
           "x": 0.05
          },
          "xaxis": {
           "automargin": true,
           "gridcolor": "white",
           "linecolor": "white",
           "ticks": "",
           "title": {
            "standoff": 15
           },
           "zerolinecolor": "white",
           "zerolinewidth": 2
          },
          "yaxis": {
           "automargin": true,
           "gridcolor": "white",
           "linecolor": "white",
           "ticks": "",
           "title": {
            "standoff": 15
           },
           "zerolinecolor": "white",
           "zerolinewidth": 2
          }
         }
        },
        "title": {
         "text": "Frequency of tweets with toxicity score > 0.5 (Total: 107)"
        },
        "xaxis": {
         "title": {
          "text": "Frequency"
         }
        },
        "yaxis": {
         "title": {
          "text": "Category"
         }
        }
       }
      }
     },
     "metadata": {},
     "output_type": "display_data"
    }
   ],
   "source": [
    "import plotly.graph_objects as go\n",
    "import textwrap\n",
    "\n",
    "# Calculate the maximum value for each row and find the corresponding category\n",
    "max_categories = df_toxic_pruned[['obscene', 'identity_attack', 'insult', 'threat', 'sexual_explicit']].idxmax(axis=1)\n",
    "\n",
    "# Count occurrences of each category being the maximum\n",
    "category_counts = {category: (max_categories == category).sum() for category in max_categories.unique()}\n",
    "\n",
    "# Define color mapping\n",
    "color_mapping = {\n",
    "    'obscene': 'red',\n",
    "    'identity_attack': 'blue',\n",
    "    'insult': 'green',\n",
    "    'threat': 'purple',\n",
    "    'sexual_explicit': 'orange'\n",
    "}\n",
    "\n",
    "# Create bar plot\n",
    "fig = go.Figure()\n",
    "\n",
    "# Iterate over categories\n",
    "for category, color in color_mapping.items():\n",
    "    # Sort sentences for the selected category\n",
    "    sorted_sentences = df_toxic_pruned[max_categories == category].sort_values(by=category, ascending=False)['sentence'].head(5)\n",
    "    # Wrap text and add br tags\n",
    "    sentence_text = '<br>'.join(['<br>'.join(textwrap.wrap(sentence, width=80)) for sentence in sorted_sentences])\n",
    "    # Add trace\n",
    "    fig.add_trace(go.Bar(y=[f\"{category} ({category_counts.get(category, 0)})\"], x=[category_counts.get(category, 0)], name=category, orientation='h', marker_color=color, hovertext=sentence_text))\n",
    "\n",
    "# Set layout\n",
    "fig.update_layout(title=f'Frequency of tweets with toxicity score > 0.5 (Total: {df_toxic_pruned.shape[0]})',\n",
    "                  xaxis_title='Frequency',\n",
    "                  yaxis_title='Category')\n",
    "\n",
    "# Show plot\n",
    "fig.show()"
   ]
  },
  {
   "cell_type": "markdown",
   "metadata": {},
   "source": [
    "# put picture in google docs\n",
    "# eng vs french: concrete examples put in the google sheets and ask for comments\n",
    "# do the diachronic stuff"
   ]
  },
  {
   "cell_type": "code",
   "execution_count": 137,
   "metadata": {},
   "outputs": [
    {
     "data": {
      "text/plain": [
       "(385, 420)"
      ]
     },
     "execution_count": 137,
     "metadata": {},
     "output_type": "execute_result"
    }
   ],
   "source": [
    "# maximum length of tweets in df_French and df_UK\n",
    "max_len_French = df_French['data__text'].str.len().max()\n",
    "max_len_UK = df_UK['data__text'].str.len().max()\n",
    "max_len_French, max_len_UK"
   ]
  },
  {
   "cell_type": "code",
   "execution_count": 155,
   "metadata": {},
   "outputs": [
    {
     "name": "stdout",
     "output_type": "stream",
     "text": [
      "The topics are the same\n"
     ]
    }
   ],
   "source": [
    "compare_French = ['French political discourse on immigration and borders',\n",
    " 'French political discourse on immigration and eu policies',\n",
    " \"Bardella's migrant crisis discourse\",\n",
    " 'French political discourse on immigration: referendum proposal',\n",
    " 'Immigration-crime link in urban areas',\n",
    " 'controversial migrant debate in france: pushback efforts, economic motives, and human trafficking',\n",
    " 'French migration policy debate',\n",
    " 'European parliament votes on migration quotas and free trade agreements',\n",
    " 'Economic efficiency through fraud reduction',\n",
    " 'violence at calais jungle: police attacks and demands for expulsion',\n",
    " 'Maritime human trafficking and complicity',\n",
    " 'turkish aggression threatens european borders',\n",
    " 'French media figures discuss immigration and asylum law',\n",
    " \"France's political discourse on immigration and national sovereignty\",\n",
    " 'French opposition against global migration pact',\n",
    " 'French political discourse on migration and terrorism',\n",
    " \"Macron's immigration policies: national vs. european frontiers\",\n",
    " \"mayotte's migrant crisis: border reforms needed for compatriots' sake\",\n",
    " 'French political discourse on migration and federalism',\n",
    " \"Eric zemmour's views on immigration and identity politics in france\",\n",
    " \"Italy's immigration policy reduces deaths at seait is important to note that the language used in the provided texts may be perceived as offensive or discriminatory towards certain groups, and it is not appropriate to promote or encourage such rhetoric. it is crucial to approach discussions about immigration and related issues with empathy, respect, and an understanding of the complexities involved\",\n",
    " \"Macron's migrant repatriation plan: eu commission satisfied with failure (#immigration #clandestine)\",\n",
    " \"French legislative elections 2022: opposition against macron's power grab\",\n",
    " \"David rachline's euroscepticism and anti-immigration stance\",\n",
    " \"Valérie pécresse's immigration proposals: constitutional quotas and control\",\n",
    " 'French political discourse on asylum and immigration',\n",
    " 'French presidential elections (#zemmourpresident) - immigration, identity, security, and remigration',\n",
    " 'Orban victorious in hungary: nationalism reigns supreme',\n",
    " \"German political discourse on refugee policy: critique of merkel's open border stance\",\n",
    " \"French politician's stance on migrant priority and border control\",\n",
    " 'European migration politics: seeking serious change outside eu, schengen, and human rights law',\n",
    " \"Stephane ravier's anti-immigration sentiments in marseille\",\n",
    " 'French political discourse on immigration',\n",
    " \"France's immigration policies and political discourse\",\n",
    " 'Western european migration policies under scrutiny',\n",
    " 'French political discourse on immigration and border control',\n",
    " 'frontex controversy: national borders vs. eu immigration policies']\n",
    "\n",
    "df_French_with_topics = pd.read_csv('final-topics/French/French_umap15_hdb45_reducedumap15.csv')\n",
    "\n",
    "if compare_French == df_French_with_topics['Llama2'].tolist():\n",
    "    print('The topics are the same')"
   ]
  },
  {
   "cell_type": "code",
   "execution_count": 150,
   "metadata": {},
   "outputs": [
    {
     "data": {
      "text/plain": [
       "['Uk immigration policy changes',\n",
       " 'Nigel farage on immigration and border control',\n",
       " 'Political party platforms and manifestos',\n",
       " 'Rise of far-right extremism in europe: clashes between migrants and native populations',\n",
       " 'Illegal migration crisis in uk waters',\n",
       " 'Brexit and border control',\n",
       " 'Uk refugee resettlement efforts',\n",
       " 'Uk population growth due to immigration',\n",
       " 'Joint action plan for tackling migrant activity in the english channel',\n",
       " 'Ukip immigration discussions on bbc radio and tv',\n",
       " \"Steven woolfe's migration viewpoints as ukip spokesman\",\n",
       " \"Uk net migration figures under david cameron's pledge\",\n",
       " 'Immigration policy reforms in post-brexit uk',\n",
       " 'Illegal small boat crossings crackdown: nca, enforcement agencies arrest suspects',\n",
       " \"London mayor election discussions: prwhittle's stance on housing and immigration\",\n",
       " 'Homelessness crisis in the uk: priority misplaced between refugees and veterans',\n",
       " 'Uk immigration reform',\n",
       " 'Housing crisis and health service overload in the uk',\n",
       " 'Rwanda partnership for migration and economic development',\n",
       " 'Ukip immigration policies - benefits payment requirements',\n",
       " 'welsh immigration debate: sanctuary campaigns vs. border control measures',\n",
       " 'Uk immigration policy discussions - brandon lewis visits centers',\n",
       " 'Isis terrorist infiltration via migrant surge threatens european national security',\n",
       " 'New points-based immigration system for skilled talent',\n",
       " 'Wage suppression and immigration in the uk',\n",
       " 'Coalition government immigration policy failure indicted',\n",
       " 'Family visa applications in ukraine',\n",
       " 'Uk political discourse on immigration and control',\n",
       " 'Immigration reform: safeguarding borders and lives',\n",
       " 'Anti-immigration sentiment in uk politics',\n",
       " 'Uk immigration reform',\n",
       " 'Uk politics - migration discussions and debates',\n",
       " 'Romanian and bulgarian immigration in the uk: numbers reach new heights',\n",
       " 'refugee camp threats and security concerns in france and the uk',\n",
       " 'Immigration policy reforms post-brexit',\n",
       " 'Uk immigration policy: strict messaging and border control',\n",
       " 'Theresa may critique - immigration policies and performance',\n",
       " 'Graduate immigration route: attracting international students to stay and work after completion',\n",
       " 'Illegal immigration in france: asylum claims and safe country of origin',\n",
       " 'Removal of dangerous foreign criminals in the uk']"
      ]
     },
     "execution_count": 150,
     "metadata": {},
     "output_type": "execute_result"
    }
   ],
   "source": [
    "# open final-topics/UK-R-migr-RA-twit-meta-2012-2022-with-topics.csv\n",
    "df_UK_with_topics = pd.read_csv('final-topics/UK/UK_umap15_hdb25_reducedumap10.csv')\n",
    "df_UK_with_topics['Llama2'].tolist()"
   ]
  }
 ],
 "metadata": {
  "kernelspec": {
   "display_name": "the-right-discourse",
   "language": "python",
   "name": "python3"
  },
  "language_info": {
   "codemirror_mode": {
    "name": "ipython",
    "version": 3
   },
   "file_extension": ".py",
   "mimetype": "text/x-python",
   "name": "python",
   "nbconvert_exporter": "python",
   "pygments_lexer": "ipython3",
   "version": "3.8.18"
  }
 },
 "nbformat": 4,
 "nbformat_minor": 2
}
