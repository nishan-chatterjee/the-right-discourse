{
 "cells": [
  {
   "cell_type": "code",
   "execution_count": 1,
   "metadata": {},
   "outputs": [
    {
     "name": "stderr",
     "output_type": "stream",
     "text": [
      "100%|██████████| 4/4 [00:00<00:00,  9.26it/s]\n"
     ]
    },
    {
     "name": "stdout",
     "output_type": "stream",
     "text": [
      "Generated Labels: ['Logos', 'Reasoning', 'Simplification', 'Thought-terminating cliché']\n",
      "Generated Labels: ['Logos', 'Reasoning', 'Simplification', 'Thought-terminating cliché']\n",
      "Generated Labels: []\n",
      "Generated Labels: ['Logos', 'Justification', 'Slogans', 'Flag-waving', 'Pathos']\n"
     ]
    }
   ],
   "source": [
    "import torch\n",
    "import numpy as np\n",
    "import networkx as nx\n",
    "from transformers import AutoModelForSequenceClassification, AutoTokenizer\n",
    "import pandas as pd\n",
    "from tqdm import tqdm\n",
    "\n",
    "def _make_logits_consistent(x, R):\n",
    "    c_out = x.unsqueeze(1) + 10\n",
    "    c_out = c_out.expand(len(x), R.shape[1], R.shape[1])\n",
    "    R_batch = R.expand(len(x), R.shape[1], R.shape[1]).to(x.device)\n",
    "    final_out, _ = torch.max(R_batch * c_out, dim=2)\n",
    "    return final_out - 10\n",
    "\n",
    "def generate_labels_for_text(model_dir, texts):\n",
    "    # Initialize the graph and other necessary components\n",
    "    G = nx.DiGraph()\n",
    "    G.add_edge(\"ROOT\", \"Logos\")\n",
    "    G.add_edge(\"Logos\", \"Repetition\")\n",
    "    G.add_edge(\"Logos\", \"Obfuscation, Intentional vagueness, Confusion\")\n",
    "    G.add_edge(\"Logos\", \"Reasoning\")\n",
    "    G.add_edge(\"Logos\", \"Justification\")\n",
    "    G.add_edge(\"Justification\", \"Slogans\")\n",
    "    G.add_edge(\"Justification\", \"Bandwagon\")\n",
    "    G.add_edge(\"Justification\", \"Appeal to authority\")\n",
    "    G.add_edge(\"Justification\", \"Flag-waving\")\n",
    "    G.add_edge(\"Justification\", \"Appeal to fear/prejudice\")\n",
    "    G.add_edge(\"Reasoning\", \"Simplification\")\n",
    "    G.add_edge(\"Simplification\", \"Causal Oversimplification\")\n",
    "    G.add_edge(\"Simplification\", \"Black-and-white Fallacy/Dictatorship\")\n",
    "    G.add_edge(\"Simplification\", \"Thought-terminating cliché\")\n",
    "    G.add_edge(\"Reasoning\", \"Distraction\")\n",
    "    G.add_edge(\"Distraction\", \"Misrepresentation of Someone's Position (Straw Man)\")\n",
    "    G.add_edge(\"Distraction\", \"Presenting Irrelevant Data (Red Herring)\")\n",
    "    G.add_edge(\"Distraction\", \"Whataboutism\")\n",
    "    G.add_edge(\"ROOT\", \"Ethos\")\n",
    "    G.add_edge(\"Ethos\", \"Appeal to authority\")\n",
    "    G.add_edge(\"Ethos\", \"Glittering generalities (Virtue)\")\n",
    "    G.add_edge(\"Ethos\", \"Bandwagon\")\n",
    "    G.add_edge(\"Ethos\", \"Ad Hominem\")\n",
    "    G.add_edge(\"Ethos\", \"Transfer\")\n",
    "    G.add_edge(\"Ad Hominem\", \"Doubt\")\n",
    "    G.add_edge(\"Ad Hominem\", \"Name calling/Labeling\")\n",
    "    G.add_edge(\"Ad Hominem\", \"Smears\")\n",
    "    G.add_edge(\"Ad Hominem\", \"Reductio ad hitlerum\")\n",
    "    G.add_edge(\"Ad Hominem\", \"Whataboutism\")\n",
    "    G.add_edge(\"ROOT\", \"Pathos\")\n",
    "    G.add_edge(\"Pathos\", \"Exaggeration/Minimisation\")\n",
    "    G.add_edge(\"Pathos\", \"Loaded Language\")\n",
    "    G.add_edge(\"Pathos\", \"Appeal to (Strong) Emotions\")\n",
    "    G.add_edge(\"Pathos\", \"Appeal to fear/prejudice\")\n",
    "    G.add_edge(\"Pathos\", \"Flag-waving\")\n",
    "    G.add_edge(\"Pathos\", \"Transfer\")\n",
    "    \n",
    "    # Load the best model from the specified directory\n",
    "    tokenizer = AutoTokenizer.from_pretrained(\"facebook/mbart-large-50-many-to-many-mmt\")\n",
    "    model = AutoModelForSequenceClassification.from_pretrained(model_dir)\n",
    "\n",
    "    # Move the model to the GPU device if available\n",
    "    device = torch.device(\"cuda\" if torch.cuda.is_available() else \"cpu\")\n",
    "    model.to(device)\n",
    "\n",
    "    # Define R matrix and other necessary components\n",
    "    A = nx.to_numpy_array(G)\n",
    "    R = np.zeros(A.shape)\n",
    "    np.fill_diagonal(R, 1)\n",
    "    g = nx.DiGraph(A)\n",
    "    for i in range(len(A)):\n",
    "        descendants = list(nx.descendants(g, i))\n",
    "        if descendants:\n",
    "            R[i, descendants] = 1\n",
    "    R = torch.tensor(R)\n",
    "    # Transpose to get the ancestors for each node\n",
    "    R = R.transpose(1, 0)\n",
    "    R = R.unsqueeze(0)\n",
    "\n",
    "    n_map = dict((n, i) for i, n in enumerate(G.nodes))\n",
    "\n",
    "    A = nx.to_numpy_array(G).transpose()\n",
    "    R = np.zeros(A.shape)\n",
    "    np.fill_diagonal(R, 1)\n",
    "    g = nx.DiGraph(A)\n",
    "    for i in range(len(A)):\n",
    "        descendants = list(nx.descendants(g, i))\n",
    "        if descendants:\n",
    "            R[i, descendants] = 1\n",
    "    R = torch.tensor(R)\n",
    "    # Transpose to get the ancestors for each node\n",
    "    R = R.transpose(1, 0)\n",
    "    R = R.unsqueeze(0)\n",
    "\n",
    "    # Initialize a list to store the predicted labels for each text\n",
    "    all_predicted_labels = []\n",
    "    # all_predicted_probabilities = []\n",
    "\n",
    "    # Iterate over the list of texts\n",
    "    for text in tqdm(texts):\n",
    "        # Encode the input text\n",
    "        encoding = tokenizer.encode_plus(\n",
    "            text,\n",
    "            add_special_tokens=True,\n",
    "            max_length=128,  # Assuming the same max_length as used during training\n",
    "            return_token_type_ids=False,\n",
    "            padding=\"max_length\",\n",
    "            truncation=True,\n",
    "            return_attention_mask=True,\n",
    "            return_tensors=\"pt\",\n",
    "        )\n",
    "\n",
    "        # Perform inference\n",
    "        with torch.no_grad():\n",
    "            outputs = model(\n",
    "                input_ids=encoding[\"input_ids\"].to(device),\n",
    "                attention_mask=encoding[\"attention_mask\"].to(device),\n",
    "            )\n",
    "        logits = outputs.logits\n",
    "        # Adjust logits if needed\n",
    "        logits = outputs.logits\n",
    "        logits = _make_logits_consistent(logits, R)\n",
    "        logits[:, 0] = -1.0\n",
    "        logits = logits > 0.0\n",
    "        # Convert logits to labels\n",
    "        labels = np.array(G.nodes)[logits[0].cpu().nonzero()].flatten().tolist()\n",
    "        # probabilities = torch.sigmoid(logits[0].float()).cpu().numpy()\n",
    "\n",
    "        # Append the predicted labels for the current text to the list\n",
    "        all_predicted_labels.append(labels)\n",
    "        # all_predicted_probabilities.append(probabilities)\n",
    "\n",
    "    return all_predicted_labels\n",
    "    # return all_predicted_labels, all_predicted_probabilities\n",
    "\n",
    "# Assuming model_dir and texts are provided\n",
    "best_model_dir = \"../../what-do-you-meme/subtask1/models/mBART-with-hierarchy-redo/best_model_lr5e-05_maxlen256_batchsize64_epoch3\"\n",
    "texts_to_label = [\n",
    "    \"THIS IS WHY YOU NEED. A SHARPIE WITH YOU AT ALL TIMES.\",\n",
    "    \"WHEN YOU'RE THE FBI, THEY LET YOU DO IT.\",\n",
    "    \"Move your ships away!\\n\\noooook\\n\\nMove your ships away!\\n\\nNo, and I just added 10 more\",\n",
    "    \"Let's Make America Great Again!\"\n",
    "\n",
    "]\n",
    "\n",
    "# Generate labels for the list of texts using the best model\n",
    "# all_predicted_labels, all_predicted_probabilities = generate_labels_for_text(best_model_dir, texts_to_label)\n",
    "all_predicted_labels = generate_labels_for_text(best_model_dir, texts_to_label)\n",
    "\n",
    "# Print the generated labels for each text\n",
    "for text, labels in zip(texts_to_label, all_predicted_labels):\n",
    "    print(f\"Generated Labels:\", labels)\n",
    "    \n",
    "# Print the generated probabilities for each text\n",
    "# for text, probabilities in zip(texts_to_label, all_predicted_probabilities):\n",
    "#     print(f\"Generated Probabilities:\", probabilities)"
   ]
  },
  {
   "cell_type": "code",
   "execution_count": 2,
   "metadata": {},
   "outputs": [
    {
     "data": {
      "text/plain": [
       "[\"RT John Denham can't bring himself to admit immigration is too high. If Labour can't do that, this 'apology' is meaningless.\",\n",
       " 'Just raised issue in HofC of support for Syrian refugees in Turkey, with Foreign Sec, encouraging response with financial support.',\n",
       " 'We made a clear promise to the British public ... this gov would reduce and control immigration - Home Secretary ',\n",
       " '‘We’re delivering on our promise to control immigration’ – Home Secretary Theresa May ',\n",
       " 'In her speech today the Home Secretary addressed some common misconceptions about immigration ']"
      ]
     },
     "execution_count": 2,
     "metadata": {},
     "output_type": "execute_result"
    }
   ],
   "source": [
    "# read the txt file\n",
    "with open('../../march-of-nationalism/data/UK-R-migr-RA-twit-meta-2012-2022-tweets-only.txt', 'r') as f:\n",
    "    docs_UK = f.read().splitlines()\n",
    "\n",
    "docs_UK[:5]"
   ]
  },
  {
   "cell_type": "code",
   "execution_count": 3,
   "metadata": {},
   "outputs": [
    {
     "name": "stderr",
     "output_type": "stream",
     "text": [
      "100%|██████████| 6457/6457 [02:48<00:00, 38.24it/s]\n"
     ]
    },
    {
     "name": "stdout",
     "output_type": "stream",
     "text": [
      "Labels generated and saved to ../data/UK-migr-2012-2022-tweets-persuasion.json.\n"
     ]
    }
   ],
   "source": [
    "\"\"\"Label the UK Tweets with the best classifier\"\"\"\n",
    "\n",
    "import json\n",
    "\n",
    "def tweet_labels(tweets, output_file_path, model_dir):\n",
    "    \n",
    "    outputs_predictions = generate_labels_for_text(model_dir, tweets)\n",
    "    outputs = []\n",
    "    for tweet, predictions in zip(tweets, outputs_predictions):\n",
    "\n",
    "        result_item = {\n",
    "            \"tweet\": tweet,\n",
    "            \"labels\": predictions\n",
    "        }\n",
    "\n",
    "        outputs.append(result_item)\n",
    "\n",
    "    with open(output_file_path, 'w', encoding='utf-8') as output_file:\n",
    "        json.dump(outputs, output_file, ensure_ascii=False, indent=2)\n",
    "\n",
    "# Example usage\n",
    "output_file_path_UK = '../data/UK-migr-2012-2022-tweets-persuasion.json'\n",
    "\n",
    "tweet_labels(docs_UK, output_file_path_UK, best_model_dir)\n",
    "\n",
    "print(f\"Labels generated and saved to {output_file_path_UK}.\")"
   ]
  },
  {
   "cell_type": "code",
   "execution_count": 4,
   "metadata": {},
   "outputs": [
    {
     "data": {
      "text/plain": [
       "[\"Dans cette vidéo, je dénonçais l'arnaque des bons sentiments en matière d'immigration \",\n",
       " \"Je démonte les idées reçues sur l'immigration \",\n",
       " \"A 15H aux questions d'actualités, j'interogerai M. Guéant sur les faits de délinquance liés à l'immigration clandestine venue de Tunisie\",\n",
       " 'Nicolas Bay invité de « Objectif Elysée » en débat sur l’immigration | Front National: ',\n",
       " 'Guéant reconnaît le bilan dramatique de la politique d’immigration de #Sarkozy | Front National: ']"
      ]
     },
     "execution_count": 4,
     "metadata": {},
     "output_type": "execute_result"
    }
   ],
   "source": [
    "# read the txt file\n",
    "with open('../../march-of-nationalism/data/FR-R-MIGR-TWIT-2011-2022_meta-tweets-only.txt', 'r') as f:\n",
    "    docs_French = f.read().splitlines()\n",
    "\n",
    "docs_French[:5]"
   ]
  },
  {
   "cell_type": "code",
   "execution_count": 5,
   "metadata": {},
   "outputs": [
    {
     "name": "stderr",
     "output_type": "stream",
     "text": [
      "100%|██████████| 11489/11489 [05:05<00:00, 37.61it/s]\n"
     ]
    },
    {
     "name": "stdout",
     "output_type": "stream",
     "text": [
      "Labels generated and saved to ../data/FR-migr-2011-2022-tweets-persuasion.json.\n"
     ]
    }
   ],
   "source": [
    "output_file_path_French = '../data/FR-migr-2011-2022-tweets-persuasion.json'\n",
    "\n",
    "tweet_labels(docs_French, output_file_path_French, best_model_dir)\n",
    "\n",
    "print(f\"Labels generated and saved to {output_file_path_French}.\")"
   ]
  },
  {
   "cell_type": "code",
   "execution_count": 6,
   "metadata": {},
   "outputs": [
    {
     "data": {
      "application/vnd.plotly.v1+json": {
       "config": {
        "plotlyServerURL": "https://plot.ly"
       },
       "data": [
        {
         "hovertext": [
          "UK Logos:<br>RT John Denham can't bring himself to admit immigration is too high. If Labour can't do that, this 'apology' is meaningless.<br>We made a clear promise to the British public ... this gov would reduce and control immigration - Home Secretary <br>‘We’re delivering on our promise to control immigration’ – Home Secretary Theresa May <br>Home Secretary: ‘We’re proving that it is possible to get the immigration system to work in our national interest.’ <br>Home Secretary: ‘main reasons to control immigration: its effect on social cohesion,  infrastructure, public services, jobs &amp; wages.’",
          "UK Ethos:<br>RT John Denham can't bring himself to admit immigration is too high. If Labour can't do that, this 'apology' is meaningless.<br>Just raised issue in HofC of support for Syrian refugees in Turkey, with Foreign Sec, encouraging response with financial support.<br>We made a clear promise to the British public ... this gov would reduce and control immigration - Home Secretary <br>‘We’re delivering on our promise to control immigration’ – Home Secretary Theresa May <br>Home Secretary: ‘We’re proving that it is possible to get the immigration system to work in our national interest.’ ",
          "UK Repetition:<br>Truth hurts! The whole truth hurts even more!  <br>#UKIP Leader \"I am pro immigration. But I'm pro CONTROLLED immigration\"  #AskFarage #AskNigelFarage <br>RT I am pro immigration. But I'm pro CONTROLLED immigration... #AskFarage #AskNigelFarage #bbcqt <br>I am pro immigration. But I'm pro CONTROLLED immigration... #AskFarage #AskNigelFarage #bbcqt <br>War lies, immigration lies, who knows what other lies pet ",
          "UK Reasoning:<br>RT John Denham can't bring himself to admit immigration is too high. If Labour can't do that, this 'apology' is meaningless.<br>Damian Green: Education providers have to meet strict standards...provide quality education &amp; take immigration responsibilities seriously<br>Net migration falls as immigration reforms start to take hold – find out more: <br>Immigration minister Damian Green: This is a completely selfish and irresponsible decision by the #PCS leadership<br>UKIP: Our immigration policy is now mainstream ",
          "UK Justification:<br>‘We’re delivering on our promise to control immigration’ – Home Secretary Theresa May <br>Home Secretary: ‘We’re proving that it is possible to get the immigration system to work in our national interest.’ <br>Home Secretary: ‘main reasons to control immigration: its effect on social cohesion,  infrastructure, public services, jobs &amp; wages.’<br>Immigration minister Mark Harper: ‘Our tough policies are taking effect &amp; this marks a significant step towards bringing net migration down’<br>Damian Green: Education providers have to meet strict standards...provide quality education &amp; take immigration responsibilities seriously",
          "UK Glittering generalities (Virtue):<br>Home Secretary speech highlights measures to control immigration while continuing to attract the brightest and best global talent.<br>RT Somalian refugees. Coming over here, winning 2 gold medals for us.<br>Immigration Minister, Mark Harper praises Border Force following largest cocaine seizure in over two years <br>Immigration removal centre praised as “safe, calm and positive” by independent inspectors <br>Labour MEPs voted FOR the removal of immigration restrictions and better social security to support the free movement of people on 7th Feb",
          "UK Ad Hominem:<br>RT John Denham can't bring himself to admit immigration is too high. If Labour can't do that, this 'apology' is meaningless.<br>Just raised issue in HofC of support for Syrian refugees in Turkey, with Foreign Sec, encouraging response with financial support.<br>Damian Green: Education providers have to meet strict standards...provide quality education &amp; take immigration responsibilities seriously<br>BBC has just reported on action taken to stop rogue landlords exploiting illegal immigrants. Find out more  #bedsinsheds<br>Many migrants illegally staying in sheds are forced to live in squalid &amp; overcrowded conditions  #bedsinsheds",
          "UK Exaggeration/Minimisation:<br>Britain has biggest population boom in Europe as half a million migrants enter in one year <br>UKIP now the most trusted party on immigration in the country - 30% trust UKIP most <br>I never turned against the Romanian people, only those who want uncontrolled immigration. And I was always against then.<br>When even the bosses' paper says mass immigration cheap labour is bad for the economy, you'd netter believe it! <br>The only problem Britain has with Muslims is thr mass immigration into Britain. Reverse that tide &amp; mideast politics nothing to do with us!",
          "UK Loaded Language:<br>RT John Denham can't bring himself to admit immigration is too high. If Labour can't do that, this 'apology' is meaningless.<br>Immigration Minister Mark Harper calls for international partners to redouble efforts against human trafficking <br>First UK government human trafficking report published today by Immigration Minister Mark Harper  #AntiSlaveryDay<br>BBC has just reported on action taken to stop rogue landlords exploiting illegal immigrants. Find out more  #bedsinsheds<br>Many migrants illegally staying in sheds are forced to live in squalid &amp; overcrowded conditions  #bedsinsheds",
          "UK Simplification:<br>RT John Denham can't bring himself to admit immigration is too high. If Labour can't do that, this 'apology' is meaningless.<br>Damian Green: Education providers have to meet strict standards...provide quality education &amp; take immigration responsibilities seriously<br>Net migration falls as immigration reforms start to take hold – find out more: <br>Immigration minister Damian Green: This is a completely selfish and irresponsible decision by the #PCS leadership<br>UKIP: Our immigration policy is now mainstream ",
          "UK Distraction:<br>UKIP MEP UK 'cannot afford' Bulgarian and Romanian immigrants <br>RT UKIP to take much tougher line on immigration in London Assembly elections, though about half their candidates are black or Asian<br>But paying a plumber in cash is 'immoral'? This government is disastrously out of touch <br>We wouldn't have to build so many new houses if we hadn't had uncontrolled immigration. And the other 3 parties want more people to come!<br>Fact Westminster elite have broken Britain but talk tough on immigration 2 con masses &amp; steal BNP votes isn't news!",
          "UK Slogans:<br>#OpMayapple is not just about making arrests. We are working to support those who choose to return voluntarily. <br>Tackling overstaying is one part of a much larger effort to remove illegal migrants no longer entitled to be in the UK #OpMayapple<br>Immigration Minister Damian Green: pleased the PCS leadership has seen sense and called off this irresponsible strike #PCS #London2012<br>UKIP London manifesto pledge: Create more jobs for Londoners by saying ‘No’ to open-door immigration. #freshchoice<br>Fixing the immigration system cannot be done overnight but #ImmigrationBill will help us further along that road ",
          "UK Bandwagon:<br>3 out of 4 voters agree with #UKIP's immigration policy. Can you trust Cameron to control our borders? <br>Gove spot on. We value migration but we want to take back control #VoteLeave #bbcqt<br>59% of people want an Australian-style points-based migration system, including 68% who voted Leave #NoBacksliding <br>Good video by a young Londoner (who, unlike all too many, still sounds like one) explaining the impact of mass #Immigration on one important aspect of our #indigenous culture and identity - regional accents. Give him a Like and so.r share!#dieversity\\n",
          "UK Appeal to authority:<br>‘We’re delivering on our promise to control immigration’ – Home Secretary Theresa May <br>Home Secretary: ‘We’re proving that it is possible to get the immigration system to work in our national interest.’ <br>Home Secretary: ‘main reasons to control immigration: its effect on social cohesion,  infrastructure, public services, jobs &amp; wages.’<br>Immigration minister Mark Harper: ‘Our tough policies are taking effect &amp; this marks a significant step towards bringing net migration down’<br>Damian Green: Education providers have to meet strict standards...provide quality education &amp; take immigration responsibilities seriously",
          "UK Flag-waving:<br>Memo to #VinnieJones: You're 100% right,  immigration has made Britain unrecognisable. But USA on same slippery slope. Come back &amp; fight!<br>.\"It is time to leave the EU to become a competitive, engaged, patriotic nation once more\" <br>What kind of party won't let the public see its debate on the Islamic problem? Love Britain - reverse the immigration disaster!<br>Half a million Africans heading our way - thanks to #ISIS and #Cameron - who GAVE them #Libya  #UKIP #BritainFirst<br>RT I now firmly believe that we are going to win this referendum, Leave EU and get our country back. #Brexit ",
          "UK Appeal to fear/prejudice:<br>Immigration minister Mark Harper: ‘Our tough policies are taking effect &amp; this marks a significant step towards bringing net migration down’<br>Many migrants illegally staying in sheds are forced to live in squalid &amp; overcrowded conditions  #bedsinsheds<br>“If UK wants to control its own borders &amp; get a grip on the massive influx of immigration, then it can’t remain in the EU.\"<br>Lord Hesketh: Political class have a complete lack of ability to tell the truth or deliver. Lunatics are in charge of the asylum #UKIPConf<br>“If we accept refugees and they turn out to engage in anti-social behaviour we should be able to kick them out.\" ",
          "UK Doubt:<br>\"And is likely to result in a significant influx of migrants who would put immense pressure on British public services, jobs and housing?\"<br>Was May implying to the that she's going to reform the entire benefits system by Dec '13 to halt EU immigration?<br>But paying a plumber in cash is 'immoral'? This government is disastrously out of touch <br>Meanwhile, African Olympics hopefuls already claiming asylum. Do any even have return tickets?<br>Sky News poll: two thirds of people do not believe attempt to reduce net migration to 100,000 a year is sufficient ",
          "UK Name calling/Labeling:<br>BBC has just reported on action taken to stop rogue landlords exploiting illegal immigrants. Find out more  #bedsinsheds<br>This man is 1 of 19 detained in crackdown on illegal immigrants living in sheds rented by rogue landlords  #bedsinsheds<br>Immigration minister Damian Green: This is a completely selfish and irresponsible decision by the #PCS leadership<br>Immigration scammers tried to hide £330,000 in their house - story and pics here: <br>\"UKIP are libertarian. They're also conservative, pro-free trade, and anti-mass immigration – and they're coherent\" ",
          "UK Smears:<br>RT John Denham can't bring himself to admit immigration is too high. If Labour can't do that, this 'apology' is meaningless.<br>Just raised issue in HofC of support for Syrian refugees in Turkey, with Foreign Sec, encouraging response with financial support.<br>Damian Green: Education providers have to meet strict standards...provide quality education &amp; take immigration responsibilities seriously<br>BBC has just reported on action taken to stop rogue landlords exploiting illegal immigrants. Find out more  #bedsinsheds<br>Many migrants illegally staying in sheds are forced to live in squalid &amp; overcrowded conditions  #bedsinsheds",
          "UK Reductio ad hitlerum:<br>RT Remoaner: \"For anybody else here who works in London, who would be serving our coffee in Pret?\"\\n\\nYet another reminder that sanctimonious, virtue signalling middle class leftists only want mass immigration so they can keep their wage slaves.\\n\\n<br>It's crystal clear the huge rise in anti-Semitism in the West is due overwhelmingly to the changing population in the West. Which is one reason the #Zionists have always supported mass Muslim immigration into the West - to chase ordinary Jews to Israel\\n\\n<br>Yet again, it comes out that the Powers That Be knowingly let an unexpoded human bomb #Jihadi stalk our streets. When will they ever learn? \\n<br>Even with their faces blurred out you can see that they're typical blond beasts. Someone needs to mongelise such people out of existence before they launch a new Holocaust. Mass immigration &amp; relentless propaganda to encourage inter-breeding would do it.\\n<br>The #FakeNews MSM may want to ignore it, but the #YellowVests movement is HUGE in #Ireland now. Against banksters' usury, globalist politicians, corruption and mass immigration!\\n",
          "UK Causal Oversimplification:<br>RT John Denham can't bring himself to admit immigration is too high. If Labour can't do that, this 'apology' is meaningless.<br>Wanting to control migration into Britain &amp; withdraw from the EU doesn't make you an extremist. It is now the majority view in the UK.<br>Derby training centre 'can't cope with surge in EU jobseekers'  Only UKIP will deal with EU migration<br>Unlimited immigration is costing British people jobs. Controlling non-EU immigration is merely confronting part of the problem.<br>do grow up. UKIP want a meritocratic immigration policy, not this disaster Labour, Lib Dems and the Tories have landed us with",
          "UK Black-and-white Fallacy/Dictatorship:<br>Damian Green: Education providers have to meet strict standards...provide quality education &amp; take immigration responsibilities seriously<br>If we want control of immigration into the UK we need to leave the EU. Simple. <br>..they were mere immigrants. They've been in NZ only 700 years. We've been here 17,000 years. So don't maltreat the Abos, people r watching.<br>Stand by for new asylum flood from Afghanistan (in papers today, but without saying where they'll be . . .<br>For the right policies on welfare, immigration and the deficit, I believe the people of #Eastleigh should vote for today.",
          "UK Thought-terminating cliché:<br>RT John Denham can't bring himself to admit immigration is too high. If Labour can't do that, this 'apology' is meaningless.<br>Immigration minister Damian Green: This is a completely selfish and irresponsible decision by the #PCS leadership<br>UKIP: Our immigration policy is now mainstream <br>UKIP Deputy Leader Paul Nuttall appears on supporting controls on immigration does not make you racist <br>Wanting to control migration into Britain &amp; withdraw from the EU doesn't make you an extremist. It is now the majority view in the UK.",
          "UK Misrepresentation of Someone's Position (Straw Man):<br>Thank heavens that that! Now we'll have room for millions more Africans and Asians - just like #NigelFarage has always wanted! Establishment #Brexit - \"can you see what it is yet?\"\\n\\n<br>A 'refugee' from a totally peaceful country, wearing a £60k watch - could the BBC please explain this, and why normal people should pay any more tax to the lunatics running this country?\\n<br>RT #Immigration is the No1 issue for UK voters - yet it’s at the bottom of the Government’s to-do-list. \\n\\nOnly wants an #ImmigrationReferendum and has a plan to #StopTheBoats \\n\\nIgnore cheap #ToryLite alternatives. Join us - Support our petitions. \\n<br>We can’t build enough houses for our own people how can we expect to build 300 houses per day? \\n\\nOnly UKIP will stop uncontrolled mass immigration!\\n\\n<br>#Immigration is the No1 issue for UK voters - yet it’s at the bottom of the Government’s to-do-list. \\n\\nOnly wants an #ImmigrationReferendum and has a plan to #StopTheBoats \\n\\nIgnore cheap #ToryLite alternatives. Join us - Support our petitions. \\n",
          "UK Presenting Irrelevant Data (Red Herring):<br>Cameron blames Calais chaos on migrants 'swarming' through wrecked Libya. Who's the fucking genius to blame for THAT?\\n<br>RT Mass migration will continue under the Tories. They are ignoring the British people and chief reason for brexit. \\n\\n<br>RT France is not a conflict zone. They are not asylum seekers contrary to the claims of 'refugee' campaigners.\\n\\n<br>RT That's OK, once signs UN's Global Compact for Migration these illegal fraudsters wouldn't have to pretend to be children anymore\\n\\n<br>RT Remoaner: \"For anybody else here who works in London, who would be serving our coffee in Pret?\"\\n\\nYet another reminder that sanctimonious, virtue signalling middle class leftists only want mass immigration so they can keep their wage slaves.\\n\\n",
          "UK Whataboutism:<br>UKIP MEP UK 'cannot afford' Bulgarian and Romanian immigrants <br>RT UKIP to take much tougher line on immigration in London Assembly elections, though about half their candidates are black or Asian<br>But paying a plumber in cash is 'immoral'? This government is disastrously out of touch <br>We wouldn't have to build so many new houses if we hadn't had uncontrolled immigration. And the other 3 parties want more people to come!<br>Fact Westminster elite have broken Britain but talk tough on immigration 2 con masses &amp; steal BNP votes isn't news!"
         ],
         "marker": {
          "color": "crimson"
         },
         "name": "UK",
         "orientation": "h",
         "type": "bar",
         "x": [
          11.345901526137697,
          15.523789793522546,
          0.09667840618741799,
          8.61473655134314,
          5.123955527933154,
          0.45922242939023544,
          13.600580070437124,
          0.39361922519163045,
          10.745114287687315,
          6.726054830467509,
          1.2637248808783923,
          2.0198881292728403,
          0.013811200883916857,
          1.160140874249016,
          0.07596160486154271,
          1.809267315793108,
          0.5420896346937366,
          2.340998549823907,
          10.890131896968441,
          0.03798080243077136,
          1.3914784890546232,
          2.320281748498032,
          2.465299357779159,
          0.020716801325875285,
          0.29694081900421243,
          0.7216352461846557
         ],
         "y": [
          "Logos",
          "Ethos",
          "Repetition",
          "Reasoning",
          "Justification",
          "Glittering generalities (Virtue)",
          "Ad Hominem",
          "Exaggeration/Minimisation",
          "Loaded Language",
          "Simplification",
          "Distraction",
          "Slogans",
          "Bandwagon",
          "Appeal to authority",
          "Flag-waving",
          "Appeal to fear/prejudice",
          "Doubt",
          "Name calling/Labeling",
          "Smears",
          "Reductio ad hitlerum",
          "Causal Oversimplification",
          "Black-and-white Fallacy/Dictatorship",
          "Thought-terminating cliché",
          "Misrepresentation of Someone's Position (Straw Man)",
          "Presenting Irrelevant Data (Red Herring)",
          "Whataboutism"
         ]
        },
        {
         "hovertext": [
          "French Logos:<br>\"RT Un élu quitte ses fonctions à l'UMP pour protester contre la \"\"frilosité\"\" de son parti.  #UMP #rebélion #immigration #Luca\"<br>#Guéant : des mots contre l’immigration de travail mais des actes pour la favoriser comme jamais !  #fn2012<br>Migrants tunisiens : #Sarkozy doit cesser la com’ et enfin agir ! <br>RT Enfant, il entendait les “choufs” crier au passage de la police pour prévenir les autres, des hurlements « insupportables » : « C'est honnêtement invivable pour les habitants, y compris ceux issus de l'immigration. \\n Reportage de \\n <br>\"Selon il faudra 50 millions d'immigrés de plus en Europe pour \"\"équilibrer les actifs\"\".  \\n  \\n Pour ces gens, les peuples ne sont bons qu'à bosser plus pour gagner moins, et à se déverser d'un continent à l'autre selon ce qu'indiqueront leurs tableaux Excel... \\n  \\n Effrayant ! ",
          "French Ethos:<br>Départ de Maxime Tandonnet : Nicolas #Sarkozy se révèle en écartant de l Elysée son seul conseiller anti-immigration !: <br>\"RT Un élu quitte ses fonctions à l'UMP pour protester contre la \"\"frilosité\"\" de son parti.  #UMP #rebélion #immigration #Luca\"<br>#Immigration légale : derrière la communication déjà lassante de #Guéant, un gouvernement irrésolu et inerte\\n <br>Italie - Marine Le Pen débarque à Lampédusa pour soutenir le maire face à la déferlante migratoire - <br>\"📹 À propos de la FRAUDE, j'ai dénoncé un autre type de \"\"détournement\"\" : celui qui consiste par exemple à utiliser les fonds agricoles pour... installer des migrants ! \\n  \\n Et on s'étonne ensuite que les Français soient suspicieux à l'égard de ce que fait l'UE de leur argent ?? 🤔 ",
          "French Repetition:<br>« On nous dit qu'il n'y a pas d'argent pour les hôpitaux, pas d'argent pour donner des moyens à nos forces de l'ordre, pas d'argent pour les retraités français... mais il y a des milliards d'euros pour la prise en charge de l'immigration massive ! » #Punchline <br>\"On nous a promis un \"\"débat\"\" sur l'immigration, mais attention : \\n  \\n ➡️ Pas sur l'immigration clandestine, par définition inquantifiable \\n ➡️ Pas sur l'asile, circulez il n'y a rien à voir \\n ➡️ Pas sur le regroupement familial, la CEDH nous interdit d'y toucher \\n  \\n De qui se moque-t-on ? <br>RT 🔴 Submersion migratoire, insécurité et violences : STOP OU ENCORE ? \\n  \\n Le 26 mai : Un seul jour, un seul tour, un seul vote ! \\n  \\n LE 26 MAI VOTEZ RN : liste portée par ! \\n  \\n #Le26MaiVotezRN <br>« Cette politique migratoire est un drame. Un drame pour ces populations qui traversent la Méditerranée au péril de leur vie, mais aussi un drame pour nos compatriotes qui doivent en subir les nuisances... » #Yonne #Le26MaiVotezRN <br>\"\"\"Les ravages de l'immigration incontrôlée, nous les avions prédits. Les dégâts de la mondialisation sauvage, nous les avions annoncés. La seule chose qu'on peut nous reprocher, c'est d'avoir eu raison trop tôt !\"\" #OnArrive #Fessenheim ",
          "French Reasoning:<br>\"Selon il faudra 50 millions d'immigrés de plus en Europe pour \"\"équilibrer les actifs\"\".  \\n  \\n Pour ces gens, les peuples ne sont bons qu'à bosser plus pour gagner moins, et à se déverser d'un continent à l'autre selon ce qu'indiqueront leurs tableaux Excel... \\n  \\n Effrayant ! <br>En matière d'immigration clandestine, nous devons prendre l'Australie pour modèle, avec le renvoi automatique des clandestins, et le traitement des demandes d'asile dans les pays de départ. \\n  \\n ⛔ Il est temps de dire « NO WAY » à nos frontières ! <br>🔴 Arrêtons, nous, Européens, d'être masochistes en versant des milliards d’euros à la #Turquie du sultan Erdogan qui, en retour, nous menace d’un chaos migratoire. \\n  \\n Entre humiliation et honneur, il est temps de choisir, ou l’Histoire se chargera de le faire à notre place ! <br>🔴 Après 5 années d’une Commission Juncker, désastreuse pour les peuples sur les plans social et migratoire, la nouvelle Commission d’Ursula von der Leyen annonce une continuité ! \\n  \\n À l’heure du réveil des peuples, rendons aux Nations européennes leurs prérogatives essentielles ! <br>RT 🔴 Nier le lien entre immigration, communautarisme et islamisme, c'est nier l'évidence ! Seul le RN a le courage nécessaire pour dire la vérité aux Français et a la volonté d'AGIR ! \\n  \\n ➡ Adhérez/Réadherez :  \\n  \\n 👉 Faites un don :  ",
          "French Justification:<br>\"RT Un élu quitte ses fonctions à l'UMP pour protester contre la \"\"frilosité\"\" de son parti.  #UMP #rebélion #immigration #Luca\"<br>#Guéant : des mots contre l’immigration de travail mais des actes pour la favoriser comme jamais !  #fn2012<br>Migrants tunisiens : #Sarkozy doit cesser la com’ et enfin agir ! <br>RT Enfant, il entendait les “choufs” crier au passage de la police pour prévenir les autres, des hurlements « insupportables » : « C'est honnêtement invivable pour les habitants, y compris ceux issus de l'immigration. \\n Reportage de \\n <br>\"Selon il faudra 50 millions d'immigrés de plus en Europe pour \"\"équilibrer les actifs\"\".  \\n  \\n Pour ces gens, les peuples ne sont bons qu'à bosser plus pour gagner moins, et à se déverser d'un continent à l'autre selon ce qu'indiqueront leurs tableaux Excel... \\n  \\n Effrayant ! ",
          "French Glittering generalities (Virtue):<br>« L'immigration est une préoccupation majeure des Français. Ce gouvernement a battu tous les records en la matière... Couper le robinet des prestations sociales accordées aux étrangers est l'une des premières économies de bon sens à faire dans notre pays ! » #E1Matin <br>« Les eurodéputés LR ont voté pour la relocalisation des migrants dans les villes et villages français ! 3ème sur la liste de M. a voté pas plus tard que cette semaine des crédits pour l'intégration de la TURQUIE dans l'UE ! » #LeGrandJury <br>RT M. Macron est aussi crédible, pour réduire l'#immigration, qu'un pyromane qui promettrait d'éteindre un incendie. De tous les présidents de la Vème République, il est le plus immigrationniste. <br>RT 255 000 nouveaux immigrés en 2018. Un record. Emmanuel Macron dit que l’immigration est une chance pour la France. Je réaffirme que nos capacités d’intégration sont largement dépassées.<br>J.-P. Nahon a dirigé la Police aux Frontières dans un contexte difficile : flux migratoires importants, tensions diplomatiques avec l'Italie, nuit tragique du 14 juillet 2016 qui a coûté la vie à Emmanuel Groult.  \\n  \\n Il l'a fait avec un sens aigu du devoir et des responsabilités. ",
          "French Ad Hominem:<br>Départ de Maxime Tandonnet : Nicolas #Sarkozy se révèle en écartant de l Elysée son seul conseiller anti-immigration !: <br>\"RT Un élu quitte ses fonctions à l'UMP pour protester contre la \"\"frilosité\"\" de son parti.  #UMP #rebélion #immigration #Luca\"<br>#Immigration légale : derrière la communication déjà lassante de #Guéant, un gouvernement irrésolu et inerte\\n <br>Italie - Marine Le Pen débarque à Lampédusa pour soutenir le maire face à la déferlante migratoire - <br>\"📹 À propos de la FRAUDE, j'ai dénoncé un autre type de \"\"détournement\"\" : celui qui consiste par exemple à utiliser les fonds agricoles pour... installer des migrants ! \\n  \\n Et on s'étonne ensuite que les Français soient suspicieux à l'égard de ce que fait l'UE de leur argent ?? 🤔 ",
          "French Exaggeration/Minimisation:<br>\"🖊️ « Politique migratoire : les Français attendaient la rupture, ils auront la continuité ! » \\n  \\n Mon communiqué suite aux \"\"annonces\"\" d'aujourd'hui : \\n  \\n <br>« Emmanuel Macron est le Président de tous les records en matière d'immigration. La situation migratoire dans notre pays est totalement anarchique ! » #BrunetNeumann <br>« L'immigration est une préoccupation majeure des Français. Ce gouvernement a battu tous les records en la matière... Couper le robinet des prestations sociales accordées aux étrangers est l'une des premières économies de bon sens à faire dans notre pays ! » #E1Matin <br>\"\"\"est un bel alibi : derrière lui, il y a tous les gens qui ont voté pour l'impôt européen, qui ont voté pour le #PacteDeMarrakech, qui ont voté au Parlement européen les quotas de #migrants !\"\" <br>\"📹 \"\"Avec Emmanuel Macron, jamais le terme d'immigration MASSIVE n'aura été aussi justifié. En 2018, nous avons à nouveau battu un record... Sans compter l'immigration clandestine, c'est plus de QUATRE FOIS la population d'Avignon qui est entrée en France !\"\" #Vaucluse #OnArrive ",
          "French Loaded Language:<br>A 15H aux questions d'actualités, j'interogerai M. Guéant sur les faits de délinquance liés à l'immigration clandestine venue de Tunisie<br>Mandat de Nicolas #Sarkozy : une explosion de la fraude sociale liée à une explosion de l’immigration | Front National: <br>#Immigration légale : derrière la communication déjà lassante de #Guéant, un gouvernement irrésolu et inerte\\n <br>\"📹 À propos de la FRAUDE, j'ai dénoncé un autre type de \"\"détournement\"\" : celui qui consiste par exemple à utiliser les fonds agricoles pour... installer des migrants ! \\n  \\n Et on s'étonne ensuite que les Français soient suspicieux à l'égard de ce que fait l'UE de leur argent ?? 🤔 <br>RT Enfant, il entendait les “choufs” crier au passage de la police pour prévenir les autres, des hurlements « insupportables » : « C'est honnêtement invivable pour les habitants, y compris ceux issus de l'immigration. \\n Reportage de \\n ",
          "French Simplification:<br>En matière d'immigration clandestine, nous devons prendre l'Australie pour modèle, avec le renvoi automatique des clandestins, et le traitement des demandes d'asile dans les pays de départ. \\n  \\n ⛔ Il est temps de dire « NO WAY » à nos frontières ! <br>🔴 Arrêtons, nous, Européens, d'être masochistes en versant des milliards d’euros à la #Turquie du sultan Erdogan qui, en retour, nous menace d’un chaos migratoire. \\n  \\n Entre humiliation et honneur, il est temps de choisir, ou l’Histoire se chargera de le faire à notre place ! <br>🔴 Après 5 années d’une Commission Juncker, désastreuse pour les peuples sur les plans social et migratoire, la nouvelle Commission d’Ursula von der Leyen annonce une continuité ! \\n  \\n À l’heure du réveil des peuples, rendons aux Nations européennes leurs prérogatives essentielles ! <br>RT 🔴 Nier le lien entre immigration, communautarisme et islamisme, c'est nier l'évidence ! Seul le RN a le courage nécessaire pour dire la vérité aux Français et a la volonté d'AGIR ! \\n  \\n ➡ Adhérez/Réadherez :  \\n  \\n 👉 Faites un don :  <br>RT 🔴 Face à l’immigration massive et ses deux fléaux, l’islamisme et le communautarisme, le RN est le seul parti à vous défendre !  \\n  \\n ➡ Adhérez/Réadherez :  \\n 👉🏼 Faites un don :  ",
          "French Distraction:<br>\"La mort de Timothy, 19 ans, assassiné par un migrant afghan, un \"\"non-événement\"\" ? \\n  \\n 🤬 Qu'y a-t-il de plus abject que ces gens prêts à cracher sur la mémoire d'un jeune Français pour ne pas avoir à remettre en cause leur \"\"mystique du vivre-ensemble\"\" ? <br>Demander l'application de la loi, être un jeune qui défend son pays et son peuple, c'est passible de la prison ferme, en France, en 2019 ? \\n  \\n Quand dans le même temps les pires criminels bénéficient d'un laxisme ahurissant ? \\n  \\n Très inquiétant ! \\n  \\n <br>Un migrant algérien, sous le coup d'une obligation de quitter le territoire, agresse sexuellement une femme avec son bébé dans une poussette, est interpellé puis... RELÂCHÉ ! 🤦‍♂️ \\n  \\n C'est ça le tour de vis sécuritaire et migratoire promis par ?! \\n  \\n <br>Parmi ces #migrants, aucune femme et aucun enfant, contrairement à ce que martèle la propagande médiatique ! <br>\"\"\"Avait-on vraiment besoin de dépenser 12 millions d'euros dans un \"\"grand débat\"\" national pour savoir que les Français en ont assez du matraquage fiscal, assez de l'immigration massive, assez de l'insécurité ?!\"\" #OnArrive #Vendée ",
          "French Slogans:<br>\"RT Un élu quitte ses fonctions à l'UMP pour protester contre la \"\"frilosité\"\" de son parti.  #UMP #rebélion #immigration #Luca\"<br>#Guéant : des mots contre l’immigration de travail mais des actes pour la favoriser comme jamais !  #fn2012<br>Migrants tunisiens : #Sarkozy doit cesser la com’ et enfin agir ! <br>« L'islamisme ne pousse pas dans les prairies normandes ! Ayant grandi en Seine-Saint-Denis, j'ai vu le fondamentalisme islamiste pousser sur le terreau du communautarisme et de l'immigration massive ! » #DébatImmigration <br>« L'asile a été dévoyé de sa philosophie d'origine. La plupart des demandeurs d'asile sont en réalité des migrants économiques, et la majorité des déboutés ne sont jamais expulsés. Tout cela nous coûte beaucoup d'argent ! » #ClassiqueMatin ",
          "",
          "French Appeal to authority:<br>RT Enfant, il entendait les “choufs” crier au passage de la police pour prévenir les autres, des hurlements « insupportables » : « C'est honnêtement invivable pour les habitants, y compris ceux issus de l'immigration. \\n Reportage de \\n <br>\"Selon il faudra 50 millions d'immigrés de plus en Europe pour \"\"équilibrer les actifs\"\".  \\n  \\n Pour ces gens, les peuples ne sont bons qu'à bosser plus pour gagner moins, et à se déverser d'un continent à l'autre selon ce qu'indiqueront leurs tableaux Excel... \\n  \\n Effrayant ! <br>« Emmanuel Macron est le Président de tous les records en matière d'immigration. La situation migratoire dans notre pays est totalement anarchique ! » #BrunetNeumann <br>\"\"\"Macron n’épargne personne pour sa rentrée. Il ne prévoit que des coups de rabot visant les retraités, les classes moyennes et populaires, alors qu’il y a des gigantesques gisements d'économies dans lesquels il ne va jamais puiser : Union européenne, fraude, immigration !\"\" #Yonne <br>« L'asile a été dévoyé de sa philosophie d'origine. La plupart des demandeurs d'asile sont en réalité des migrants économiques, et la majorité des déboutés ne sont jamais expulsés. Tout cela nous coûte beaucoup d'argent ! » #ClassiqueMatin ",
          "French Flag-waving:<br>« Nous sommes face à une recomposition de la vie politique. Emmanuel Macron a réuni le pire de la droite et le pire de la gauche. Nous voulons, nous, parler à tous ceux qui veulent défendre la Nation, le bon sens, la paix fiscale, et mettre fin à l'immigration ! » #ClassiqueMatin <br>« Nous voulons une Europe qui protège, basée sur les Nations. Avec nos alliés, que j'espère le plus nombreux possible dimanche, nous voulons pouvoir faire du patriotisme économique, refuser les traités de libre-échange et la relocalisation des migrants ! » #Les4V #Le26MaiVotezRN <br>« Notre projet consiste à remettre des portes à la maison France, pour protéger nos compatriotes de l'immigration et de la concurrence déloyale ! » #OnArrive <br>\"\"\"J'ai choisi la passoire pour symboliser l'Union européenne actuelle : une UE incapable de nous protéger face à la concurrence déloyale et à l'immigration massive. Nous voulons une Europe de la coopération et des protections !\"\" #LEmissionPolitique <br>« C'est justement parce que je suis né avec cette Union européenne du chômage de masse, de l'impuissance collective, du terrorisme et de l'immigration clandestine que j'y suis opposé ! Nous défendons une Europe des Nations, des protections et des projets. » #SudRadioMatin ",
          "French Appeal to fear/prejudice:<br>\"Selon il faudra 50 millions d'immigrés de plus en Europe pour \"\"équilibrer les actifs\"\".  \\n  \\n Pour ces gens, les peuples ne sont bons qu'à bosser plus pour gagner moins, et à se déverser d'un continent à l'autre selon ce qu'indiqueront leurs tableaux Excel... \\n  \\n Effrayant ! <br>« Personne ne peut nier le coût majeur pour la collectivité que représente l'immigration. Nos compatriotes ne comprennent pas qu'ils doivent payer pour des soins toujours plus exorbitants, quand dans le même temps les clandestins sont soignés gratuitement ! » <br>\"🖊️ « Politique migratoire : les Français attendaient la rupture, ils auront la continuité ! » \\n  \\n Mon communiqué suite aux \"\"annonces\"\" d'aujourd'hui : \\n  \\n <br>🔴 Arrêtons, nous, Européens, d'être masochistes en versant des milliards d’euros à la #Turquie du sultan Erdogan qui, en retour, nous menace d’un chaos migratoire. \\n  \\n Entre humiliation et honneur, il est temps de choisir, ou l’Histoire se chargera de le faire à notre place ! <br>🔴 Après 5 années d’une Commission Juncker, désastreuse pour les peuples sur les plans social et migratoire, la nouvelle Commission d’Ursula von der Leyen annonce une continuité ! \\n  \\n À l’heure du réveil des peuples, rendons aux Nations européennes leurs prérogatives essentielles ! ",
          "French Doubt:<br>\"La mort de Timothy, 19 ans, assassiné par un migrant afghan, un \"\"non-événement\"\" ? \\n  \\n 🤬 Qu'y a-t-il de plus abject que ces gens prêts à cracher sur la mémoire d'un jeune Français pour ne pas avoir à remettre en cause leur \"\"mystique du vivre-ensemble\"\" ? <br>Demander l'application de la loi, être un jeune qui défend son pays et son peuple, c'est passible de la prison ferme, en France, en 2019 ? \\n  \\n Quand dans le même temps les pires criminels bénéficient d'un laxisme ahurissant ? \\n  \\n Très inquiétant ! \\n  \\n <br>Comment les eurodéputés LR vont-ils justifier leur vote pour Ursula #VonDerLeyen, qui soutient l’accueil des migrants, les traités de libre-échange et le fédéralisme ? \\n  \\n Une fois encore, ils votent l’inverse de ce qu’ils défendaient en France le temps d’une campagne 🧐<br>\"On nous a promis un \"\"débat\"\" sur l'immigration, mais attention : \\n  \\n ➡️ Pas sur l'immigration clandestine, par définition inquantifiable \\n ➡️ Pas sur l'asile, circulez il n'y a rien à voir \\n ➡️ Pas sur le regroupement familial, la CEDH nous interdit d'y toucher \\n  \\n De qui se moque-t-on ? <br>RT Les lecteurs du n'en ont pas assez de voir leur journal faire la promotion de candidats LR qui ont voté les quotas de migrants et les crédits pour l'intégration de la Turquie ? \\n  \\n Il va falloir que intègre l'impression du Figaro dans son compte de campagne ! ",
          "French Name calling/Labeling:<br>Départ de Maxime Tandonnet : Nicolas #Sarkozy se révèle en écartant de l Elysée son seul conseiller anti-immigration !: <br>#Immigration légale : derrière la communication déjà lassante de #Guéant, un gouvernement irrésolu et inerte\\n <br>\"📹 À propos de la FRAUDE, j'ai dénoncé un autre type de \"\"détournement\"\" : celui qui consiste par exemple à utiliser les fonds agricoles pour... installer des migrants ! \\n  \\n Et on s'étonne ensuite que les Français soient suspicieux à l'égard de ce que fait l'UE de leur argent ?? 🤔 <br>🔴 Libre-échange, travail détaché, libéralisation des services publics, mirage d'une Europe fédérale, laxisme migratoire : j'ai interpellé au Parlement européen la Commission von der Leyen, déconnectée des aspirations des peuples ! \\n  \\n #LaCommissionContreLesPeuples \\n #VdLCommission <br>🔴 Arrêtons, nous, Européens, d'être masochistes en versant des milliards d’euros à la #Turquie du sultan Erdogan qui, en retour, nous menace d’un chaos migratoire. \\n  \\n Entre humiliation et honneur, il est temps de choisir, ou l’Histoire se chargera de le faire à notre place ! ",
          "French Smears:<br>Départ de Maxime Tandonnet : Nicolas #Sarkozy se révèle en écartant de l Elysée son seul conseiller anti-immigration !: <br>\"RT Un élu quitte ses fonctions à l'UMP pour protester contre la \"\"frilosité\"\" de son parti.  #UMP #rebélion #immigration #Luca\"<br>#Immigration légale : derrière la communication déjà lassante de #Guéant, un gouvernement irrésolu et inerte\\n <br>Italie - Marine Le Pen débarque à Lampédusa pour soutenir le maire face à la déferlante migratoire - <br>\"📹 À propos de la FRAUDE, j'ai dénoncé un autre type de \"\"détournement\"\" : celui qui consiste par exemple à utiliser les fonds agricoles pour... installer des migrants ! \\n  \\n Et on s'étonne ensuite que les Français soient suspicieux à l'égard de ce que fait l'UE de leur argent ?? 🤔 ",
          "French Reductio ad hitlerum:<br>\"🇭🇺 \"\"Nous voulons des enfants hongrois, l’immigration est une capitulation.\"\" \\n  \\n La politique nataliste de Viktor #Orban est un exemple pour nos nations face au déclin démographique. À quand une politique familiale digne de ce nom en France ? \\n <br>Quel ressentiment envers nos partenaires,alliés Européens \\n Ls Britaniques»indisciplinés» \\n Ls Italiens«xénophobes«  \\n Ls Hongrois«égoïstes» \\n Voici ls Polonais»pollueurs» \\n Mais jusqu’à quand cette diplomatie du mépris alors que l’Europe a tant de défis à relever dont le chaos migratoire <br>Face au chaos migratoire et derrière Christian Jacob les députés Les Républicains ont exigé l’expulsion des étrangers délinquants, le courage d’expulser les clandestins. \\n  \\n Nous avons défendu la reprise en main de notre destin, pour que la France reste la France! 🇫🇷 \\n  \\n <br>La France est soumise aux chantages d'Erdogan !  \\n Après nous avoir forcé la main pour conquérir le nord de la Syrie, la Turquie menace à nouveau d'ouvrir le robinet migratoire si l'Europe ne finance pas la construction de villes dans cette zone. Délirant ! \\n  \\n <br>\"#Villeurbanne : M. Le Gendre se dit \"\"écœuré\"\" que je dénonce le laxisme migratoire ? \\n  \\n Moi je suis écœuré qu'un Français ait été assassiné par un individu qui n'aurait pas dû être sur notre sol. \\n  \\n Chacun ses priorités: moi les Français, LREM la bienpensance. \\n  \\n ",
          "French Causal Oversimplification:<br>\"\"\"est un bel alibi : derrière lui, il y a tous les gens qui ont voté pour l'impôt européen, qui ont voté pour le #PacteDeMarrakech, qui ont voté au Parlement européen les quotas de #migrants !\"\" <br>Parler de #MalLogement sans évoquer le poids écrasant de l'immigration sur le problème, c'est se moquer du monde. \\n  \\n Les Français doivent être prioritaires chez eux ! \\n  \\n <br>Seuls 10% des immigrés qui arrivent sur notre sol viennent pour travailler. Instaurer des quotas d’immigration sur les travailleurs revient à ne pas restreindre les 90% restants. Encore une escroquerie totale du gouvernement !  \\n <br>💪🏻 Grâce au un texte favorisant les ONG pro-migrants en Méditerranée et la répartition obligatoire des migrants dans les pays européens a été rejeté !  \\n Voter RN, c'est efficace et ça permet d'empêcher l'invasion migratoire de l'Europe ! <br>Plutôt que des quotas d’immigration, instaurons des quotas d’expulsion ! Notre capacité d’accueil est depuis longtemps largement dépassée : il est temps d’inverser la tendance. \\n ",
          "French Black-and-white Fallacy/Dictatorship:<br>En matière d'immigration clandestine, nous devons prendre l'Australie pour modèle, avec le renvoi automatique des clandestins, et le traitement des demandes d'asile dans les pays de départ. \\n  \\n ⛔ Il est temps de dire « NO WAY » à nos frontières ! <br>🔴 Arrêtons, nous, Européens, d'être masochistes en versant des milliards d’euros à la #Turquie du sultan Erdogan qui, en retour, nous menace d’un chaos migratoire. \\n  \\n Entre humiliation et honneur, il est temps de choisir, ou l’Histoire se chargera de le faire à notre place ! <br>RT 🔴 Nier le lien entre immigration, communautarisme et islamisme, c'est nier l'évidence ! Seul le RN a le courage nécessaire pour dire la vérité aux Français et a la volonté d'AGIR ! \\n  \\n ➡ Adhérez/Réadherez :  \\n  \\n 👉 Faites un don :  <br>RT 🔴 Face à l’immigration massive et ses deux fléaux, l’islamisme et le communautarisme, le RN est le seul parti à vous défendre !  \\n  \\n ➡ Adhérez/Réadherez :  \\n 👉🏼 Faites un don :  <br>« Toutes les études démontrent qu'une majorité de Français considère qu'on ne peut pas accueillir une immigration supplémentaire. Il faut qu'on arrête ces pompes aspirantes de l'immigration qui ont transformé notre pays en un hôtel ou en un guichet social ! » #BFMPolitique ",
          "French Thought-terminating cliché:<br>En matière d'immigration clandestine, nous devons prendre l'Australie pour modèle, avec le renvoi automatique des clandestins, et le traitement des demandes d'asile dans les pays de départ. \\n  \\n ⛔ Il est temps de dire « NO WAY » à nos frontières ! <br>🔴 Arrêtons, nous, Européens, d'être masochistes en versant des milliards d’euros à la #Turquie du sultan Erdogan qui, en retour, nous menace d’un chaos migratoire. \\n  \\n Entre humiliation et honneur, il est temps de choisir, ou l’Histoire se chargera de le faire à notre place ! <br>RT 🔴 Nier le lien entre immigration, communautarisme et islamisme, c'est nier l'évidence ! Seul le RN a le courage nécessaire pour dire la vérité aux Français et a la volonté d'AGIR ! \\n  \\n ➡ Adhérez/Réadherez :  \\n  \\n 👉 Faites un don :  <br>RT 🔴 Face à l’immigration massive et ses deux fléaux, l’islamisme et le communautarisme, le RN est le seul parti à vous défendre !  \\n  \\n ➡ Adhérez/Réadherez :  \\n 👉🏼 Faites un don :  <br>« Toutes les études démontrent qu'une majorité de Français considère qu'on ne peut pas accueillir une immigration supplémentaire. Il faut qu'on arrête ces pompes aspirantes de l'immigration qui ont transformé notre pays en un hôtel ou en un guichet social ! » #BFMPolitique ",
          "",
          "French Presenting Irrelevant Data (Red Herring):<br>Demander l'application de la loi, être un jeune qui défend son pays et son peuple, c'est passible de la prison ferme, en France, en 2019 ? \\n  \\n Quand dans le même temps les pires criminels bénéficient d'un laxisme ahurissant ? \\n  \\n Très inquiétant ! \\n  \\n <br>On savait que 52% des violeurs à Paris étaient étrangers.  \\n On apprend maintenant que 42% des violeurs en Italie le sont aussi ! \\n  \\n Ces chiffres effrayants sont sans doute à mettre au compteur des bienfaits de l’immigration massive ? \\n <br>Seuls 10% des immigrés qui arrivent sur notre sol viennent pour travailler. Instaurer des quotas d’immigration sur les travailleurs revient à ne pas restreindre les 90% restants. Encore une escroquerie totale du gouvernement !  \\n <br>Près d’un milliard d’euros déversés pour soigner les clandestins présents sur notre territoire, pendant que des Français peinent à se soigner correctement.  \\n Il est urgent de stopper cette pompe aspirante et que l’argent soit destiné aux nôtres ! \\n <br>La France est soumise aux chantages d'Erdogan !  \\n Après nous avoir forcé la main pour conquérir le nord de la Syrie, la Turquie menace à nouveau d'ouvrir le robinet migratoire si l'Europe ne finance pas la construction de villes dans cette zone. Délirant ! \\n  \\n ",
          "French Whataboutism:<br>\"La mort de Timothy, 19 ans, assassiné par un migrant afghan, un \"\"non-événement\"\" ? \\n  \\n 🤬 Qu'y a-t-il de plus abject que ces gens prêts à cracher sur la mémoire d'un jeune Français pour ne pas avoir à remettre en cause leur \"\"mystique du vivre-ensemble\"\" ? <br>Demander l'application de la loi, être un jeune qui défend son pays et son peuple, c'est passible de la prison ferme, en France, en 2019 ? \\n  \\n Quand dans le même temps les pires criminels bénéficient d'un laxisme ahurissant ? \\n  \\n Très inquiétant ! \\n  \\n <br>Parmi ces #migrants, aucune femme et aucun enfant, contrairement à ce que martèle la propagande médiatique ! <br>\"\"\"Avait-on vraiment besoin de dépenser 12 millions d'euros dans un \"\"grand débat\"\" national pour savoir que les Français en ont assez du matraquage fiscal, assez de l'immigration massive, assez de l'insécurité ?!\"\" #OnArrive #Vendée <br>\"RT 📹 \"\"Les Français ne veulent plus payer pour l'immigration. Ils ne veulent plus payer pour l'AME alors que beaucoup ne peuvent plus se soigner, ils ne veulent plus payer pour les logements de migrants alors que des Français sont à la rue et y meurent ! #QFQE "
         ],
         "marker": {
          "color": "darkcyan"
         },
         "name": "French",
         "orientation": "h",
         "type": "bar",
         "x": [
          12.824066402542819,
          13.416085443562359,
          0.27868580811352306,
          5.87198529744061,
          10.698522212012112,
          0.11749996233975565,
          10.323426178389045,
          0.2078845487549523,
          11.194131027522108,
          4.846120241628127,
          0.48355753732130213,
          4.930479188948978,
          0,
          3.137851558380911,
          0.12653842098127532,
          3.9663769338535464,
          0.39166654113251886,
          4.23150505400479,
          7.616407815253905,
          0.07080125935857072,
          0.2877242667550427,
          1.3738457135109894,
          3.163460524531883,
          0,
          0.0828525375472636,
          0.35852552611361344
         ],
         "y": [
          "Logos",
          "Ethos",
          "Repetition",
          "Reasoning",
          "Justification",
          "Glittering generalities (Virtue)",
          "Ad Hominem",
          "Exaggeration/Minimisation",
          "Loaded Language",
          "Simplification",
          "Distraction",
          "Slogans",
          "Bandwagon",
          "Appeal to authority",
          "Flag-waving",
          "Appeal to fear/prejudice",
          "Doubt",
          "Name calling/Labeling",
          "Smears",
          "Reductio ad hitlerum",
          "Causal Oversimplification",
          "Black-and-white Fallacy/Dictatorship",
          "Thought-terminating cliché",
          "Misrepresentation of Someone's Position (Straw Man)",
          "Presenting Irrelevant Data (Red Herring)",
          "Whataboutism"
         ]
        }
       ],
       "layout": {
        "barmode": "group",
        "height": 800,
        "hovermode": "closest",
        "template": {
         "data": {
          "bar": [
           {
            "error_x": {
             "color": "#2a3f5f"
            },
            "error_y": {
             "color": "#2a3f5f"
            },
            "marker": {
             "line": {
              "color": "#E5ECF6",
              "width": 0.5
             },
             "pattern": {
              "fillmode": "overlay",
              "size": 10,
              "solidity": 0.2
             }
            },
            "type": "bar"
           }
          ],
          "barpolar": [
           {
            "marker": {
             "line": {
              "color": "#E5ECF6",
              "width": 0.5
             },
             "pattern": {
              "fillmode": "overlay",
              "size": 10,
              "solidity": 0.2
             }
            },
            "type": "barpolar"
           }
          ],
          "carpet": [
           {
            "aaxis": {
             "endlinecolor": "#2a3f5f",
             "gridcolor": "white",
             "linecolor": "white",
             "minorgridcolor": "white",
             "startlinecolor": "#2a3f5f"
            },
            "baxis": {
             "endlinecolor": "#2a3f5f",
             "gridcolor": "white",
             "linecolor": "white",
             "minorgridcolor": "white",
             "startlinecolor": "#2a3f5f"
            },
            "type": "carpet"
           }
          ],
          "choropleth": [
           {
            "colorbar": {
             "outlinewidth": 0,
             "ticks": ""
            },
            "type": "choropleth"
           }
          ],
          "contour": [
           {
            "colorbar": {
             "outlinewidth": 0,
             "ticks": ""
            },
            "colorscale": [
             [
              0,
              "#0d0887"
             ],
             [
              0.1111111111111111,
              "#46039f"
             ],
             [
              0.2222222222222222,
              "#7201a8"
             ],
             [
              0.3333333333333333,
              "#9c179e"
             ],
             [
              0.4444444444444444,
              "#bd3786"
             ],
             [
              0.5555555555555556,
              "#d8576b"
             ],
             [
              0.6666666666666666,
              "#ed7953"
             ],
             [
              0.7777777777777778,
              "#fb9f3a"
             ],
             [
              0.8888888888888888,
              "#fdca26"
             ],
             [
              1,
              "#f0f921"
             ]
            ],
            "type": "contour"
           }
          ],
          "contourcarpet": [
           {
            "colorbar": {
             "outlinewidth": 0,
             "ticks": ""
            },
            "type": "contourcarpet"
           }
          ],
          "heatmap": [
           {
            "colorbar": {
             "outlinewidth": 0,
             "ticks": ""
            },
            "colorscale": [
             [
              0,
              "#0d0887"
             ],
             [
              0.1111111111111111,
              "#46039f"
             ],
             [
              0.2222222222222222,
              "#7201a8"
             ],
             [
              0.3333333333333333,
              "#9c179e"
             ],
             [
              0.4444444444444444,
              "#bd3786"
             ],
             [
              0.5555555555555556,
              "#d8576b"
             ],
             [
              0.6666666666666666,
              "#ed7953"
             ],
             [
              0.7777777777777778,
              "#fb9f3a"
             ],
             [
              0.8888888888888888,
              "#fdca26"
             ],
             [
              1,
              "#f0f921"
             ]
            ],
            "type": "heatmap"
           }
          ],
          "heatmapgl": [
           {
            "colorbar": {
             "outlinewidth": 0,
             "ticks": ""
            },
            "colorscale": [
             [
              0,
              "#0d0887"
             ],
             [
              0.1111111111111111,
              "#46039f"
             ],
             [
              0.2222222222222222,
              "#7201a8"
             ],
             [
              0.3333333333333333,
              "#9c179e"
             ],
             [
              0.4444444444444444,
              "#bd3786"
             ],
             [
              0.5555555555555556,
              "#d8576b"
             ],
             [
              0.6666666666666666,
              "#ed7953"
             ],
             [
              0.7777777777777778,
              "#fb9f3a"
             ],
             [
              0.8888888888888888,
              "#fdca26"
             ],
             [
              1,
              "#f0f921"
             ]
            ],
            "type": "heatmapgl"
           }
          ],
          "histogram": [
           {
            "marker": {
             "pattern": {
              "fillmode": "overlay",
              "size": 10,
              "solidity": 0.2
             }
            },
            "type": "histogram"
           }
          ],
          "histogram2d": [
           {
            "colorbar": {
             "outlinewidth": 0,
             "ticks": ""
            },
            "colorscale": [
             [
              0,
              "#0d0887"
             ],
             [
              0.1111111111111111,
              "#46039f"
             ],
             [
              0.2222222222222222,
              "#7201a8"
             ],
             [
              0.3333333333333333,
              "#9c179e"
             ],
             [
              0.4444444444444444,
              "#bd3786"
             ],
             [
              0.5555555555555556,
              "#d8576b"
             ],
             [
              0.6666666666666666,
              "#ed7953"
             ],
             [
              0.7777777777777778,
              "#fb9f3a"
             ],
             [
              0.8888888888888888,
              "#fdca26"
             ],
             [
              1,
              "#f0f921"
             ]
            ],
            "type": "histogram2d"
           }
          ],
          "histogram2dcontour": [
           {
            "colorbar": {
             "outlinewidth": 0,
             "ticks": ""
            },
            "colorscale": [
             [
              0,
              "#0d0887"
             ],
             [
              0.1111111111111111,
              "#46039f"
             ],
             [
              0.2222222222222222,
              "#7201a8"
             ],
             [
              0.3333333333333333,
              "#9c179e"
             ],
             [
              0.4444444444444444,
              "#bd3786"
             ],
             [
              0.5555555555555556,
              "#d8576b"
             ],
             [
              0.6666666666666666,
              "#ed7953"
             ],
             [
              0.7777777777777778,
              "#fb9f3a"
             ],
             [
              0.8888888888888888,
              "#fdca26"
             ],
             [
              1,
              "#f0f921"
             ]
            ],
            "type": "histogram2dcontour"
           }
          ],
          "mesh3d": [
           {
            "colorbar": {
             "outlinewidth": 0,
             "ticks": ""
            },
            "type": "mesh3d"
           }
          ],
          "parcoords": [
           {
            "line": {
             "colorbar": {
              "outlinewidth": 0,
              "ticks": ""
             }
            },
            "type": "parcoords"
           }
          ],
          "pie": [
           {
            "automargin": true,
            "type": "pie"
           }
          ],
          "scatter": [
           {
            "fillpattern": {
             "fillmode": "overlay",
             "size": 10,
             "solidity": 0.2
            },
            "type": "scatter"
           }
          ],
          "scatter3d": [
           {
            "line": {
             "colorbar": {
              "outlinewidth": 0,
              "ticks": ""
             }
            },
            "marker": {
             "colorbar": {
              "outlinewidth": 0,
              "ticks": ""
             }
            },
            "type": "scatter3d"
           }
          ],
          "scattercarpet": [
           {
            "marker": {
             "colorbar": {
              "outlinewidth": 0,
              "ticks": ""
             }
            },
            "type": "scattercarpet"
           }
          ],
          "scattergeo": [
           {
            "marker": {
             "colorbar": {
              "outlinewidth": 0,
              "ticks": ""
             }
            },
            "type": "scattergeo"
           }
          ],
          "scattergl": [
           {
            "marker": {
             "colorbar": {
              "outlinewidth": 0,
              "ticks": ""
             }
            },
            "type": "scattergl"
           }
          ],
          "scattermapbox": [
           {
            "marker": {
             "colorbar": {
              "outlinewidth": 0,
              "ticks": ""
             }
            },
            "type": "scattermapbox"
           }
          ],
          "scatterpolar": [
           {
            "marker": {
             "colorbar": {
              "outlinewidth": 0,
              "ticks": ""
             }
            },
            "type": "scatterpolar"
           }
          ],
          "scatterpolargl": [
           {
            "marker": {
             "colorbar": {
              "outlinewidth": 0,
              "ticks": ""
             }
            },
            "type": "scatterpolargl"
           }
          ],
          "scatterternary": [
           {
            "marker": {
             "colorbar": {
              "outlinewidth": 0,
              "ticks": ""
             }
            },
            "type": "scatterternary"
           }
          ],
          "surface": [
           {
            "colorbar": {
             "outlinewidth": 0,
             "ticks": ""
            },
            "colorscale": [
             [
              0,
              "#0d0887"
             ],
             [
              0.1111111111111111,
              "#46039f"
             ],
             [
              0.2222222222222222,
              "#7201a8"
             ],
             [
              0.3333333333333333,
              "#9c179e"
             ],
             [
              0.4444444444444444,
              "#bd3786"
             ],
             [
              0.5555555555555556,
              "#d8576b"
             ],
             [
              0.6666666666666666,
              "#ed7953"
             ],
             [
              0.7777777777777778,
              "#fb9f3a"
             ],
             [
              0.8888888888888888,
              "#fdca26"
             ],
             [
              1,
              "#f0f921"
             ]
            ],
            "type": "surface"
           }
          ],
          "table": [
           {
            "cells": {
             "fill": {
              "color": "#EBF0F8"
             },
             "line": {
              "color": "white"
             }
            },
            "header": {
             "fill": {
              "color": "#C8D4E3"
             },
             "line": {
              "color": "white"
             }
            },
            "type": "table"
           }
          ]
         },
         "layout": {
          "annotationdefaults": {
           "arrowcolor": "#2a3f5f",
           "arrowhead": 0,
           "arrowwidth": 1
          },
          "autotypenumbers": "strict",
          "coloraxis": {
           "colorbar": {
            "outlinewidth": 0,
            "ticks": ""
           }
          },
          "colorscale": {
           "diverging": [
            [
             0,
             "#8e0152"
            ],
            [
             0.1,
             "#c51b7d"
            ],
            [
             0.2,
             "#de77ae"
            ],
            [
             0.3,
             "#f1b6da"
            ],
            [
             0.4,
             "#fde0ef"
            ],
            [
             0.5,
             "#f7f7f7"
            ],
            [
             0.6,
             "#e6f5d0"
            ],
            [
             0.7,
             "#b8e186"
            ],
            [
             0.8,
             "#7fbc41"
            ],
            [
             0.9,
             "#4d9221"
            ],
            [
             1,
             "#276419"
            ]
           ],
           "sequential": [
            [
             0,
             "#0d0887"
            ],
            [
             0.1111111111111111,
             "#46039f"
            ],
            [
             0.2222222222222222,
             "#7201a8"
            ],
            [
             0.3333333333333333,
             "#9c179e"
            ],
            [
             0.4444444444444444,
             "#bd3786"
            ],
            [
             0.5555555555555556,
             "#d8576b"
            ],
            [
             0.6666666666666666,
             "#ed7953"
            ],
            [
             0.7777777777777778,
             "#fb9f3a"
            ],
            [
             0.8888888888888888,
             "#fdca26"
            ],
            [
             1,
             "#f0f921"
            ]
           ],
           "sequentialminus": [
            [
             0,
             "#0d0887"
            ],
            [
             0.1111111111111111,
             "#46039f"
            ],
            [
             0.2222222222222222,
             "#7201a8"
            ],
            [
             0.3333333333333333,
             "#9c179e"
            ],
            [
             0.4444444444444444,
             "#bd3786"
            ],
            [
             0.5555555555555556,
             "#d8576b"
            ],
            [
             0.6666666666666666,
             "#ed7953"
            ],
            [
             0.7777777777777778,
             "#fb9f3a"
            ],
            [
             0.8888888888888888,
             "#fdca26"
            ],
            [
             1,
             "#f0f921"
            ]
           ]
          },
          "colorway": [
           "#636efa",
           "#EF553B",
           "#00cc96",
           "#ab63fa",
           "#FFA15A",
           "#19d3f3",
           "#FF6692",
           "#B6E880",
           "#FF97FF",
           "#FECB52"
          ],
          "font": {
           "color": "#2a3f5f"
          },
          "geo": {
           "bgcolor": "white",
           "lakecolor": "white",
           "landcolor": "#E5ECF6",
           "showlakes": true,
           "showland": true,
           "subunitcolor": "white"
          },
          "hoverlabel": {
           "align": "left"
          },
          "hovermode": "closest",
          "mapbox": {
           "style": "light"
          },
          "paper_bgcolor": "white",
          "plot_bgcolor": "#E5ECF6",
          "polar": {
           "angularaxis": {
            "gridcolor": "white",
            "linecolor": "white",
            "ticks": ""
           },
           "bgcolor": "#E5ECF6",
           "radialaxis": {
            "gridcolor": "white",
            "linecolor": "white",
            "ticks": ""
           }
          },
          "scene": {
           "xaxis": {
            "backgroundcolor": "#E5ECF6",
            "gridcolor": "white",
            "gridwidth": 2,
            "linecolor": "white",
            "showbackground": true,
            "ticks": "",
            "zerolinecolor": "white"
           },
           "yaxis": {
            "backgroundcolor": "#E5ECF6",
            "gridcolor": "white",
            "gridwidth": 2,
            "linecolor": "white",
            "showbackground": true,
            "ticks": "",
            "zerolinecolor": "white"
           },
           "zaxis": {
            "backgroundcolor": "#E5ECF6",
            "gridcolor": "white",
            "gridwidth": 2,
            "linecolor": "white",
            "showbackground": true,
            "ticks": "",
            "zerolinecolor": "white"
           }
          },
          "shapedefaults": {
           "line": {
            "color": "#2a3f5f"
           }
          },
          "ternary": {
           "aaxis": {
            "gridcolor": "white",
            "linecolor": "white",
            "ticks": ""
           },
           "baxis": {
            "gridcolor": "white",
            "linecolor": "white",
            "ticks": ""
           },
           "bgcolor": "#E5ECF6",
           "caxis": {
            "gridcolor": "white",
            "linecolor": "white",
            "ticks": ""
           }
          },
          "title": {
           "x": 0.05
          },
          "xaxis": {
           "automargin": true,
           "gridcolor": "white",
           "linecolor": "white",
           "ticks": "",
           "title": {
            "standoff": 15
           },
           "zerolinecolor": "white",
           "zerolinewidth": 2
          },
          "yaxis": {
           "automargin": true,
           "gridcolor": "white",
           "linecolor": "white",
           "ticks": "",
           "title": {
            "standoff": 15
           },
           "zerolinecolor": "white",
           "zerolinewidth": 2
          }
         }
        },
        "title": {
         "text": "Type of Persuasion used in UK and French Tweets"
        },
        "width": 1200,
        "xaxis": {
         "title": {
          "text": "Percentage"
         }
        },
        "yaxis": {
         "title": {
          "text": "Labels"
         }
        }
       }
      }
     },
     "metadata": {},
     "output_type": "display_data"
    }
   ],
   "source": [
    "import json\n",
    "import plotly.graph_objects as go\n",
    "from collections import Counter\n",
    "import networkx as nx\n",
    "\n",
    "def preprocess_tweets(data):\n",
    "    tweets_by_label = {}\n",
    "    for item in data:\n",
    "        tweet = item['tweet']\n",
    "        labels = item['labels']\n",
    "        for label in labels:\n",
    "            if label not in tweets_by_label:\n",
    "                tweets_by_label[label] = []\n",
    "            tweets_by_label[label].append(tweet)\n",
    "    return tweets_by_label\n",
    "\n",
    "def comparable_sorting_visualize_label_percentages_interactive(uk_json_file_path, fr_json_file_path, plot_title, save_path=None, width=1200):\n",
    "    # Read UK JSON file\n",
    "    with open(uk_json_file_path, 'r', encoding='utf-8') as uk_file:\n",
    "        uk_data = json.load(uk_file)\n",
    "    \n",
    "    # Preprocess UK tweets to create a dictionary of tweets by label\n",
    "    uk_tweets_by_label = preprocess_tweets(uk_data)\n",
    "    \n",
    "    # Read French JSON file\n",
    "    with open(fr_json_file_path, 'r', encoding='utf-8') as fr_file:\n",
    "        fr_data = json.load(fr_file)\n",
    "    \n",
    "    # Preprocess French tweets to create a dictionary of tweets by label\n",
    "    fr_tweets_by_label = preprocess_tweets(fr_data)\n",
    "    \n",
    "    # Extract labels from UK JSON data\n",
    "    uk_all_labels = [label for item in uk_data for label in item['labels'] if label != \"Pathos\"]\n",
    "    \n",
    "    # Count occurrences of each label in UK data\n",
    "    uk_label_counts = Counter(uk_all_labels)\n",
    "    \n",
    "    # Extract labels from French JSON data\n",
    "    fr_all_labels = [label for item in fr_data for label in item['labels'] if label != \"Pathos\"]\n",
    "    \n",
    "    # Count occurrences of each label in French data\n",
    "    fr_label_counts = Counter(fr_all_labels)\n",
    "    \n",
    "    # Create directed graph for sorting\n",
    "    G = nx.DiGraph()\n",
    "    G.add_edge(\"ROOT\", \"Logos\")\n",
    "    G.add_edge(\"Logos\", \"Repetition\")\n",
    "    G.add_edge(\"Logos\", \"Obfuscation, Intentional vagueness, Confusion\")\n",
    "    G.add_edge(\"Logos\", \"Reasoning\")\n",
    "    G.add_edge(\"Logos\", \"Justification\")\n",
    "    G.add_edge(\"Justification\", \"Slogans\")\n",
    "    G.add_edge(\"Justification\", \"Bandwagon\")\n",
    "    G.add_edge(\"Justification\", \"Appeal to authority\")\n",
    "    G.add_edge(\"Justification\", \"Flag-waving\")\n",
    "    G.add_edge(\"Justification\", \"Appeal to fear/prejudice\")\n",
    "    G.add_edge(\"Reasoning\", \"Simplification\")\n",
    "    G.add_edge(\"Simplification\", \"Causal Oversimplification\")\n",
    "    G.add_edge(\"Simplification\", \"Black-and-white Fallacy/Dictatorship\")\n",
    "    G.add_edge(\"Simplification\", \"Thought-terminating cliché\")\n",
    "    G.add_edge(\"Reasoning\", \"Distraction\")\n",
    "    G.add_edge(\"Distraction\", \"Misrepresentation of Someone's Position (Straw Man)\")\n",
    "    G.add_edge(\"Distraction\", \"Presenting Irrelevant Data (Red Herring)\")\n",
    "    G.add_edge(\"Distraction\", \"Whataboutism\")\n",
    "    G.add_edge(\"ROOT\", \"Ethos\")\n",
    "    G.add_edge(\"Ethos\", \"Appeal to authority\")\n",
    "    G.add_edge(\"Ethos\", \"Glittering generalities (Virtue)\")\n",
    "    G.add_edge(\"Ethos\", \"Bandwagon\")\n",
    "    G.add_edge(\"Ethos\", \"Ad Hominem\")\n",
    "    G.add_edge(\"Ethos\", \"Transfer\")\n",
    "    G.add_edge(\"Ad Hominem\", \"Doubt\")\n",
    "    G.add_edge(\"Ad Hominem\", \"Name calling/Labeling\")\n",
    "    G.add_edge(\"Ad Hominem\", \"Smears\")\n",
    "    G.add_edge(\"Ad Hominem\", \"Reductio ad hitlerum\")\n",
    "    G.add_edge(\"Ad Hominem\", \"Whataboutism\")\n",
    "    G.add_edge(\"ROOT\", \"Pathos\")\n",
    "    G.add_edge(\"Pathos\", \"Exaggeration/Minimisation\")\n",
    "    G.add_edge(\"Pathos\", \"Loaded Language\")\n",
    "    G.add_edge(\"Pathos\", \"Appeal to (Strong) Emotions\")\n",
    "    G.add_edge(\"Pathos\", \"Appeal to fear/prejudice\")\n",
    "    G.add_edge(\"Pathos\", \"Flag-waving\")\n",
    "    G.add_edge(\"Pathos\", \"Transfer\")\n",
    "\n",
    "    # Topologically sort labels\n",
    "    sorted_labels = list(nx.topological_sort(G))\n",
    "    \n",
    "    # Remove labels not found in the data\n",
    "    sorted_labels = [label for label in sorted_labels if label in uk_label_counts or label in fr_label_counts]\n",
    "    \n",
    "    # Initialize lists for storing data for both UK and French\n",
    "    uk_percentages = []\n",
    "    fr_percentages = []\n",
    "    uk_hover_texts = []\n",
    "    fr_hover_texts = []\n",
    "    \n",
    "    # Calculate total counts for UK and French\n",
    "    uk_total_count = sum(uk_label_counts.values())\n",
    "    fr_total_count = sum(fr_label_counts.values())\n",
    "    \n",
    "    # Iterate through sorted labels to populate data for both UK and French\n",
    "    for label in sorted_labels:\n",
    "        # UK data\n",
    "        uk_count = uk_label_counts.get(label, 0)\n",
    "        uk_percentage = uk_count / uk_total_count * 100 if uk_total_count > 0 else 0\n",
    "        uk_percentages.append(uk_percentage)\n",
    "        uk_hover_text = ''\n",
    "        if label in uk_tweets_by_label:\n",
    "            uk_tweets = uk_tweets_by_label[label][:5]  # Limit to 5 tweets\n",
    "            uk_hover_text = f'UK {label}:<br>' + '<br>'.join(uk_tweets)\n",
    "        uk_hover_texts.append(uk_hover_text)\n",
    "        \n",
    "        # French data\n",
    "        fr_count = fr_label_counts.get(label, 0)\n",
    "        fr_percentage = fr_count / fr_total_count * 100 if fr_total_count > 0 else 0\n",
    "        fr_percentages.append(fr_percentage)\n",
    "        fr_hover_text = ''\n",
    "        if label in fr_tweets_by_label:\n",
    "            fr_tweets = fr_tweets_by_label[label][:5]  # Limit to 5 tweets\n",
    "            fr_hover_text = f'French {label}:<br>' + '<br>'.join(fr_tweets)\n",
    "        fr_hover_texts.append(fr_hover_text)\n",
    "    \n",
    "    # Create bar chart\n",
    "    fig = go.Figure()\n",
    "    # Add UK bar\n",
    "    fig.add_trace(go.Bar(\n",
    "        x=uk_percentages,\n",
    "        y=sorted_labels,\n",
    "        name='UK',\n",
    "        orientation='h',\n",
    "        hovertext=uk_hover_texts,\n",
    "        marker=dict(color='crimson')\n",
    "    ))\n",
    "    # Add French bar\n",
    "    fig.add_trace(go.Bar(\n",
    "        x=fr_percentages,\n",
    "        y=sorted_labels,\n",
    "        name='French',\n",
    "        orientation='h',\n",
    "        hovertext=fr_hover_texts,\n",
    "        marker=dict(color='darkcyan')\n",
    "    ))\n",
    "    \n",
    "    # Customize layout\n",
    "    fig.update_layout(\n",
    "        title=plot_title,\n",
    "        xaxis_title='Percentage',\n",
    "        yaxis_title='Labels',\n",
    "        hovermode='closest',\n",
    "        height=800,\n",
    "        width=width,\n",
    "        barmode='group'  # Group bars\n",
    "    )\n",
    "    \n",
    "    # Save plot as HTML file if save_path is provided\n",
    "    if save_path:\n",
    "        fig.write_html(save_path)\n",
    "    else:\n",
    "        # Show plot\n",
    "        fig.show()\n",
    "\n",
    "# Example usage:\n",
    "uk_json_file_path = '../data/UK-migr-2012-2022-tweets-persuasion.json'\n",
    "fr_json_file_path = '../data/FR-migr-2011-2022-tweets-persuasion.json'\n",
    "save_path = '../plots/interactive-persuasion-comparison-with-examples.html'\n",
    "comparable_sorting_visualize_label_percentages_interactive(uk_json_file_path, fr_json_file_path, plot_title='Type of Persuasion used in UK and French Tweets', save_path=save_path)\n",
    "comparable_sorting_visualize_label_percentages_interactive(uk_json_file_path, fr_json_file_path, plot_title='Type of Persuasion used in UK and French Tweets')"
   ]
  }
 ],
 "metadata": {
  "kernelspec": {
   "display_name": "march-of-nationalism",
   "language": "python",
   "name": "python3"
  },
  "language_info": {
   "codemirror_mode": {
    "name": "ipython",
    "version": 3
   },
   "file_extension": ".py",
   "mimetype": "text/x-python",
   "name": "python",
   "nbconvert_exporter": "python",
   "pygments_lexer": "ipython3",
   "version": "3.11.7"
  }
 },
 "nbformat": 4,
 "nbformat_minor": 2
}
